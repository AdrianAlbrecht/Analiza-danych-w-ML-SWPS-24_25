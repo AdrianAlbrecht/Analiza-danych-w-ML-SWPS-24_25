{
 "cells": [
  {
   "cell_type": "markdown",
   "metadata": {
    "id": "mqsZaYd_ydrr"
   },
   "source": [
    "Biblioteka **Scikit-learn** to narzędzie stworzone z myslą o projektowaniu systemów uczących się. Dzięki ujednoliconemu interfejsowi (metody *fit*, *transform* i *predict*), trening i zastosowanie estymatorów jest równie intuicyjne, co wykorzystanie metod przetwarzających dane."
   ]
  },
  {
   "cell_type": "markdown",
   "metadata": {
    "id": "Aua9irpN0GiJ"
   },
   "source": [
    "## Klasyfikacja"
   ]
  },
  {
   "cell_type": "markdown",
   "metadata": {
    "id": "epfucHlT0O9N"
   },
   "source": [
    "Klasyfikacja to proces przypisywania obiektów do określonych klas decyzyjnych pochodzących ze skończonego zbioru, na podstawie ich cech lub właściwości. Modele decyzyjne, stanowiące podstawę procesu klasyfikacji, konstruuje się na podstawie szerokiej gamy metod matematycznych, takich jak optymalizacja, czy wnioskowanie logiczne i bayesowskie. Ostateczna skuteczność procesu klasyfikacji zależy od wyboru odpowiednich atrybutów, algorytmu oraz optymalnych parametrów i hiperparametrów modelu."
   ]
  },
  {
   "cell_type": "code",
   "execution_count": 23,
   "metadata": {
    "ExecuteTime": {
     "end_time": "2023-12-19T12:00:31.379219Z",
     "start_time": "2023-12-19T12:00:31.229490Z"
    },
    "id": "sS6vyJUa6KGI"
   },
   "outputs": [],
   "source": [
    "import pandas as pd\n",
    "from sklearn.preprocessing import MinMaxScaler\n",
    "from sklearn.metrics import accuracy_score, balanced_accuracy_score"
   ]
  },
  {
   "cell_type": "code",
   "execution_count": 24,
   "metadata": {
    "ExecuteTime": {
     "end_time": "2023-12-19T12:00:32.873954Z",
     "start_time": "2023-12-19T12:00:31.233866Z"
    },
    "id": "K7mdJXZ76Nma"
   },
   "outputs": [],
   "source": [
    "mnist_train = pd.read_csv('../data/mnist_train.csv', names=['digit'] + [f'px_{i + 1}' for i in range(784)], skiprows = 1)\n",
    "mnist_test = pd.read_csv('../data/mnist_test.csv', names=['digit'] + [f'px_{i + 1}' for i in range(784)], skiprows = 1)"
   ]
  },
  {
   "cell_type": "markdown",
   "metadata": {
    "id": "onx5uFtOuCbq"
   },
   "source": [
    "# Wprowadzenie do systemów uczących się i uczenia nazdorowanego"
   ]
  },
  {
   "cell_type": "code",
   "execution_count": 25,
   "metadata": {
    "ExecuteTime": {
     "end_time": "2023-12-19T12:00:32.883880Z",
     "start_time": "2023-12-19T12:00:31.941907Z"
    },
    "colab": {
     "base_uri": "https://localhost:8080/",
     "height": 419
    },
    "id": "T-wKoqth6Rtr",
    "outputId": "6d07879d-c142-4a17-8561-a5c2923e0502"
   },
   "outputs": [
    {
     "data": {
      "text/html": [
       "<div>\n",
       "<style scoped>\n",
       "    .dataframe tbody tr th:only-of-type {\n",
       "        vertical-align: middle;\n",
       "    }\n",
       "\n",
       "    .dataframe tbody tr th {\n",
       "        vertical-align: top;\n",
       "    }\n",
       "\n",
       "    .dataframe thead th {\n",
       "        text-align: right;\n",
       "    }\n",
       "</style>\n",
       "<table border=\"1\" class=\"dataframe\">\n",
       "  <thead>\n",
       "    <tr style=\"text-align: right;\">\n",
       "      <th></th>\n",
       "      <th>digit</th>\n",
       "      <th>px_1</th>\n",
       "      <th>px_2</th>\n",
       "      <th>px_3</th>\n",
       "      <th>px_4</th>\n",
       "      <th>px_5</th>\n",
       "      <th>px_6</th>\n",
       "      <th>px_7</th>\n",
       "      <th>px_8</th>\n",
       "      <th>px_9</th>\n",
       "      <th>...</th>\n",
       "      <th>px_775</th>\n",
       "      <th>px_776</th>\n",
       "      <th>px_777</th>\n",
       "      <th>px_778</th>\n",
       "      <th>px_779</th>\n",
       "      <th>px_780</th>\n",
       "      <th>px_781</th>\n",
       "      <th>px_782</th>\n",
       "      <th>px_783</th>\n",
       "      <th>px_784</th>\n",
       "    </tr>\n",
       "  </thead>\n",
       "  <tbody>\n",
       "    <tr>\n",
       "      <th>0</th>\n",
       "      <td>5</td>\n",
       "      <td>0</td>\n",
       "      <td>0</td>\n",
       "      <td>0</td>\n",
       "      <td>0</td>\n",
       "      <td>0</td>\n",
       "      <td>0</td>\n",
       "      <td>0</td>\n",
       "      <td>0</td>\n",
       "      <td>0</td>\n",
       "      <td>...</td>\n",
       "      <td>0</td>\n",
       "      <td>0</td>\n",
       "      <td>0</td>\n",
       "      <td>0</td>\n",
       "      <td>0</td>\n",
       "      <td>0</td>\n",
       "      <td>0</td>\n",
       "      <td>0</td>\n",
       "      <td>0</td>\n",
       "      <td>0</td>\n",
       "    </tr>\n",
       "    <tr>\n",
       "      <th>1</th>\n",
       "      <td>0</td>\n",
       "      <td>0</td>\n",
       "      <td>0</td>\n",
       "      <td>0</td>\n",
       "      <td>0</td>\n",
       "      <td>0</td>\n",
       "      <td>0</td>\n",
       "      <td>0</td>\n",
       "      <td>0</td>\n",
       "      <td>0</td>\n",
       "      <td>...</td>\n",
       "      <td>0</td>\n",
       "      <td>0</td>\n",
       "      <td>0</td>\n",
       "      <td>0</td>\n",
       "      <td>0</td>\n",
       "      <td>0</td>\n",
       "      <td>0</td>\n",
       "      <td>0</td>\n",
       "      <td>0</td>\n",
       "      <td>0</td>\n",
       "    </tr>\n",
       "    <tr>\n",
       "      <th>2</th>\n",
       "      <td>4</td>\n",
       "      <td>0</td>\n",
       "      <td>0</td>\n",
       "      <td>0</td>\n",
       "      <td>0</td>\n",
       "      <td>0</td>\n",
       "      <td>0</td>\n",
       "      <td>0</td>\n",
       "      <td>0</td>\n",
       "      <td>0</td>\n",
       "      <td>...</td>\n",
       "      <td>0</td>\n",
       "      <td>0</td>\n",
       "      <td>0</td>\n",
       "      <td>0</td>\n",
       "      <td>0</td>\n",
       "      <td>0</td>\n",
       "      <td>0</td>\n",
       "      <td>0</td>\n",
       "      <td>0</td>\n",
       "      <td>0</td>\n",
       "    </tr>\n",
       "    <tr>\n",
       "      <th>3</th>\n",
       "      <td>1</td>\n",
       "      <td>0</td>\n",
       "      <td>0</td>\n",
       "      <td>0</td>\n",
       "      <td>0</td>\n",
       "      <td>0</td>\n",
       "      <td>0</td>\n",
       "      <td>0</td>\n",
       "      <td>0</td>\n",
       "      <td>0</td>\n",
       "      <td>...</td>\n",
       "      <td>0</td>\n",
       "      <td>0</td>\n",
       "      <td>0</td>\n",
       "      <td>0</td>\n",
       "      <td>0</td>\n",
       "      <td>0</td>\n",
       "      <td>0</td>\n",
       "      <td>0</td>\n",
       "      <td>0</td>\n",
       "      <td>0</td>\n",
       "    </tr>\n",
       "    <tr>\n",
       "      <th>4</th>\n",
       "      <td>9</td>\n",
       "      <td>0</td>\n",
       "      <td>0</td>\n",
       "      <td>0</td>\n",
       "      <td>0</td>\n",
       "      <td>0</td>\n",
       "      <td>0</td>\n",
       "      <td>0</td>\n",
       "      <td>0</td>\n",
       "      <td>0</td>\n",
       "      <td>...</td>\n",
       "      <td>0</td>\n",
       "      <td>0</td>\n",
       "      <td>0</td>\n",
       "      <td>0</td>\n",
       "      <td>0</td>\n",
       "      <td>0</td>\n",
       "      <td>0</td>\n",
       "      <td>0</td>\n",
       "      <td>0</td>\n",
       "      <td>0</td>\n",
       "    </tr>\n",
       "    <tr>\n",
       "      <th>...</th>\n",
       "      <td>...</td>\n",
       "      <td>...</td>\n",
       "      <td>...</td>\n",
       "      <td>...</td>\n",
       "      <td>...</td>\n",
       "      <td>...</td>\n",
       "      <td>...</td>\n",
       "      <td>...</td>\n",
       "      <td>...</td>\n",
       "      <td>...</td>\n",
       "      <td>...</td>\n",
       "      <td>...</td>\n",
       "      <td>...</td>\n",
       "      <td>...</td>\n",
       "      <td>...</td>\n",
       "      <td>...</td>\n",
       "      <td>...</td>\n",
       "      <td>...</td>\n",
       "      <td>...</td>\n",
       "      <td>...</td>\n",
       "      <td>...</td>\n",
       "    </tr>\n",
       "    <tr>\n",
       "      <th>59995</th>\n",
       "      <td>8</td>\n",
       "      <td>0</td>\n",
       "      <td>0</td>\n",
       "      <td>0</td>\n",
       "      <td>0</td>\n",
       "      <td>0</td>\n",
       "      <td>0</td>\n",
       "      <td>0</td>\n",
       "      <td>0</td>\n",
       "      <td>0</td>\n",
       "      <td>...</td>\n",
       "      <td>0</td>\n",
       "      <td>0</td>\n",
       "      <td>0</td>\n",
       "      <td>0</td>\n",
       "      <td>0</td>\n",
       "      <td>0</td>\n",
       "      <td>0</td>\n",
       "      <td>0</td>\n",
       "      <td>0</td>\n",
       "      <td>0</td>\n",
       "    </tr>\n",
       "    <tr>\n",
       "      <th>59996</th>\n",
       "      <td>3</td>\n",
       "      <td>0</td>\n",
       "      <td>0</td>\n",
       "      <td>0</td>\n",
       "      <td>0</td>\n",
       "      <td>0</td>\n",
       "      <td>0</td>\n",
       "      <td>0</td>\n",
       "      <td>0</td>\n",
       "      <td>0</td>\n",
       "      <td>...</td>\n",
       "      <td>0</td>\n",
       "      <td>0</td>\n",
       "      <td>0</td>\n",
       "      <td>0</td>\n",
       "      <td>0</td>\n",
       "      <td>0</td>\n",
       "      <td>0</td>\n",
       "      <td>0</td>\n",
       "      <td>0</td>\n",
       "      <td>0</td>\n",
       "    </tr>\n",
       "    <tr>\n",
       "      <th>59997</th>\n",
       "      <td>5</td>\n",
       "      <td>0</td>\n",
       "      <td>0</td>\n",
       "      <td>0</td>\n",
       "      <td>0</td>\n",
       "      <td>0</td>\n",
       "      <td>0</td>\n",
       "      <td>0</td>\n",
       "      <td>0</td>\n",
       "      <td>0</td>\n",
       "      <td>...</td>\n",
       "      <td>0</td>\n",
       "      <td>0</td>\n",
       "      <td>0</td>\n",
       "      <td>0</td>\n",
       "      <td>0</td>\n",
       "      <td>0</td>\n",
       "      <td>0</td>\n",
       "      <td>0</td>\n",
       "      <td>0</td>\n",
       "      <td>0</td>\n",
       "    </tr>\n",
       "    <tr>\n",
       "      <th>59998</th>\n",
       "      <td>6</td>\n",
       "      <td>0</td>\n",
       "      <td>0</td>\n",
       "      <td>0</td>\n",
       "      <td>0</td>\n",
       "      <td>0</td>\n",
       "      <td>0</td>\n",
       "      <td>0</td>\n",
       "      <td>0</td>\n",
       "      <td>0</td>\n",
       "      <td>...</td>\n",
       "      <td>0</td>\n",
       "      <td>0</td>\n",
       "      <td>0</td>\n",
       "      <td>0</td>\n",
       "      <td>0</td>\n",
       "      <td>0</td>\n",
       "      <td>0</td>\n",
       "      <td>0</td>\n",
       "      <td>0</td>\n",
       "      <td>0</td>\n",
       "    </tr>\n",
       "    <tr>\n",
       "      <th>59999</th>\n",
       "      <td>8</td>\n",
       "      <td>0</td>\n",
       "      <td>0</td>\n",
       "      <td>0</td>\n",
       "      <td>0</td>\n",
       "      <td>0</td>\n",
       "      <td>0</td>\n",
       "      <td>0</td>\n",
       "      <td>0</td>\n",
       "      <td>0</td>\n",
       "      <td>...</td>\n",
       "      <td>0</td>\n",
       "      <td>0</td>\n",
       "      <td>0</td>\n",
       "      <td>0</td>\n",
       "      <td>0</td>\n",
       "      <td>0</td>\n",
       "      <td>0</td>\n",
       "      <td>0</td>\n",
       "      <td>0</td>\n",
       "      <td>0</td>\n",
       "    </tr>\n",
       "  </tbody>\n",
       "</table>\n",
       "<p>60000 rows × 785 columns</p>\n",
       "</div>"
      ],
      "text/plain": [
       "       digit  px_1  px_2  px_3  px_4  px_5  px_6  px_7  px_8  px_9  ...  \\\n",
       "0          5     0     0     0     0     0     0     0     0     0  ...   \n",
       "1          0     0     0     0     0     0     0     0     0     0  ...   \n",
       "2          4     0     0     0     0     0     0     0     0     0  ...   \n",
       "3          1     0     0     0     0     0     0     0     0     0  ...   \n",
       "4          9     0     0     0     0     0     0     0     0     0  ...   \n",
       "...      ...   ...   ...   ...   ...   ...   ...   ...   ...   ...  ...   \n",
       "59995      8     0     0     0     0     0     0     0     0     0  ...   \n",
       "59996      3     0     0     0     0     0     0     0     0     0  ...   \n",
       "59997      5     0     0     0     0     0     0     0     0     0  ...   \n",
       "59998      6     0     0     0     0     0     0     0     0     0  ...   \n",
       "59999      8     0     0     0     0     0     0     0     0     0  ...   \n",
       "\n",
       "       px_775  px_776  px_777  px_778  px_779  px_780  px_781  px_782  px_783  \\\n",
       "0           0       0       0       0       0       0       0       0       0   \n",
       "1           0       0       0       0       0       0       0       0       0   \n",
       "2           0       0       0       0       0       0       0       0       0   \n",
       "3           0       0       0       0       0       0       0       0       0   \n",
       "4           0       0       0       0       0       0       0       0       0   \n",
       "...       ...     ...     ...     ...     ...     ...     ...     ...     ...   \n",
       "59995       0       0       0       0       0       0       0       0       0   \n",
       "59996       0       0       0       0       0       0       0       0       0   \n",
       "59997       0       0       0       0       0       0       0       0       0   \n",
       "59998       0       0       0       0       0       0       0       0       0   \n",
       "59999       0       0       0       0       0       0       0       0       0   \n",
       "\n",
       "       px_784  \n",
       "0           0  \n",
       "1           0  \n",
       "2           0  \n",
       "3           0  \n",
       "4           0  \n",
       "...       ...  \n",
       "59995       0  \n",
       "59996       0  \n",
       "59997       0  \n",
       "59998       0  \n",
       "59999       0  \n",
       "\n",
       "[60000 rows x 785 columns]"
      ]
     },
     "execution_count": 25,
     "metadata": {},
     "output_type": "execute_result"
    }
   ],
   "source": [
    "mnist_train"
   ]
  },
  {
   "cell_type": "code",
   "execution_count": 26,
   "metadata": {},
   "outputs": [
    {
     "data": {
      "text/html": [
       "<div>\n",
       "<style scoped>\n",
       "    .dataframe tbody tr th:only-of-type {\n",
       "        vertical-align: middle;\n",
       "    }\n",
       "\n",
       "    .dataframe tbody tr th {\n",
       "        vertical-align: top;\n",
       "    }\n",
       "\n",
       "    .dataframe thead th {\n",
       "        text-align: right;\n",
       "    }\n",
       "</style>\n",
       "<table border=\"1\" class=\"dataframe\">\n",
       "  <thead>\n",
       "    <tr style=\"text-align: right;\">\n",
       "      <th></th>\n",
       "      <th>digit</th>\n",
       "      <th>px_1</th>\n",
       "      <th>px_2</th>\n",
       "      <th>px_3</th>\n",
       "      <th>px_4</th>\n",
       "      <th>px_5</th>\n",
       "      <th>px_6</th>\n",
       "      <th>px_7</th>\n",
       "      <th>px_8</th>\n",
       "      <th>px_9</th>\n",
       "      <th>...</th>\n",
       "      <th>px_775</th>\n",
       "      <th>px_776</th>\n",
       "      <th>px_777</th>\n",
       "      <th>px_778</th>\n",
       "      <th>px_779</th>\n",
       "      <th>px_780</th>\n",
       "      <th>px_781</th>\n",
       "      <th>px_782</th>\n",
       "      <th>px_783</th>\n",
       "      <th>px_784</th>\n",
       "    </tr>\n",
       "  </thead>\n",
       "  <tbody>\n",
       "    <tr>\n",
       "      <th>0</th>\n",
       "      <td>7</td>\n",
       "      <td>0</td>\n",
       "      <td>0</td>\n",
       "      <td>0</td>\n",
       "      <td>0</td>\n",
       "      <td>0</td>\n",
       "      <td>0</td>\n",
       "      <td>0</td>\n",
       "      <td>0</td>\n",
       "      <td>0</td>\n",
       "      <td>...</td>\n",
       "      <td>0</td>\n",
       "      <td>0</td>\n",
       "      <td>0</td>\n",
       "      <td>0</td>\n",
       "      <td>0</td>\n",
       "      <td>0</td>\n",
       "      <td>0</td>\n",
       "      <td>0</td>\n",
       "      <td>0</td>\n",
       "      <td>0</td>\n",
       "    </tr>\n",
       "    <tr>\n",
       "      <th>1</th>\n",
       "      <td>2</td>\n",
       "      <td>0</td>\n",
       "      <td>0</td>\n",
       "      <td>0</td>\n",
       "      <td>0</td>\n",
       "      <td>0</td>\n",
       "      <td>0</td>\n",
       "      <td>0</td>\n",
       "      <td>0</td>\n",
       "      <td>0</td>\n",
       "      <td>...</td>\n",
       "      <td>0</td>\n",
       "      <td>0</td>\n",
       "      <td>0</td>\n",
       "      <td>0</td>\n",
       "      <td>0</td>\n",
       "      <td>0</td>\n",
       "      <td>0</td>\n",
       "      <td>0</td>\n",
       "      <td>0</td>\n",
       "      <td>0</td>\n",
       "    </tr>\n",
       "    <tr>\n",
       "      <th>2</th>\n",
       "      <td>1</td>\n",
       "      <td>0</td>\n",
       "      <td>0</td>\n",
       "      <td>0</td>\n",
       "      <td>0</td>\n",
       "      <td>0</td>\n",
       "      <td>0</td>\n",
       "      <td>0</td>\n",
       "      <td>0</td>\n",
       "      <td>0</td>\n",
       "      <td>...</td>\n",
       "      <td>0</td>\n",
       "      <td>0</td>\n",
       "      <td>0</td>\n",
       "      <td>0</td>\n",
       "      <td>0</td>\n",
       "      <td>0</td>\n",
       "      <td>0</td>\n",
       "      <td>0</td>\n",
       "      <td>0</td>\n",
       "      <td>0</td>\n",
       "    </tr>\n",
       "    <tr>\n",
       "      <th>3</th>\n",
       "      <td>0</td>\n",
       "      <td>0</td>\n",
       "      <td>0</td>\n",
       "      <td>0</td>\n",
       "      <td>0</td>\n",
       "      <td>0</td>\n",
       "      <td>0</td>\n",
       "      <td>0</td>\n",
       "      <td>0</td>\n",
       "      <td>0</td>\n",
       "      <td>...</td>\n",
       "      <td>0</td>\n",
       "      <td>0</td>\n",
       "      <td>0</td>\n",
       "      <td>0</td>\n",
       "      <td>0</td>\n",
       "      <td>0</td>\n",
       "      <td>0</td>\n",
       "      <td>0</td>\n",
       "      <td>0</td>\n",
       "      <td>0</td>\n",
       "    </tr>\n",
       "    <tr>\n",
       "      <th>4</th>\n",
       "      <td>4</td>\n",
       "      <td>0</td>\n",
       "      <td>0</td>\n",
       "      <td>0</td>\n",
       "      <td>0</td>\n",
       "      <td>0</td>\n",
       "      <td>0</td>\n",
       "      <td>0</td>\n",
       "      <td>0</td>\n",
       "      <td>0</td>\n",
       "      <td>...</td>\n",
       "      <td>0</td>\n",
       "      <td>0</td>\n",
       "      <td>0</td>\n",
       "      <td>0</td>\n",
       "      <td>0</td>\n",
       "      <td>0</td>\n",
       "      <td>0</td>\n",
       "      <td>0</td>\n",
       "      <td>0</td>\n",
       "      <td>0</td>\n",
       "    </tr>\n",
       "    <tr>\n",
       "      <th>...</th>\n",
       "      <td>...</td>\n",
       "      <td>...</td>\n",
       "      <td>...</td>\n",
       "      <td>...</td>\n",
       "      <td>...</td>\n",
       "      <td>...</td>\n",
       "      <td>...</td>\n",
       "      <td>...</td>\n",
       "      <td>...</td>\n",
       "      <td>...</td>\n",
       "      <td>...</td>\n",
       "      <td>...</td>\n",
       "      <td>...</td>\n",
       "      <td>...</td>\n",
       "      <td>...</td>\n",
       "      <td>...</td>\n",
       "      <td>...</td>\n",
       "      <td>...</td>\n",
       "      <td>...</td>\n",
       "      <td>...</td>\n",
       "      <td>...</td>\n",
       "    </tr>\n",
       "    <tr>\n",
       "      <th>9995</th>\n",
       "      <td>2</td>\n",
       "      <td>0</td>\n",
       "      <td>0</td>\n",
       "      <td>0</td>\n",
       "      <td>0</td>\n",
       "      <td>0</td>\n",
       "      <td>0</td>\n",
       "      <td>0</td>\n",
       "      <td>0</td>\n",
       "      <td>0</td>\n",
       "      <td>...</td>\n",
       "      <td>0</td>\n",
       "      <td>0</td>\n",
       "      <td>0</td>\n",
       "      <td>0</td>\n",
       "      <td>0</td>\n",
       "      <td>0</td>\n",
       "      <td>0</td>\n",
       "      <td>0</td>\n",
       "      <td>0</td>\n",
       "      <td>0</td>\n",
       "    </tr>\n",
       "    <tr>\n",
       "      <th>9996</th>\n",
       "      <td>3</td>\n",
       "      <td>0</td>\n",
       "      <td>0</td>\n",
       "      <td>0</td>\n",
       "      <td>0</td>\n",
       "      <td>0</td>\n",
       "      <td>0</td>\n",
       "      <td>0</td>\n",
       "      <td>0</td>\n",
       "      <td>0</td>\n",
       "      <td>...</td>\n",
       "      <td>0</td>\n",
       "      <td>0</td>\n",
       "      <td>0</td>\n",
       "      <td>0</td>\n",
       "      <td>0</td>\n",
       "      <td>0</td>\n",
       "      <td>0</td>\n",
       "      <td>0</td>\n",
       "      <td>0</td>\n",
       "      <td>0</td>\n",
       "    </tr>\n",
       "    <tr>\n",
       "      <th>9997</th>\n",
       "      <td>4</td>\n",
       "      <td>0</td>\n",
       "      <td>0</td>\n",
       "      <td>0</td>\n",
       "      <td>0</td>\n",
       "      <td>0</td>\n",
       "      <td>0</td>\n",
       "      <td>0</td>\n",
       "      <td>0</td>\n",
       "      <td>0</td>\n",
       "      <td>...</td>\n",
       "      <td>0</td>\n",
       "      <td>0</td>\n",
       "      <td>0</td>\n",
       "      <td>0</td>\n",
       "      <td>0</td>\n",
       "      <td>0</td>\n",
       "      <td>0</td>\n",
       "      <td>0</td>\n",
       "      <td>0</td>\n",
       "      <td>0</td>\n",
       "    </tr>\n",
       "    <tr>\n",
       "      <th>9998</th>\n",
       "      <td>5</td>\n",
       "      <td>0</td>\n",
       "      <td>0</td>\n",
       "      <td>0</td>\n",
       "      <td>0</td>\n",
       "      <td>0</td>\n",
       "      <td>0</td>\n",
       "      <td>0</td>\n",
       "      <td>0</td>\n",
       "      <td>0</td>\n",
       "      <td>...</td>\n",
       "      <td>0</td>\n",
       "      <td>0</td>\n",
       "      <td>0</td>\n",
       "      <td>0</td>\n",
       "      <td>0</td>\n",
       "      <td>0</td>\n",
       "      <td>0</td>\n",
       "      <td>0</td>\n",
       "      <td>0</td>\n",
       "      <td>0</td>\n",
       "    </tr>\n",
       "    <tr>\n",
       "      <th>9999</th>\n",
       "      <td>6</td>\n",
       "      <td>0</td>\n",
       "      <td>0</td>\n",
       "      <td>0</td>\n",
       "      <td>0</td>\n",
       "      <td>0</td>\n",
       "      <td>0</td>\n",
       "      <td>0</td>\n",
       "      <td>0</td>\n",
       "      <td>0</td>\n",
       "      <td>...</td>\n",
       "      <td>0</td>\n",
       "      <td>0</td>\n",
       "      <td>0</td>\n",
       "      <td>0</td>\n",
       "      <td>0</td>\n",
       "      <td>0</td>\n",
       "      <td>0</td>\n",
       "      <td>0</td>\n",
       "      <td>0</td>\n",
       "      <td>0</td>\n",
       "    </tr>\n",
       "  </tbody>\n",
       "</table>\n",
       "<p>10000 rows × 785 columns</p>\n",
       "</div>"
      ],
      "text/plain": [
       "      digit  px_1  px_2  px_3  px_4  px_5  px_6  px_7  px_8  px_9  ...  \\\n",
       "0         7     0     0     0     0     0     0     0     0     0  ...   \n",
       "1         2     0     0     0     0     0     0     0     0     0  ...   \n",
       "2         1     0     0     0     0     0     0     0     0     0  ...   \n",
       "3         0     0     0     0     0     0     0     0     0     0  ...   \n",
       "4         4     0     0     0     0     0     0     0     0     0  ...   \n",
       "...     ...   ...   ...   ...   ...   ...   ...   ...   ...   ...  ...   \n",
       "9995      2     0     0     0     0     0     0     0     0     0  ...   \n",
       "9996      3     0     0     0     0     0     0     0     0     0  ...   \n",
       "9997      4     0     0     0     0     0     0     0     0     0  ...   \n",
       "9998      5     0     0     0     0     0     0     0     0     0  ...   \n",
       "9999      6     0     0     0     0     0     0     0     0     0  ...   \n",
       "\n",
       "      px_775  px_776  px_777  px_778  px_779  px_780  px_781  px_782  px_783  \\\n",
       "0          0       0       0       0       0       0       0       0       0   \n",
       "1          0       0       0       0       0       0       0       0       0   \n",
       "2          0       0       0       0       0       0       0       0       0   \n",
       "3          0       0       0       0       0       0       0       0       0   \n",
       "4          0       0       0       0       0       0       0       0       0   \n",
       "...      ...     ...     ...     ...     ...     ...     ...     ...     ...   \n",
       "9995       0       0       0       0       0       0       0       0       0   \n",
       "9996       0       0       0       0       0       0       0       0       0   \n",
       "9997       0       0       0       0       0       0       0       0       0   \n",
       "9998       0       0       0       0       0       0       0       0       0   \n",
       "9999       0       0       0       0       0       0       0       0       0   \n",
       "\n",
       "      px_784  \n",
       "0          0  \n",
       "1          0  \n",
       "2          0  \n",
       "3          0  \n",
       "4          0  \n",
       "...      ...  \n",
       "9995       0  \n",
       "9996       0  \n",
       "9997       0  \n",
       "9998       0  \n",
       "9999       0  \n",
       "\n",
       "[10000 rows x 785 columns]"
      ]
     },
     "execution_count": 26,
     "metadata": {},
     "output_type": "execute_result"
    }
   ],
   "source": [
    "mnist_test"
   ]
  },
  {
   "cell_type": "code",
   "execution_count": 27,
   "metadata": {
    "ExecuteTime": {
     "end_time": "2023-12-19T12:00:32.884104Z",
     "start_time": "2023-12-19T12:00:31.951100Z"
    },
    "id": "YeEL7Y5m7QZz"
   },
   "outputs": [],
   "source": [
    "X_train, y_train = mnist_train[list(set(mnist_train) - set('digit'))], mnist_train['digit']\n",
    "X_test, y_test = mnist_test[list(set(mnist_test) - set('digit'))], mnist_test['digit']"
   ]
  },
  {
   "cell_type": "code",
   "execution_count": 28,
   "metadata": {
    "ExecuteTime": {
     "end_time": "2023-12-19T12:00:32.884219Z",
     "start_time": "2023-12-19T12:00:31.982524Z"
    },
    "id": "vyF2DMv88U3D"
   },
   "outputs": [],
   "source": [
    "scaler = MinMaxScaler()\n",
    "scaler.fit(X_train)\n",
    "\n",
    "X_train_scaled = scaler.transform(X_train)\n",
    "X_test_scaled = scaler.transform(X_test)"
   ]
  },
  {
   "cell_type": "markdown",
   "metadata": {},
   "source": [
    "Klasyfikacja i regresja to dwa podstawowe rodzaje problemów, które można rozwiązać przy użyciu metod uczenia maszynowego, a ich główna różnica polega na tym, **jakiego typu wartość próbujemy przewidzieć**.\n",
    "\n",
    "### Klasyfikacja\n",
    "W problemie klasyfikacji zadaniem modelu jest przewidzenie przynależności do jednej z kilku kategorii (czy klas). Oznacza to, że model dokonuje wyboru z dyskretnych, wyraźnie oddzielonych opcji. Przykłady klasyfikacji obejmują:\n",
    "- Rozpoznawanie obrazu jako psa lub kota,\n",
    "- Klasyfikowanie wiadomości e-mail jako „spam” lub „nie-spam”,\n",
    "- Określanie, czy pacjent jest chory, czy zdrowy na podstawie wyników testów medycznych.\n",
    "\n",
    "W klasyfikacji model zwraca klasę lub etykietę. **Może to być problem klasyfikacji binarnej** (gdy są tylko dwie klasy, np. chory vs. zdrowy) **lub wieloklasowej** (gdy istnieje więcej niż dwie klasy, np. rodzaje kwiatów w zbiorze Iris).\n",
    "\n",
    "#### Wartość wynikowa:\n",
    "- **Dyskretna** – model zwraca konkretne klasy lub etykiety (np. „spam”, „nie-spam”),\n",
    "- **Wskaźniki wydajności**: typowe metryki to accuracy, precision, recall, F1-score oraz macierz pomyłek, które mierzą skuteczność przypisywania do odpowiednich klas.\n",
    "\n",
    "### Regresja\n",
    "Regresja odnosi się do problemów, w których zadaniem modelu jest przewidzenie wartości ciągłej, liczbowej. Innymi słowy, zamiast wybierać klasę, model szacuje konkretną wartość liczbową. Przykłady problemów regresji obejmują:\n",
    "- Prognozowanie ceny domu na podstawie jego cech,\n",
    "- Przewidywanie temperatury w danym dniu na podstawie warunków pogodowych,\n",
    "- Szacowanie zysków firmy na podstawie danych historycznych.\n",
    "\n",
    "W regresji wynik ma charakter liczbowy i może przyjmować wartość na dowolnym przedziale liczbowym.\n",
    "\n",
    "#### Wartość wynikowa:\n",
    "- **Ciągła** – model zwraca wartość liczbową (np. prognozowaną cenę w dolarach),\n",
    "- **Wskaźniki wydajności**: typowe metryki to Mean Squared Error (MSE), Mean Absolute Error (MAE) oraz Root Mean Squared Error (RMSE), które mierzą różnice między przewidywaniami a rzeczywistymi wartościami.\n",
    "\n",
    "### Kluczowe różnice\n",
    "1. **Typ wyniku**:\n",
    "   - Klasyfikacja: wartość dyskretna (klasa lub etykieta),\n",
    "   - Regresja: wartość ciągła (liczba).\n",
    "\n",
    "2. **Zastosowanie**:\n",
    "   - Klasyfikacja: zadania wyboru kategorii, np. diagnoza, klasyfikacja obrazów.\n",
    "   - Regresja: zadania predykcji wartości liczbowych, np. prognozowanie cen, analizowanie trendów.\n",
    "\n",
    "3. **Metryki wydajności**:\n",
    "   - Klasyfikacja: accuracy, precision, recall, F1-score, etc.\n",
    "   - Regresja: MSE, MAE, RMSE.\n",
    "\n",
    "### Przykład zastosowania obu typów\n",
    "Dla modelu przewidującego ryzyko finansowe klienta banku:\n",
    "- Jeśli celem jest przewidzenie, **czy klient spłaci pożyczkę** (tak/nie), jest to klasyfikacja.\n",
    "- Jeśli celem jest **oszacowanie kwoty, którą klient jest w stanie spłacić**, jest to regresja.\n",
    "\n",
    "Rozróżnienie klasyfikacji i regresji zależy zatem od rodzaju wyniku, jaki chcemy uzyskać oraz sposobu mierzenia jakości modelu."
   ]
  },
  {
   "cell_type": "markdown",
   "metadata": {
    "id": "iNm_3Xuv1IXC"
   },
   "source": [
    "### K-NN\n",
    "\n",
    "Algorytm k-nn (k-najbliższych sąsiadów) w kontekście klasyfikacji opiera się na zasadzie przypisywania klasy nowego obiektu na podstawie większości przynależących do niego k najbliższych sąsiadów w przestrzeni cech. Wybór odpowiedniej wartości parametru k wpływa na balans między skomplikowaniem a stabilnością modelu, gdzie mniejsze wartości k mogą prowadzić do nadmiernego dopasowania, a większe do zwiększenia wariancji modelu. Efektywność algorytmu k-nn w dużej mierze zależy od właściwego dobrania metryki odległości oraz odpowiedniego przetwarzania danych wejściowych."
   ]
  },
  {
   "cell_type": "markdown",
   "metadata": {},
   "source": [
    "#### 1. Ogólne założenia algorytmu KNN\n",
    "\n",
    "KNN to algorytm **leniwie uczący się** (ang. *lazy learning*), co oznacza, że podczas etapu treningowego nie wykonuje żadnych obliczeń na danych poza ich zapamiętaniem. Całe obliczenia przeprowadzane są dopiero podczas przewidywania. W KNN, żeby przewidzieć klasę lub wartość dla danego punktu, algorytm:\n",
    "- **Poszukuje K najbliższych sąsiadów** w przestrzeni danych,\n",
    "- Przeprowadza **głosowanie (klasyfikacja)** lub **oblicza średnią (regresja)** na podstawie wartości tych sąsiadów.\n",
    "\n",
    "#### 2. Krok po kroku, jak działa KNN\n",
    "\n",
    "1. **Parametryzacja:**\n",
    "   - Wybieramy liczbę sąsiadów, `K`, która oznacza, ilu najbliższych sąsiadów bierze się pod uwagę przy klasyfikacji/regresji. \n",
    "   - Ustalamy metrykę odległości, np. euklidesową, manhattańską lub inną.\n",
    "\n",
    "2. **Znajdowanie sąsiadów:**\n",
    "   - Dla każdego nowego punktu, który chcemy przewidzieć, algorytm oblicza odległość do wszystkich innych punktów w zbiorze danych. Na podstawie tych odległości wybiera `K` najbliższych sąsiadów.\n",
    "\n",
    "3. **Przewidywanie (klasyfikacja):**\n",
    "   - Algorytm patrzy na klasy tych sąsiadów i wybiera klasę, która występuje najczęściej (jest najczęściej głosowana) jako wynik klasyfikacji dla danego punktu.\n",
    "\n",
    "4. **Przewidywanie (regresja):**\n",
    "   - Algorytm oblicza średnią wartość (lub np. medianę) wartości sąsiadów jako przewidywaną wartość dla punktu.\n",
    "\n",
    "#### 3. Dobór liczby sąsiadów, K\n",
    "\n",
    "Wartość `K` to kluczowy parametr algorytmu. Wpływa na jego dokładność i stabilność:\n",
    "- **Małe K** (np. `K=1` lub `K=3`) sprawia, że algorytm jest bardziej \"czuły\" na zmiany i może lepiej odwzorowywać lokalne zależności, ale jest bardziej podatny na szumy.\n",
    "- **Duże K** (np. `K=10` lub więcej) uśrednia sąsiadów z większej odległości, co może pomóc w uogólnieniu, ale zbyt duże K może skutkować słabą dokładnością, bo algorytm może \"gubić\" lokalne wzorce.\n",
    "\n",
    "Zazwyczaj wartość `K` dobierana jest empirycznie, często przy pomocy walidacji krzyżowej.\n",
    "\n",
    "#### 4. Metryki odległości\n",
    "\n",
    "W KNN do wyznaczania sąsiadów wykorzystuje się różne miary odległości. Oto najczęstsze z nich:\n",
    "\n",
    "- **Odległość euklidesowa**: Najczęściej używana. Działa najlepiej, gdy wszystkie cechy mają podobną skalę.\n",
    "  \n",
    "  $\n",
    "  d(p, q) = \\sqrt{\\sum_{i=1}^{n} (p_i - q_i)^2}\n",
    "  $\n",
    "\n",
    "- **Odległość manhattańska**: Przydatna, gdy cechy mogą mieć różne zakresy.\n",
    "\n",
    "  $\n",
    "  d(p, q) = \\sum_{i=1}^{n} |p_i - q_i|\n",
    "  $\n",
    "\n",
    "- **Odległość Minkowskiego**: Uogólnienie obu powyższych. Można dostosować parametr do wymagań.\n",
    "\n",
    "  $\n",
    "  d(p, q) = \\left( \\sum_{i=1}^{n} |p_i - q_i|^p \\right)^{\\frac{1}{p}}\n",
    "  $\n",
    "\n",
    "#### 5. Wady i zalety KNN\n",
    "\n",
    "**Zalety:**\n",
    "- Algorytm jest prosty i łatwy do zaimplementowania.\n",
    "- Dobry do problemów, gdzie podobieństwo między punktami jest kluczowe.\n",
    "\n",
    "**Wady:**\n",
    "- **Wolny przy dużych zbiorach danych** – wymaga przechowywania i przeszukiwania dużej liczby punktów przy każdym przewidywaniu.\n",
    "- **Wrażliwość na skalowanie** – różne skale cech mogą wpływać na wyniki, dlatego ważne jest normalizowanie danych.\n",
    "- **Wrażliwość na szumy** – małe K może prowadzić do nadmiernego dopasowania do szumów."
   ]
  },
  {
   "cell_type": "markdown",
   "metadata": {},
   "source": [
    "![](https://miro.medium.com/v2/resize:fit:505/0*2_qzcm2gSe9l67aI.png)\n",
    "\n",
    "*source: medium.com*"
   ]
  },
  {
   "cell_type": "markdown",
   "metadata": {
    "id": "NHkixsPy10nZ"
   },
   "source": [
    "Wykorzystanie algorytmu k-nn w procesie klasyfikacji polega na zastosowaniu klasy [KNeighborsClassifier](https://https://scikit-learn.org/stable/modules/neighbors.html#nearest-neighbors-classification), która przyjmuje następujące parametry:\n",
    "- n_neighbors (int) - liczba najbliższych sąsiadów\n",
    "- weights (str | callable) - metoda wyznaczania wag dla najbliższych sąsiadów\n",
    "  - uniform (domyślne) - jednakowa waga dla wszystkich najbliższych sąsiadów\n",
    "  - distance - wyższa waga dla bliższych sąsiadów\n",
    "- algorithm (str) - algorytm wyznaczający najbliższych sąsiadów\n",
    "  - ball_tree\n",
    "  - kd_tree\n",
    "  - brute\n",
    "  - auto (domyślne)\n",
    "- leaf_size (int) - wielkość liścia w drzewie stosowanym w algorytmach ball_tree i kd_tree\n",
    "- p (int) - parametr metryki Minkowskiego (jeżeli jest wykorzystywana)\n",
    "- metric (str | callable) - metryka odległości wykorzystywana przy wyznaczaniu najbliższych sąsiadów\n",
    "- metric_params (str) - dodatkowy słownik parametrów przekazywany do wybranej metryki\n",
    "- n_jobs (int) - liczba równoległych wątków"
   ]
  },
  {
   "cell_type": "code",
   "execution_count": 29,
   "metadata": {
    "ExecuteTime": {
     "end_time": "2023-12-19T12:00:32.884319Z",
     "start_time": "2023-12-19T12:00:32.051346Z"
    },
    "id": "hDMUsY67t9_e"
   },
   "outputs": [],
   "source": [
    "from sklearn.neighbors import KNeighborsClassifier"
   ]
  },
  {
   "cell_type": "code",
   "execution_count": 30,
   "metadata": {
    "ExecuteTime": {
     "end_time": "2023-12-19T12:00:32.884971Z",
     "start_time": "2023-12-19T12:00:32.056207Z"
    },
    "colab": {
     "base_uri": "https://localhost:8080/",
     "height": 74
    },
    "id": "zqbjRlXu7DKW",
    "outputId": "2dcec39b-dd8d-4754-8e1a-f19140bba795"
   },
   "outputs": [
    {
     "data": {
      "text/html": [
       "<style>#sk-container-id-2 {color: black;background-color: white;}#sk-container-id-2 pre{padding: 0;}#sk-container-id-2 div.sk-toggleable {background-color: white;}#sk-container-id-2 label.sk-toggleable__label {cursor: pointer;display: block;width: 100%;margin-bottom: 0;padding: 0.3em;box-sizing: border-box;text-align: center;}#sk-container-id-2 label.sk-toggleable__label-arrow:before {content: \"▸\";float: left;margin-right: 0.25em;color: #696969;}#sk-container-id-2 label.sk-toggleable__label-arrow:hover:before {color: black;}#sk-container-id-2 div.sk-estimator:hover label.sk-toggleable__label-arrow:before {color: black;}#sk-container-id-2 div.sk-toggleable__content {max-height: 0;max-width: 0;overflow: hidden;text-align: left;background-color: #f0f8ff;}#sk-container-id-2 div.sk-toggleable__content pre {margin: 0.2em;color: black;border-radius: 0.25em;background-color: #f0f8ff;}#sk-container-id-2 input.sk-toggleable__control:checked~div.sk-toggleable__content {max-height: 200px;max-width: 100%;overflow: auto;}#sk-container-id-2 input.sk-toggleable__control:checked~label.sk-toggleable__label-arrow:before {content: \"▾\";}#sk-container-id-2 div.sk-estimator input.sk-toggleable__control:checked~label.sk-toggleable__label {background-color: #d4ebff;}#sk-container-id-2 div.sk-label input.sk-toggleable__control:checked~label.sk-toggleable__label {background-color: #d4ebff;}#sk-container-id-2 input.sk-hidden--visually {border: 0;clip: rect(1px 1px 1px 1px);clip: rect(1px, 1px, 1px, 1px);height: 1px;margin: -1px;overflow: hidden;padding: 0;position: absolute;width: 1px;}#sk-container-id-2 div.sk-estimator {font-family: monospace;background-color: #f0f8ff;border: 1px dotted black;border-radius: 0.25em;box-sizing: border-box;margin-bottom: 0.5em;}#sk-container-id-2 div.sk-estimator:hover {background-color: #d4ebff;}#sk-container-id-2 div.sk-parallel-item::after {content: \"\";width: 100%;border-bottom: 1px solid gray;flex-grow: 1;}#sk-container-id-2 div.sk-label:hover label.sk-toggleable__label {background-color: #d4ebff;}#sk-container-id-2 div.sk-serial::before {content: \"\";position: absolute;border-left: 1px solid gray;box-sizing: border-box;top: 0;bottom: 0;left: 50%;z-index: 0;}#sk-container-id-2 div.sk-serial {display: flex;flex-direction: column;align-items: center;background-color: white;padding-right: 0.2em;padding-left: 0.2em;position: relative;}#sk-container-id-2 div.sk-item {position: relative;z-index: 1;}#sk-container-id-2 div.sk-parallel {display: flex;align-items: stretch;justify-content: center;background-color: white;position: relative;}#sk-container-id-2 div.sk-item::before, #sk-container-id-2 div.sk-parallel-item::before {content: \"\";position: absolute;border-left: 1px solid gray;box-sizing: border-box;top: 0;bottom: 0;left: 50%;z-index: -1;}#sk-container-id-2 div.sk-parallel-item {display: flex;flex-direction: column;z-index: 1;position: relative;background-color: white;}#sk-container-id-2 div.sk-parallel-item:first-child::after {align-self: flex-end;width: 50%;}#sk-container-id-2 div.sk-parallel-item:last-child::after {align-self: flex-start;width: 50%;}#sk-container-id-2 div.sk-parallel-item:only-child::after {width: 0;}#sk-container-id-2 div.sk-dashed-wrapped {border: 1px dashed gray;margin: 0 0.4em 0.5em 0.4em;box-sizing: border-box;padding-bottom: 0.4em;background-color: white;}#sk-container-id-2 div.sk-label label {font-family: monospace;font-weight: bold;display: inline-block;line-height: 1.2em;}#sk-container-id-2 div.sk-label-container {text-align: center;}#sk-container-id-2 div.sk-container {/* jupyter's `normalize.less` sets `[hidden] { display: none; }` but bootstrap.min.css set `[hidden] { display: none !important; }` so we also need the `!important` here to be able to override the default hidden behavior on the sphinx rendered scikit-learn.org. See: https://github.com/scikit-learn/scikit-learn/issues/21755 */display: inline-block !important;position: relative;}#sk-container-id-2 div.sk-text-repr-fallback {display: none;}</style><div id=\"sk-container-id-2\" class=\"sk-top-container\"><div class=\"sk-text-repr-fallback\"><pre>KNeighborsClassifier()</pre><b>In a Jupyter environment, please rerun this cell to show the HTML representation or trust the notebook. <br />On GitHub, the HTML representation is unable to render, please try loading this page with nbviewer.org.</b></div><div class=\"sk-container\" hidden><div class=\"sk-item\"><div class=\"sk-estimator sk-toggleable\"><input class=\"sk-toggleable__control sk-hidden--visually\" id=\"sk-estimator-id-2\" type=\"checkbox\" checked><label for=\"sk-estimator-id-2\" class=\"sk-toggleable__label sk-toggleable__label-arrow\">KNeighborsClassifier</label><div class=\"sk-toggleable__content\"><pre>KNeighborsClassifier()</pre></div></div></div></div></div>"
      ],
      "text/plain": [
       "KNeighborsClassifier()"
      ]
     },
     "execution_count": 30,
     "metadata": {},
     "output_type": "execute_result"
    }
   ],
   "source": [
    "model = KNeighborsClassifier(n_neighbors=5)\n",
    "model.fit(X_train, y_train)"
   ]
  },
  {
   "cell_type": "code",
   "execution_count": 31,
   "metadata": {
    "ExecuteTime": {
     "end_time": "2023-12-19T12:00:37.419736Z",
     "start_time": "2023-12-19T12:00:32.095335Z"
    },
    "id": "Ji2sfL3s8wgr"
   },
   "outputs": [],
   "source": [
    "y_pred = model.predict(X_test)"
   ]
  },
  {
   "cell_type": "code",
   "execution_count": 32,
   "metadata": {
    "ExecuteTime": {
     "end_time": "2023-12-19T12:00:37.428052Z",
     "start_time": "2023-12-19T12:00:37.420059Z"
    },
    "colab": {
     "base_uri": "https://localhost:8080/"
    },
    "id": "_8aD02QG-Ip5",
    "outputId": "8eef8ba3-4591-4f5d-d460-6c9b40bc1754"
   },
   "outputs": [
    {
     "data": {
      "text/plain": [
       "array([7, 2, 1, ..., 4, 5, 6], dtype=int64)"
      ]
     },
     "execution_count": 32,
     "metadata": {},
     "output_type": "execute_result"
    }
   ],
   "source": [
    "y_pred"
   ]
  },
  {
   "cell_type": "code",
   "execution_count": 33,
   "metadata": {
    "ExecuteTime": {
     "end_time": "2023-12-19T12:00:37.428606Z",
     "start_time": "2023-12-19T12:00:37.422797Z"
    },
    "colab": {
     "base_uri": "https://localhost:8080/"
    },
    "id": "9b0Yf4HL8_Pa",
    "outputId": "01945038-2433-44d0-e544-8c6ae6864de9"
   },
   "outputs": [
    {
     "data": {
      "text/plain": [
       "0.9688"
      ]
     },
     "execution_count": 33,
     "metadata": {},
     "output_type": "execute_result"
    }
   ],
   "source": [
    "accuracy_score(y_test, y_pred)"
   ]
  },
  {
   "cell_type": "code",
   "execution_count": 34,
   "metadata": {
    "ExecuteTime": {
     "end_time": "2023-12-19T12:00:37.469594Z",
     "start_time": "2023-12-19T12:00:37.428268Z"
    },
    "colab": {
     "base_uri": "https://localhost:8080/"
    },
    "id": "XuYMJody-MCW",
    "outputId": "87947dc6-9163-49e7-ee94-a2dcd9409763"
   },
   "outputs": [
    {
     "data": {
      "text/plain": [
       "0.9684705010297703"
      ]
     },
     "execution_count": 34,
     "metadata": {},
     "output_type": "execute_result"
    }
   ],
   "source": [
    "balanced_accuracy_score(y_test, y_pred)"
   ]
  },
  {
   "cell_type": "markdown",
   "metadata": {
    "id": "kJ3J0Hki_MXo"
   },
   "source": [
    "### Drzewo decyzyjne\n",
    "\n",
    "Drzewo decyzyjne jest klasyfikatorem (a także regresorem), który hierarchicznie dzieli przestrzeń atrybutów, aby efektywnie przyporządkować obiekty do różnych klas. Wybór podziałów opiera się na cechach, które najlepiej segregują dane według kryteriów decyzyjnych, takich jak entropia czy wskaźnik Giniego. Ostateczna struktura drzewa umożliwia interpretację procesu klasyfikacji, a optymalizacja parametrów, takich jak głębokość drzewa, ma istotny wpływ na jego zdolność do generalizacji decyzji."
   ]
  },
  {
   "cell_type": "markdown",
   "metadata": {},
   "source": [
    "#### Jak działa drzewo decyzyjne?\n",
    "\n",
    "Drzewo decyzyjne jest strukturą złożoną z węzłów:\n",
    "- **Węzeł korzeniowy**: Punkt początkowy drzewa, który zawiera cały zbiór danych.\n",
    "- **Węzły decyzyjne**: Reprezentują różne cechy i dokonują podziału na podstawie określonego kryterium (np. „Czy wiek jest większy niż 30?”).\n",
    "- **Liście**: Ostateczne węzły drzewa, które zawierają ostateczną decyzję lub prognozę.\n",
    "\n",
    "Proces „uczenia się” przez drzewo decyzyjne polega na dzieleniu danych w taki sposób, aby każda decyzja zwiększała „czystość” grup w podziale. W zależności od problemu, model ocenia czystość węzłów, wykorzystując różne **kryteria podziału**.\n",
    "\n",
    "#### Kroki działania drzewa decyzyjnego\n",
    "\n",
    "1. **Wybór cechy do podziału**: Model wybiera cechę (np. `wiek`, `dochód`) na podstawie jej zdolności do tworzenia dobrze rozdzielonych grup, w których rekordy są bardziej jednorodne.\n",
    "2. **Podział danych**: Dla wybranej cechy tworzy podział według wartości progowej. Na przykład, „wiek > 30” może być takim progiem, który dzieli dane na dwie grupy: jedną z wiekiem powyżej 30 i drugą z wiekiem 30 lub niżej.\n",
    "3. **Powtarzanie procesu**: Model stosuje te same kroki w każdym nowo utworzonym węźle, tworząc kolejne rozgałęzienia, aż do momentu, gdy osiągnięte zostaną warunki zatrzymania, takie jak głębokość drzewa lub minimalna liczba próbek.\n",
    "\n",
    "4. **Przypisanie etykiet w liściach**: W końcowych węzłach (liściach) przypisywana jest etykieta klasy (dla klasyfikacji) lub wartość (dla regresji).\n",
    "\n",
    "### Kryteria podziału\n",
    "\n",
    "W zależności od tego, czy drzewo jest używane do klasyfikacji czy regresji, stosuje się różne kryteria podziału:\n",
    "\n",
    "- **Dla klasyfikacji**:\n",
    "  - **Impurity Gini**: Kryterium, które mierzy nieczystość podziału. Im bardziej jednolite są klasy w węźle, tym mniejsza jest wartość Gini.\n",
    "  - **Entropia**: Miara niepewności na podstawie teorii informacji. Entropia osiąga wartość zero, gdy podział jest całkowicie czysty (gdy wszystkie próbki w węźle należą do jednej klasy).\n",
    "  \n",
    "- **Dla regresji**:\n",
    "  - **Mean Squared Error (MSE)**: Średni błąd kwadratowy między rzeczywistymi wartościami a prognozami. Minimalizacja tej wartości prowadzi do bardziej precyzyjnych podziałów.\n",
    "  - **Mean Absolute Error (MAE)**: Średnia różnica bezwzględna między rzeczywistymi wartościami a prognozami.\n",
    "\n",
    "### Zalety drzew decyzyjnych\n",
    "\n",
    "- **Interpretowalność**: Drzewa decyzyjne są łatwe do zrozumienia i wizualizacji. Można prześledzić, jak model doszedł do konkretnej decyzji, podążając za ścieżką od korzenia do liścia.\n",
    "- **Brak potrzeby standaryzacji**: Drzewa nie wymagają standaryzacji ani normalizacji cech, ponieważ podziały są oparte na progach wartości.\n",
    "- **Obsługa danych mieszanych**: Mogą pracować zarówno z danymi numerycznymi, jak i kategorycznymi, co czyni je elastycznymi.\n",
    "\n",
    "### Wady drzew decyzyjnych\n",
    "\n",
    "- **Overfitting**: Drzewa decyzyjne są podatne na przeuczenie, szczególnie gdy drzewo jest zbyt głębokie i ma wiele węzłów.\n",
    "- **Wysoka wariancja**: Niewielka zmiana w danych treningowych może prowadzić do innej struktury drzewa, co sprawia, że modele te mogą być niestabilne.\n",
    "- **Niska dokładność w przypadku skomplikowanych danych**: Modele drzewa decyzyjnego mogą mieć niższą dokładność w przypadku problemów z dużą ilością cech."
   ]
  },
  {
   "cell_type": "markdown",
   "metadata": {},
   "source": [
    "![](https://images.datacamp.com/image/upload/v1677504957/decision_tree_for_heart_attack_prevention_2140bd762d.png)\n",
    "*source: datacamp.com*"
   ]
  },
  {
   "cell_type": "markdown",
   "metadata": {
    "id": "PpFpHZKGbQpW"
   },
   "source": [
    "Wykorzystanie drzewa decyzyjnego w procesie klasyfikacji polega na zastosowaniu klasy [DecisionTreeClassifier](https://scikit-learn.org/stable/modules/generated/sklearn.tree.DecisionTreeClassifier.html), która przyjmuje następujące parametry:\n",
    "- criterion (str) - kryterium podziału atrybutów\n",
    "  - gini (domyślny)\n",
    "  - entropy\n",
    "  - log_loss\n",
    "- splitter (str) - typ podziału\n",
    "  - best (domyślny) - podział według najlepszego kryterium\n",
    "  - random - podział losowy\n",
    "- max_depth (int) - maksymalna głębokośc drzewa\n",
    "- min_samples_split (int) - minimalna liczba obiektów do dokonania podziału\n",
    "- min_samples_leaf (int) - minimalna liczba obiektów tworząca liść\n",
    "- min_weight_fraction_leaf (float) - minimalny odsetek sumy ważonej wag obiektów tworzących liść\n",
    "- max_features (int) - maksymalna liczba atrybutów podczas dokonywania podziału\n",
    "- random_state (int) - tzw. ziarno losowości\n",
    "- max_leaf_nodes (int) - maksymalna liczba liści\n",
    "- min_impurity_decrease (float) - próg zmiany zanieczyszczenia wartości w węźle do dokonania podziału\n",
    "- class_weight (dict | list | str) - wagi przypisane klasom decyzyjnym\n",
    "- ccp_alpha (float) - parametr używany do przycinania drzew przy uwzględnieniu kosztu"
   ]
  },
  {
   "cell_type": "code",
   "execution_count": 35,
   "metadata": {
    "ExecuteTime": {
     "end_time": "2023-12-19T12:00:37.469794Z",
     "start_time": "2023-12-19T12:00:37.432582Z"
    },
    "id": "NvOrHx3v-NvC"
   },
   "outputs": [],
   "source": [
    "from sklearn.tree import DecisionTreeClassifier"
   ]
  },
  {
   "cell_type": "code",
   "execution_count": 36,
   "metadata": {
    "ExecuteTime": {
     "end_time": "2023-12-19T12:00:38.334227Z",
     "start_time": "2023-12-19T12:00:37.437493Z"
    },
    "colab": {
     "base_uri": "https://localhost:8080/",
     "height": 74
    },
    "id": "ZZHIG4IRinX4",
    "outputId": "ae3274d7-c0db-430f-b0d6-2445ff2834de"
   },
   "outputs": [
    {
     "data": {
      "text/html": [
       "<style>#sk-container-id-3 {color: black;background-color: white;}#sk-container-id-3 pre{padding: 0;}#sk-container-id-3 div.sk-toggleable {background-color: white;}#sk-container-id-3 label.sk-toggleable__label {cursor: pointer;display: block;width: 100%;margin-bottom: 0;padding: 0.3em;box-sizing: border-box;text-align: center;}#sk-container-id-3 label.sk-toggleable__label-arrow:before {content: \"▸\";float: left;margin-right: 0.25em;color: #696969;}#sk-container-id-3 label.sk-toggleable__label-arrow:hover:before {color: black;}#sk-container-id-3 div.sk-estimator:hover label.sk-toggleable__label-arrow:before {color: black;}#sk-container-id-3 div.sk-toggleable__content {max-height: 0;max-width: 0;overflow: hidden;text-align: left;background-color: #f0f8ff;}#sk-container-id-3 div.sk-toggleable__content pre {margin: 0.2em;color: black;border-radius: 0.25em;background-color: #f0f8ff;}#sk-container-id-3 input.sk-toggleable__control:checked~div.sk-toggleable__content {max-height: 200px;max-width: 100%;overflow: auto;}#sk-container-id-3 input.sk-toggleable__control:checked~label.sk-toggleable__label-arrow:before {content: \"▾\";}#sk-container-id-3 div.sk-estimator input.sk-toggleable__control:checked~label.sk-toggleable__label {background-color: #d4ebff;}#sk-container-id-3 div.sk-label input.sk-toggleable__control:checked~label.sk-toggleable__label {background-color: #d4ebff;}#sk-container-id-3 input.sk-hidden--visually {border: 0;clip: rect(1px 1px 1px 1px);clip: rect(1px, 1px, 1px, 1px);height: 1px;margin: -1px;overflow: hidden;padding: 0;position: absolute;width: 1px;}#sk-container-id-3 div.sk-estimator {font-family: monospace;background-color: #f0f8ff;border: 1px dotted black;border-radius: 0.25em;box-sizing: border-box;margin-bottom: 0.5em;}#sk-container-id-3 div.sk-estimator:hover {background-color: #d4ebff;}#sk-container-id-3 div.sk-parallel-item::after {content: \"\";width: 100%;border-bottom: 1px solid gray;flex-grow: 1;}#sk-container-id-3 div.sk-label:hover label.sk-toggleable__label {background-color: #d4ebff;}#sk-container-id-3 div.sk-serial::before {content: \"\";position: absolute;border-left: 1px solid gray;box-sizing: border-box;top: 0;bottom: 0;left: 50%;z-index: 0;}#sk-container-id-3 div.sk-serial {display: flex;flex-direction: column;align-items: center;background-color: white;padding-right: 0.2em;padding-left: 0.2em;position: relative;}#sk-container-id-3 div.sk-item {position: relative;z-index: 1;}#sk-container-id-3 div.sk-parallel {display: flex;align-items: stretch;justify-content: center;background-color: white;position: relative;}#sk-container-id-3 div.sk-item::before, #sk-container-id-3 div.sk-parallel-item::before {content: \"\";position: absolute;border-left: 1px solid gray;box-sizing: border-box;top: 0;bottom: 0;left: 50%;z-index: -1;}#sk-container-id-3 div.sk-parallel-item {display: flex;flex-direction: column;z-index: 1;position: relative;background-color: white;}#sk-container-id-3 div.sk-parallel-item:first-child::after {align-self: flex-end;width: 50%;}#sk-container-id-3 div.sk-parallel-item:last-child::after {align-self: flex-start;width: 50%;}#sk-container-id-3 div.sk-parallel-item:only-child::after {width: 0;}#sk-container-id-3 div.sk-dashed-wrapped {border: 1px dashed gray;margin: 0 0.4em 0.5em 0.4em;box-sizing: border-box;padding-bottom: 0.4em;background-color: white;}#sk-container-id-3 div.sk-label label {font-family: monospace;font-weight: bold;display: inline-block;line-height: 1.2em;}#sk-container-id-3 div.sk-label-container {text-align: center;}#sk-container-id-3 div.sk-container {/* jupyter's `normalize.less` sets `[hidden] { display: none; }` but bootstrap.min.css set `[hidden] { display: none !important; }` so we also need the `!important` here to be able to override the default hidden behavior on the sphinx rendered scikit-learn.org. See: https://github.com/scikit-learn/scikit-learn/issues/21755 */display: inline-block !important;position: relative;}#sk-container-id-3 div.sk-text-repr-fallback {display: none;}</style><div id=\"sk-container-id-3\" class=\"sk-top-container\"><div class=\"sk-text-repr-fallback\"><pre>DecisionTreeClassifier()</pre><b>In a Jupyter environment, please rerun this cell to show the HTML representation or trust the notebook. <br />On GitHub, the HTML representation is unable to render, please try loading this page with nbviewer.org.</b></div><div class=\"sk-container\" hidden><div class=\"sk-item\"><div class=\"sk-estimator sk-toggleable\"><input class=\"sk-toggleable__control sk-hidden--visually\" id=\"sk-estimator-id-3\" type=\"checkbox\" checked><label for=\"sk-estimator-id-3\" class=\"sk-toggleable__label sk-toggleable__label-arrow\">DecisionTreeClassifier</label><div class=\"sk-toggleable__content\"><pre>DecisionTreeClassifier()</pre></div></div></div></div></div>"
      ],
      "text/plain": [
       "DecisionTreeClassifier()"
      ]
     },
     "execution_count": 36,
     "metadata": {},
     "output_type": "execute_result"
    }
   ],
   "source": [
    "model = DecisionTreeClassifier()\n",
    "model.fit(X_train, y_train)"
   ]
  },
  {
   "cell_type": "code",
   "execution_count": 37,
   "metadata": {
    "ExecuteTime": {
     "end_time": "2023-12-19T12:00:38.342820Z",
     "start_time": "2023-12-19T12:00:38.330086Z"
    },
    "id": "bUVuchxfjDoz"
   },
   "outputs": [],
   "source": [
    "y_pred = model.predict(X_test)"
   ]
  },
  {
   "cell_type": "code",
   "execution_count": 38,
   "metadata": {
    "ExecuteTime": {
     "end_time": "2023-12-19T12:00:38.343688Z",
     "start_time": "2023-12-19T12:00:38.340039Z"
    },
    "colab": {
     "base_uri": "https://localhost:8080/"
    },
    "id": "PEslV161jGWO",
    "outputId": "2cc11456-fad4-49b0-85ea-18b28b3ae672"
   },
   "outputs": [
    {
     "data": {
      "text/plain": [
       "array([7, 2, 1, ..., 4, 5, 6], dtype=int64)"
      ]
     },
     "execution_count": 38,
     "metadata": {},
     "output_type": "execute_result"
    }
   ],
   "source": [
    "y_pred"
   ]
  },
  {
   "cell_type": "code",
   "execution_count": 39,
   "metadata": {
    "ExecuteTime": {
     "end_time": "2023-12-19T12:00:38.405007Z",
     "start_time": "2023-12-19T12:00:38.343217Z"
    },
    "colab": {
     "base_uri": "https://localhost:8080/"
    },
    "id": "tFiTKFjujHK8",
    "outputId": "71df399d-fc33-4fc8-9c77-fd62a387ca09"
   },
   "outputs": [
    {
     "data": {
      "text/plain": [
       "1.0"
      ]
     },
     "execution_count": 39,
     "metadata": {},
     "output_type": "execute_result"
    }
   ],
   "source": [
    "accuracy_score(y_test, y_pred)"
   ]
  },
  {
   "cell_type": "code",
   "execution_count": 40,
   "metadata": {
    "ExecuteTime": {
     "end_time": "2023-12-19T12:00:38.405475Z",
     "start_time": "2023-12-19T12:00:38.347095Z"
    },
    "colab": {
     "base_uri": "https://localhost:8080/"
    },
    "id": "kKXnOEBQjJKa",
    "outputId": "7b4c04d6-2d7b-4969-de24-13ce5a05674a"
   },
   "outputs": [
    {
     "data": {
      "text/plain": [
       "1.0"
      ]
     },
     "execution_count": 40,
     "metadata": {},
     "output_type": "execute_result"
    }
   ],
   "source": [
    "balanced_accuracy_score(y_test, y_pred)"
   ]
  },
  {
   "cell_type": "markdown",
   "metadata": {
    "id": "Y7BdqGNwjTwP"
   },
   "source": [
    "## Regresja"
   ]
  },
  {
   "cell_type": "markdown",
   "metadata": {
    "id": "lht1bjo3jcFE"
   },
   "source": [
    "Regresja odnosi się do statystycznej metody modelowania, której celem jest prognozowanie wartości ciągłych na podstawie historycznych danych. Ocena jakości modelu regresyjnego często opiera się na miarach takich jak błąd średniokwadratowy oraz błąd bezwzględny, a optymalizacja parametrów modelu ma kluczowe znaczenie dla jego zdolności do dokładnego przewidywania wartości numerycznych.\n",
    "\n",
    "Istnieją różne typy regresji, ale jednym z najczęściej stosowanych jest regresja liniowa."
   ]
  },
  {
   "cell_type": "markdown",
   "metadata": {},
   "source": [
    "### 1. Czym jest regresja liniowa?\n",
    "\n",
    "Regresja liniowa jest modelem przewidującym wartość docelową (zwaną zmienną zależną) na podstawie jednego lub kilku predyktorów (zwanych zmiennymi niezależnymi). Jest to model **liniowy**, co oznacza, że relacja między zmiennymi niezależnymi a zmienną zależną jest opisana prostą linią lub płaszczyzną w przestrzeni wielowymiarowej.\n",
    "\n",
    "Przykład:\n",
    "W prostym przypadku, gdy mamy jedną zmienną wejściową (np. `x`) i jedną zmienną wyjściową (np. `y`), model regresji liniowej przyjmuje postać równania:\n",
    "\n",
    "$\n",
    "y = w \\cdot x + b\n",
    "$\n",
    "\n",
    "gdzie:\n",
    "- \\( y \\) to przewidywana wartość,\n",
    "- \\( w \\) to nachylenie prostej (określające wpływ `x` na `y`),\n",
    "- \\( b \\) to wyraz wolny (punkt przecięcia osi y przez prostą, gdy $( x = 0 )$).\n",
    "\n",
    "Dla wielu zmiennych wejściowych równanie rozszerza się do:\n",
    "\n",
    "$\n",
    "y = w_1 \\cdot x_1 + w_2 \\cdot x_2 + \\dots + w_n \\cdot x_n + b\n",
    "$\n",
    "\n",
    "gdzie:\n",
    "- $( w_1, w_2, \\dots, w_n )$ to współczynniki regresji dla poszczególnych zmiennych.\n",
    "\n",
    "### 2. Jak działa regresja liniowa?\n",
    "\n",
    "Regresja liniowa działa na zasadzie dopasowania modelu liniowego do danych. Proces ten składa się z kilku etapów:\n",
    "\n",
    "1. **Uczenie modelu**: Algorytm regresji szuka wartości współczynników $( w )$ i $( b )$ w taki sposób, aby linia regresji jak najlepiej dopasowała się do punktów danych w zbiorze uczącym.\n",
    "   \n",
    "2. **Minimalizacja błędu**: Model dopasowuje się do danych poprzez minimalizację różnicy między rzeczywistymi wartościami $( y )$ a przewidywanymi wartościami $( \\hat{y} )$. Najczęściej stosowanym kryterium błędu w regresji liniowej jest błąd średniokwadratowy (*Mean Squared Error*, MSE), obliczany jako:\n",
    "\n",
    "   $\n",
    "   MSE = \\frac{1}{n} \\sum_{i=1}^{n} (y_i - \\hat{y}_i)^2\n",
    "   $\n",
    "\n",
    "   gdzie $( y_i )$ to rzeczywista wartość, a $( \\hat{y}_i )$ to wartość przewidywana dla i-tego przykładu. Model dąży do minimalizacji MSE, dostosowując wartości współczynników.\n",
    "\n",
    "3. **Optymalizacja**: Najczęściej stosowaną metodą do znalezienia optymalnych wartości współczynników jest metoda gradientu prostego (ang. *Gradient Descent*), która iteracyjnie zmniejsza błąd, aż do znalezienia wartości współczynników, które najlepiej dopasowują model do danych.\n",
    "\n",
    "### 3. Typy regresji w ML i ich konteksty\n",
    "\n",
    "Regresja liniowa jest najbardziej podstawową metodą, ale istnieją jej rozszerzenia i inne typy regresji:\n",
    "\n",
    "- **Regresja wielomianowa**: Gdy zależność między zmiennymi nie jest liniowa, można użyć funkcji wielomianowej, np. $( y = w_1 x + w_2 x^2 + b )$.\n",
    "  \n",
    "- **Regresja Lasso i Ridge**: Są to odmiany regresji liniowej z **regularizacją**, które dodają do funkcji kosztu dodatkowe elementy, zapobiegając overfittingowi (Lasso wykorzystuje normę L1, Ridge - normę L2).\n",
    "\n",
    "- **Regresja logistyczna**: Choć technicznie jest to metoda klasyfikacji, regresja logistyczna opiera się na podobnych założeniach, wykorzystując funkcję logistyczną do przewidywania wartości prawdopodobieństwa dla danych binarnych.\n",
    "\n",
    "### 4. Zalety i ograniczenia regresji\n",
    "\n",
    "#### Zalety:\n",
    "- **Prostota i interpretowalność**: Łatwy do interpretacji i szybki do trenowania.\n",
    "- **Skalowalność**: Regresja liniowa działa dobrze na dużych zbiorach danych.\n",
    "- **Wszechstronność**: Można go stosować do przewidywania zarówno zmiennych ciągłych, jak i binarnych (w regresji logistycznej).\n",
    "\n",
    "#### Ograniczenia:\n",
    "- **Założenie liniowości**: Regresja liniowa zakłada liniową zależność między zmiennymi, co może być niewłaściwe w przypadku bardziej złożonych danych.\n",
    "- **Wrażliwość na outliery**: Obecność wartości odstających (outliers) może prowadzić do zaburzenia wyników.\n",
    "- **Overfitting**: Bez regularyzacji, model może dopasować się zbyt dokładnie do danych uczących, co obniża wydajność na nowych danych."
   ]
  },
  {
   "cell_type": "markdown",
   "metadata": {},
   "source": [
    "![](https://www.simplilearn.com/ice9/free_resources_article_thumb/Regression_vs_Classification.jpg)\n",
    "\n",
    "*source: simplilearn.com*"
   ]
  },
  {
   "cell_type": "markdown",
   "metadata": {
    "id": "NpJrIYJAmAO0"
   },
   "source": [
    "### Regresja liniowa w scikit - learn"
   ]
  },
  {
   "cell_type": "markdown",
   "metadata": {
    "id": "vZnF7H36lcco"
   },
   "source": [
    "Użycie metody regresji liniowej w bibliotece Scikit-learn polega na zastosowaniu klasy [LinearRegression](https://scikit-learn.org/stable/modules/generated/sklearn.linear_model.LinearRegression.html), która przyjmuje następujące parametry:\n",
    "- fit_intercept (bool) - dodatkowe środkowanie danych\n",
    "- copy_X (bool) - kopia danych treningowych celem minimalizacji ryzyka zniszczenia oryginału\n",
    "- n_jobs (int) - liczba wątków wykonywanych równolegle\n",
    "- positive (bool) - wymuszenie przyjmowania wyłącznie dodatnich wartości przez współczynniki regresji"
   ]
  },
  {
   "cell_type": "code",
   "execution_count": 51,
   "metadata": {
    "ExecuteTime": {
     "end_time": "2023-12-19T12:00:38.406044Z",
     "start_time": "2023-12-19T12:00:38.352723Z"
    },
    "id": "vTOj_0WJm2oA"
   },
   "outputs": [
    {
     "data": {
      "text/html": [
       "<div>\n",
       "<style scoped>\n",
       "    .dataframe tbody tr th:only-of-type {\n",
       "        vertical-align: middle;\n",
       "    }\n",
       "\n",
       "    .dataframe tbody tr th {\n",
       "        vertical-align: top;\n",
       "    }\n",
       "\n",
       "    .dataframe thead th {\n",
       "        text-align: right;\n",
       "    }\n",
       "</style>\n",
       "<table border=\"1\" class=\"dataframe\">\n",
       "  <thead>\n",
       "    <tr style=\"text-align: right;\">\n",
       "      <th></th>\n",
       "      <th>longitude</th>\n",
       "      <th>latitude</th>\n",
       "      <th>housing_median_age</th>\n",
       "      <th>total_rooms</th>\n",
       "      <th>total_bedrooms</th>\n",
       "      <th>population</th>\n",
       "      <th>households</th>\n",
       "      <th>median_income</th>\n",
       "      <th>median_house_value</th>\n",
       "    </tr>\n",
       "  </thead>\n",
       "  <tbody>\n",
       "    <tr>\n",
       "      <th>0</th>\n",
       "      <td>-114.31</td>\n",
       "      <td>34.19</td>\n",
       "      <td>15.0</td>\n",
       "      <td>5612.0</td>\n",
       "      <td>1283.0</td>\n",
       "      <td>1015.0</td>\n",
       "      <td>472.0</td>\n",
       "      <td>1.4936</td>\n",
       "      <td>66900.0</td>\n",
       "    </tr>\n",
       "    <tr>\n",
       "      <th>1</th>\n",
       "      <td>-114.47</td>\n",
       "      <td>34.40</td>\n",
       "      <td>19.0</td>\n",
       "      <td>7650.0</td>\n",
       "      <td>1901.0</td>\n",
       "      <td>1129.0</td>\n",
       "      <td>463.0</td>\n",
       "      <td>1.8200</td>\n",
       "      <td>80100.0</td>\n",
       "    </tr>\n",
       "    <tr>\n",
       "      <th>2</th>\n",
       "      <td>-114.56</td>\n",
       "      <td>33.69</td>\n",
       "      <td>17.0</td>\n",
       "      <td>720.0</td>\n",
       "      <td>174.0</td>\n",
       "      <td>333.0</td>\n",
       "      <td>117.0</td>\n",
       "      <td>1.6509</td>\n",
       "      <td>85700.0</td>\n",
       "    </tr>\n",
       "    <tr>\n",
       "      <th>3</th>\n",
       "      <td>-114.57</td>\n",
       "      <td>33.64</td>\n",
       "      <td>14.0</td>\n",
       "      <td>1501.0</td>\n",
       "      <td>337.0</td>\n",
       "      <td>515.0</td>\n",
       "      <td>226.0</td>\n",
       "      <td>3.1917</td>\n",
       "      <td>73400.0</td>\n",
       "    </tr>\n",
       "    <tr>\n",
       "      <th>4</th>\n",
       "      <td>-114.57</td>\n",
       "      <td>33.57</td>\n",
       "      <td>20.0</td>\n",
       "      <td>1454.0</td>\n",
       "      <td>326.0</td>\n",
       "      <td>624.0</td>\n",
       "      <td>262.0</td>\n",
       "      <td>1.9250</td>\n",
       "      <td>65500.0</td>\n",
       "    </tr>\n",
       "    <tr>\n",
       "      <th>...</th>\n",
       "      <td>...</td>\n",
       "      <td>...</td>\n",
       "      <td>...</td>\n",
       "      <td>...</td>\n",
       "      <td>...</td>\n",
       "      <td>...</td>\n",
       "      <td>...</td>\n",
       "      <td>...</td>\n",
       "      <td>...</td>\n",
       "    </tr>\n",
       "    <tr>\n",
       "      <th>16995</th>\n",
       "      <td>-124.26</td>\n",
       "      <td>40.58</td>\n",
       "      <td>52.0</td>\n",
       "      <td>2217.0</td>\n",
       "      <td>394.0</td>\n",
       "      <td>907.0</td>\n",
       "      <td>369.0</td>\n",
       "      <td>2.3571</td>\n",
       "      <td>111400.0</td>\n",
       "    </tr>\n",
       "    <tr>\n",
       "      <th>16996</th>\n",
       "      <td>-124.27</td>\n",
       "      <td>40.69</td>\n",
       "      <td>36.0</td>\n",
       "      <td>2349.0</td>\n",
       "      <td>528.0</td>\n",
       "      <td>1194.0</td>\n",
       "      <td>465.0</td>\n",
       "      <td>2.5179</td>\n",
       "      <td>79000.0</td>\n",
       "    </tr>\n",
       "    <tr>\n",
       "      <th>16997</th>\n",
       "      <td>-124.30</td>\n",
       "      <td>41.84</td>\n",
       "      <td>17.0</td>\n",
       "      <td>2677.0</td>\n",
       "      <td>531.0</td>\n",
       "      <td>1244.0</td>\n",
       "      <td>456.0</td>\n",
       "      <td>3.0313</td>\n",
       "      <td>103600.0</td>\n",
       "    </tr>\n",
       "    <tr>\n",
       "      <th>16998</th>\n",
       "      <td>-124.30</td>\n",
       "      <td>41.80</td>\n",
       "      <td>19.0</td>\n",
       "      <td>2672.0</td>\n",
       "      <td>552.0</td>\n",
       "      <td>1298.0</td>\n",
       "      <td>478.0</td>\n",
       "      <td>1.9797</td>\n",
       "      <td>85800.0</td>\n",
       "    </tr>\n",
       "    <tr>\n",
       "      <th>16999</th>\n",
       "      <td>-124.35</td>\n",
       "      <td>40.54</td>\n",
       "      <td>52.0</td>\n",
       "      <td>1820.0</td>\n",
       "      <td>300.0</td>\n",
       "      <td>806.0</td>\n",
       "      <td>270.0</td>\n",
       "      <td>3.0147</td>\n",
       "      <td>94600.0</td>\n",
       "    </tr>\n",
       "  </tbody>\n",
       "</table>\n",
       "<p>17000 rows × 9 columns</p>\n",
       "</div>"
      ],
      "text/plain": [
       "       longitude  latitude  housing_median_age  total_rooms  total_bedrooms  \\\n",
       "0        -114.31     34.19                15.0       5612.0          1283.0   \n",
       "1        -114.47     34.40                19.0       7650.0          1901.0   \n",
       "2        -114.56     33.69                17.0        720.0           174.0   \n",
       "3        -114.57     33.64                14.0       1501.0           337.0   \n",
       "4        -114.57     33.57                20.0       1454.0           326.0   \n",
       "...          ...       ...                 ...          ...             ...   \n",
       "16995    -124.26     40.58                52.0       2217.0           394.0   \n",
       "16996    -124.27     40.69                36.0       2349.0           528.0   \n",
       "16997    -124.30     41.84                17.0       2677.0           531.0   \n",
       "16998    -124.30     41.80                19.0       2672.0           552.0   \n",
       "16999    -124.35     40.54                52.0       1820.0           300.0   \n",
       "\n",
       "       population  households  median_income  median_house_value  \n",
       "0          1015.0       472.0         1.4936             66900.0  \n",
       "1          1129.0       463.0         1.8200             80100.0  \n",
       "2           333.0       117.0         1.6509             85700.0  \n",
       "3           515.0       226.0         3.1917             73400.0  \n",
       "4           624.0       262.0         1.9250             65500.0  \n",
       "...           ...         ...            ...                 ...  \n",
       "16995       907.0       369.0         2.3571            111400.0  \n",
       "16996      1194.0       465.0         2.5179             79000.0  \n",
       "16997      1244.0       456.0         3.0313            103600.0  \n",
       "16998      1298.0       478.0         1.9797             85800.0  \n",
       "16999       806.0       270.0         3.0147             94600.0  \n",
       "\n",
       "[17000 rows x 9 columns]"
      ]
     },
     "execution_count": 51,
     "metadata": {},
     "output_type": "execute_result"
    }
   ],
   "source": [
    "housing_train = pd.read_csv('../data/california_housing_train.csv')\n",
    "housing_test = pd.read_csv('../data/california_housing_test.csv')\n",
    "housing_train"
   ]
  },
  {
   "cell_type": "code",
   "execution_count": 52,
   "metadata": {},
   "outputs": [
    {
     "data": {
      "text/html": [
       "<div>\n",
       "<style scoped>\n",
       "    .dataframe tbody tr th:only-of-type {\n",
       "        vertical-align: middle;\n",
       "    }\n",
       "\n",
       "    .dataframe tbody tr th {\n",
       "        vertical-align: top;\n",
       "    }\n",
       "\n",
       "    .dataframe thead th {\n",
       "        text-align: right;\n",
       "    }\n",
       "</style>\n",
       "<table border=\"1\" class=\"dataframe\">\n",
       "  <thead>\n",
       "    <tr style=\"text-align: right;\">\n",
       "      <th></th>\n",
       "      <th>longitude</th>\n",
       "      <th>latitude</th>\n",
       "      <th>housing_median_age</th>\n",
       "      <th>total_rooms</th>\n",
       "      <th>total_bedrooms</th>\n",
       "      <th>population</th>\n",
       "      <th>households</th>\n",
       "      <th>median_income</th>\n",
       "      <th>median_house_value</th>\n",
       "    </tr>\n",
       "  </thead>\n",
       "  <tbody>\n",
       "    <tr>\n",
       "      <th>0</th>\n",
       "      <td>-122.05</td>\n",
       "      <td>37.37</td>\n",
       "      <td>27.0</td>\n",
       "      <td>3885.0</td>\n",
       "      <td>661.0</td>\n",
       "      <td>1537.0</td>\n",
       "      <td>606.0</td>\n",
       "      <td>6.6085</td>\n",
       "      <td>344700.0</td>\n",
       "    </tr>\n",
       "    <tr>\n",
       "      <th>1</th>\n",
       "      <td>-118.30</td>\n",
       "      <td>34.26</td>\n",
       "      <td>43.0</td>\n",
       "      <td>1510.0</td>\n",
       "      <td>310.0</td>\n",
       "      <td>809.0</td>\n",
       "      <td>277.0</td>\n",
       "      <td>3.5990</td>\n",
       "      <td>176500.0</td>\n",
       "    </tr>\n",
       "    <tr>\n",
       "      <th>2</th>\n",
       "      <td>-117.81</td>\n",
       "      <td>33.78</td>\n",
       "      <td>27.0</td>\n",
       "      <td>3589.0</td>\n",
       "      <td>507.0</td>\n",
       "      <td>1484.0</td>\n",
       "      <td>495.0</td>\n",
       "      <td>5.7934</td>\n",
       "      <td>270500.0</td>\n",
       "    </tr>\n",
       "    <tr>\n",
       "      <th>3</th>\n",
       "      <td>-118.36</td>\n",
       "      <td>33.82</td>\n",
       "      <td>28.0</td>\n",
       "      <td>67.0</td>\n",
       "      <td>15.0</td>\n",
       "      <td>49.0</td>\n",
       "      <td>11.0</td>\n",
       "      <td>6.1359</td>\n",
       "      <td>330000.0</td>\n",
       "    </tr>\n",
       "    <tr>\n",
       "      <th>4</th>\n",
       "      <td>-119.67</td>\n",
       "      <td>36.33</td>\n",
       "      <td>19.0</td>\n",
       "      <td>1241.0</td>\n",
       "      <td>244.0</td>\n",
       "      <td>850.0</td>\n",
       "      <td>237.0</td>\n",
       "      <td>2.9375</td>\n",
       "      <td>81700.0</td>\n",
       "    </tr>\n",
       "    <tr>\n",
       "      <th>...</th>\n",
       "      <td>...</td>\n",
       "      <td>...</td>\n",
       "      <td>...</td>\n",
       "      <td>...</td>\n",
       "      <td>...</td>\n",
       "      <td>...</td>\n",
       "      <td>...</td>\n",
       "      <td>...</td>\n",
       "      <td>...</td>\n",
       "    </tr>\n",
       "    <tr>\n",
       "      <th>2995</th>\n",
       "      <td>-119.86</td>\n",
       "      <td>34.42</td>\n",
       "      <td>23.0</td>\n",
       "      <td>1450.0</td>\n",
       "      <td>642.0</td>\n",
       "      <td>1258.0</td>\n",
       "      <td>607.0</td>\n",
       "      <td>1.1790</td>\n",
       "      <td>225000.0</td>\n",
       "    </tr>\n",
       "    <tr>\n",
       "      <th>2996</th>\n",
       "      <td>-118.14</td>\n",
       "      <td>34.06</td>\n",
       "      <td>27.0</td>\n",
       "      <td>5257.0</td>\n",
       "      <td>1082.0</td>\n",
       "      <td>3496.0</td>\n",
       "      <td>1036.0</td>\n",
       "      <td>3.3906</td>\n",
       "      <td>237200.0</td>\n",
       "    </tr>\n",
       "    <tr>\n",
       "      <th>2997</th>\n",
       "      <td>-119.70</td>\n",
       "      <td>36.30</td>\n",
       "      <td>10.0</td>\n",
       "      <td>956.0</td>\n",
       "      <td>201.0</td>\n",
       "      <td>693.0</td>\n",
       "      <td>220.0</td>\n",
       "      <td>2.2895</td>\n",
       "      <td>62000.0</td>\n",
       "    </tr>\n",
       "    <tr>\n",
       "      <th>2998</th>\n",
       "      <td>-117.12</td>\n",
       "      <td>34.10</td>\n",
       "      <td>40.0</td>\n",
       "      <td>96.0</td>\n",
       "      <td>14.0</td>\n",
       "      <td>46.0</td>\n",
       "      <td>14.0</td>\n",
       "      <td>3.2708</td>\n",
       "      <td>162500.0</td>\n",
       "    </tr>\n",
       "    <tr>\n",
       "      <th>2999</th>\n",
       "      <td>-119.63</td>\n",
       "      <td>34.42</td>\n",
       "      <td>42.0</td>\n",
       "      <td>1765.0</td>\n",
       "      <td>263.0</td>\n",
       "      <td>753.0</td>\n",
       "      <td>260.0</td>\n",
       "      <td>8.5608</td>\n",
       "      <td>500001.0</td>\n",
       "    </tr>\n",
       "  </tbody>\n",
       "</table>\n",
       "<p>3000 rows × 9 columns</p>\n",
       "</div>"
      ],
      "text/plain": [
       "      longitude  latitude  housing_median_age  total_rooms  total_bedrooms  \\\n",
       "0       -122.05     37.37                27.0       3885.0           661.0   \n",
       "1       -118.30     34.26                43.0       1510.0           310.0   \n",
       "2       -117.81     33.78                27.0       3589.0           507.0   \n",
       "3       -118.36     33.82                28.0         67.0            15.0   \n",
       "4       -119.67     36.33                19.0       1241.0           244.0   \n",
       "...         ...       ...                 ...          ...             ...   \n",
       "2995    -119.86     34.42                23.0       1450.0           642.0   \n",
       "2996    -118.14     34.06                27.0       5257.0          1082.0   \n",
       "2997    -119.70     36.30                10.0        956.0           201.0   \n",
       "2998    -117.12     34.10                40.0         96.0            14.0   \n",
       "2999    -119.63     34.42                42.0       1765.0           263.0   \n",
       "\n",
       "      population  households  median_income  median_house_value  \n",
       "0         1537.0       606.0         6.6085            344700.0  \n",
       "1          809.0       277.0         3.5990            176500.0  \n",
       "2         1484.0       495.0         5.7934            270500.0  \n",
       "3           49.0        11.0         6.1359            330000.0  \n",
       "4          850.0       237.0         2.9375             81700.0  \n",
       "...          ...         ...            ...                 ...  \n",
       "2995      1258.0       607.0         1.1790            225000.0  \n",
       "2996      3496.0      1036.0         3.3906            237200.0  \n",
       "2997       693.0       220.0         2.2895             62000.0  \n",
       "2998        46.0        14.0         3.2708            162500.0  \n",
       "2999       753.0       260.0         8.5608            500001.0  \n",
       "\n",
       "[3000 rows x 9 columns]"
      ]
     },
     "execution_count": 52,
     "metadata": {},
     "output_type": "execute_result"
    }
   ],
   "source": [
    "housing_test"
   ]
  },
  {
   "cell_type": "code",
   "execution_count": 53,
   "metadata": {
    "ExecuteTime": {
     "end_time": "2023-12-19T12:00:38.478412Z",
     "start_time": "2023-12-19T12:00:38.377824Z"
    },
    "id": "-JffLI9PjLQ0"
   },
   "outputs": [],
   "source": [
    "X_train, y_train = housing_train[list(set(housing_train) - set('median_house_value'))], housing_train['median_house_value']\n",
    "X_test, y_test = housing_test[list(set(housing_test) - set('median_house_value'))], housing_test['median_house_value']"
   ]
  },
  {
   "cell_type": "code",
   "execution_count": 54,
   "metadata": {
    "ExecuteTime": {
     "end_time": "2023-12-19T12:00:38.479188Z",
     "start_time": "2023-12-19T12:00:38.385401Z"
    },
    "id": "tSwwMeBAnEe2"
   },
   "outputs": [],
   "source": [
    "scaler = MinMaxScaler()\n",
    "scaler.fit(X_train)\n",
    "\n",
    "X_train_scaled = scaler.transform(X_train)\n",
    "X_test_scaled = scaler.transform(X_test)"
   ]
  },
  {
   "cell_type": "code",
   "execution_count": 55,
   "metadata": {
    "ExecuteTime": {
     "end_time": "2023-12-19T12:00:38.479313Z",
     "start_time": "2023-12-19T12:00:38.395829Z"
    },
    "id": "arcMjzPsnVrp"
   },
   "outputs": [],
   "source": [
    "from sklearn.linear_model import LinearRegression\n",
    "from sklearn.metrics import mean_squared_error, mean_absolute_error\n",
    "\n",
    "from math import sqrt"
   ]
  },
  {
   "cell_type": "code",
   "execution_count": 56,
   "metadata": {
    "ExecuteTime": {
     "end_time": "2023-12-19T12:00:38.593618Z",
     "start_time": "2023-12-19T12:00:38.399133Z"
    },
    "colab": {
     "base_uri": "https://localhost:8080/",
     "height": 74
    },
    "id": "Gu8lyOIona6r",
    "outputId": "1bef18d4-ae48-412a-8478-0ce0aec43cc1"
   },
   "outputs": [
    {
     "data": {
      "text/html": [
       "<style>#sk-container-id-4 {color: black;background-color: white;}#sk-container-id-4 pre{padding: 0;}#sk-container-id-4 div.sk-toggleable {background-color: white;}#sk-container-id-4 label.sk-toggleable__label {cursor: pointer;display: block;width: 100%;margin-bottom: 0;padding: 0.3em;box-sizing: border-box;text-align: center;}#sk-container-id-4 label.sk-toggleable__label-arrow:before {content: \"▸\";float: left;margin-right: 0.25em;color: #696969;}#sk-container-id-4 label.sk-toggleable__label-arrow:hover:before {color: black;}#sk-container-id-4 div.sk-estimator:hover label.sk-toggleable__label-arrow:before {color: black;}#sk-container-id-4 div.sk-toggleable__content {max-height: 0;max-width: 0;overflow: hidden;text-align: left;background-color: #f0f8ff;}#sk-container-id-4 div.sk-toggleable__content pre {margin: 0.2em;color: black;border-radius: 0.25em;background-color: #f0f8ff;}#sk-container-id-4 input.sk-toggleable__control:checked~div.sk-toggleable__content {max-height: 200px;max-width: 100%;overflow: auto;}#sk-container-id-4 input.sk-toggleable__control:checked~label.sk-toggleable__label-arrow:before {content: \"▾\";}#sk-container-id-4 div.sk-estimator input.sk-toggleable__control:checked~label.sk-toggleable__label {background-color: #d4ebff;}#sk-container-id-4 div.sk-label input.sk-toggleable__control:checked~label.sk-toggleable__label {background-color: #d4ebff;}#sk-container-id-4 input.sk-hidden--visually {border: 0;clip: rect(1px 1px 1px 1px);clip: rect(1px, 1px, 1px, 1px);height: 1px;margin: -1px;overflow: hidden;padding: 0;position: absolute;width: 1px;}#sk-container-id-4 div.sk-estimator {font-family: monospace;background-color: #f0f8ff;border: 1px dotted black;border-radius: 0.25em;box-sizing: border-box;margin-bottom: 0.5em;}#sk-container-id-4 div.sk-estimator:hover {background-color: #d4ebff;}#sk-container-id-4 div.sk-parallel-item::after {content: \"\";width: 100%;border-bottom: 1px solid gray;flex-grow: 1;}#sk-container-id-4 div.sk-label:hover label.sk-toggleable__label {background-color: #d4ebff;}#sk-container-id-4 div.sk-serial::before {content: \"\";position: absolute;border-left: 1px solid gray;box-sizing: border-box;top: 0;bottom: 0;left: 50%;z-index: 0;}#sk-container-id-4 div.sk-serial {display: flex;flex-direction: column;align-items: center;background-color: white;padding-right: 0.2em;padding-left: 0.2em;position: relative;}#sk-container-id-4 div.sk-item {position: relative;z-index: 1;}#sk-container-id-4 div.sk-parallel {display: flex;align-items: stretch;justify-content: center;background-color: white;position: relative;}#sk-container-id-4 div.sk-item::before, #sk-container-id-4 div.sk-parallel-item::before {content: \"\";position: absolute;border-left: 1px solid gray;box-sizing: border-box;top: 0;bottom: 0;left: 50%;z-index: -1;}#sk-container-id-4 div.sk-parallel-item {display: flex;flex-direction: column;z-index: 1;position: relative;background-color: white;}#sk-container-id-4 div.sk-parallel-item:first-child::after {align-self: flex-end;width: 50%;}#sk-container-id-4 div.sk-parallel-item:last-child::after {align-self: flex-start;width: 50%;}#sk-container-id-4 div.sk-parallel-item:only-child::after {width: 0;}#sk-container-id-4 div.sk-dashed-wrapped {border: 1px dashed gray;margin: 0 0.4em 0.5em 0.4em;box-sizing: border-box;padding-bottom: 0.4em;background-color: white;}#sk-container-id-4 div.sk-label label {font-family: monospace;font-weight: bold;display: inline-block;line-height: 1.2em;}#sk-container-id-4 div.sk-label-container {text-align: center;}#sk-container-id-4 div.sk-container {/* jupyter's `normalize.less` sets `[hidden] { display: none; }` but bootstrap.min.css set `[hidden] { display: none !important; }` so we also need the `!important` here to be able to override the default hidden behavior on the sphinx rendered scikit-learn.org. See: https://github.com/scikit-learn/scikit-learn/issues/21755 */display: inline-block !important;position: relative;}#sk-container-id-4 div.sk-text-repr-fallback {display: none;}</style><div id=\"sk-container-id-4\" class=\"sk-top-container\"><div class=\"sk-text-repr-fallback\"><pre>LinearRegression()</pre><b>In a Jupyter environment, please rerun this cell to show the HTML representation or trust the notebook. <br />On GitHub, the HTML representation is unable to render, please try loading this page with nbviewer.org.</b></div><div class=\"sk-container\" hidden><div class=\"sk-item\"><div class=\"sk-estimator sk-toggleable\"><input class=\"sk-toggleable__control sk-hidden--visually\" id=\"sk-estimator-id-4\" type=\"checkbox\" checked><label for=\"sk-estimator-id-4\" class=\"sk-toggleable__label sk-toggleable__label-arrow\">LinearRegression</label><div class=\"sk-toggleable__content\"><pre>LinearRegression()</pre></div></div></div></div></div>"
      ],
      "text/plain": [
       "LinearRegression()"
      ]
     },
     "execution_count": 56,
     "metadata": {},
     "output_type": "execute_result"
    }
   ],
   "source": [
    "model = LinearRegression()\n",
    "model.fit(X_train, y_train)"
   ]
  },
  {
   "cell_type": "code",
   "execution_count": 57,
   "metadata": {
    "ExecuteTime": {
     "end_time": "2023-12-19T12:00:38.727879Z",
     "start_time": "2023-12-19T12:00:38.405585Z"
    },
    "id": "AwdPKl1Knh-4"
   },
   "outputs": [],
   "source": [
    "y_pred = model.predict(X_test)"
   ]
  },
  {
   "cell_type": "code",
   "execution_count": 58,
   "metadata": {
    "ExecuteTime": {
     "end_time": "2023-12-19T12:00:38.728158Z",
     "start_time": "2023-12-19T12:00:38.547849Z"
    },
    "id": "PlQ7zf86nlaf"
   },
   "outputs": [],
   "source": [
    "mse = mean_squared_error(y_test, y_pred)\n",
    "mae = mean_absolute_error(y_test, y_pred)"
   ]
  },
  {
   "cell_type": "code",
   "execution_count": 59,
   "metadata": {
    "ExecuteTime": {
     "end_time": "2023-12-19T12:00:38.728596Z",
     "start_time": "2023-12-19T12:00:38.556140Z"
    },
    "colab": {
     "base_uri": "https://localhost:8080/",
     "height": 35
    },
    "id": "IL3g965In-8T",
    "outputId": "1c09f58d-411d-42c3-9864-1ded1caf8916"
   },
   "outputs": [
    {
     "data": {
      "text/plain": [
       "'MSE: 2.0151134396676486e-21, RMSE: 4.489001492166881e-11, MAE: 3.1632225727662445e-11'"
      ]
     },
     "execution_count": 59,
     "metadata": {},
     "output_type": "execute_result"
    }
   ],
   "source": [
    "f'MSE: {mse}, RMSE: {sqrt(mse)}, MAE: {mae}'"
   ]
  },
  {
   "cell_type": "markdown",
   "metadata": {
    "id": "GLYIP96xokVX"
   },
   "source": [
    "### K-NN\n",
    "\n",
    "Algorytm k-nn może być wykorzystywany także w zadaniach regresji, które w przeciwieństwie do klasyfikacji, polega na uśrednianiu wartości przypisanych k najbliższym sąsiadom."
   ]
  },
  {
   "cell_type": "markdown",
   "metadata": {},
   "source": [
    "K-Nearest Neighbors (KNN) jako regressor działa na podobnych zasadach jak KNN w klasyfikacji, ale zamiast przypisywać klasę na podstawie większości sąsiadów, KNN Regression przewiduje wartość liczbową poprzez analizę średniej (lub czasem mediany) wartości sąsiadujących punktów. Jest to metoda regresji, która nie zakłada określonej struktury danych i nie wymaga treningu modelu w tradycyjnym sensie. Zamiast tego, przewidywanie dla nowego punktu bazuje na wartościach znanych punktów w jego otoczeniu, co czyni ją metodą bezpośrednią i intuicyjną.\n",
    "\n",
    "### Kroki działania KNN Regression:\n",
    "\n",
    "1. **Określenie liczby sąsiadów (k)**: W pierwszej kolejności należy ustalić, ilu najbliższych sąsiadów (k) model powinien brać pod uwagę. Typowo k jest małą, nieparzystą liczbą, ale jej wartość zależy od rozmiaru i charakterystyki zbioru danych. Im mniejsze k, tym bliższy jest to model lokalny, bardziej podatny na zmienność w danych; większe k skutkuje bardziej uśrednionym, globalnym przewidywaniem.\n",
    "\n",
    "2. **Obliczanie odległości**: Model mierzy odległość między nowym punktem (dla którego chcemy przewidzieć wartość) a wszystkimi punktami w zbiorze treningowym. Do tego najczęściej wykorzystuje się metrykę euklidesową, choć można stosować inne, jak metryka Manhattan czy Minkowskiego.\n",
    "\n",
    "3. **Znalezienie k najbliższych sąsiadów**: Po obliczeniu odległości model wybiera k najbliższych sąsiadów nowego punktu. Te punkty będą miały największy wpływ na przewidywaną wartość.\n",
    "\n",
    "4. **Obliczenie przewidywanej wartości**: Wartość docelowa dla nowego punktu obliczana jest jako średnia arytmetyczna wartości wszystkich k wybranych sąsiadów. W niektórych przypadkach stosuje się medianę zamiast średniej, aby zmniejszyć wpływ wartości odstających, które mogą zaburzyć wynik.\n",
    "\n",
    "5. **Zastosowanie ważenia**: W niektórych implementacjach KNN Regression wprowadza się ważenie wartości sąsiadów, tzn. sąsiedzi bliżsi mają większy wpływ na wartość przewidywaną niż dalsi sąsiedzi. Dzięki temu, model jest bardziej czuły na lokalne zmiany w danych, co może poprawić jakość przewidywania.\n",
    "\n",
    "### Wady i zalety KNN Regression:\n",
    "\n",
    "**Zalety:**\n",
    "- **Brak założeń**: KNN Regression nie wymaga założeń na temat rozkładu danych.\n",
    "- **Elastyczność**: Model działa dobrze na skomplikowanych zbiorach danych, których rozkład jest trudny do modelowania za pomocą tradycyjnych metod regresji.\n",
    "- **Łatwość interpretacji**: Przewidywanie oparte jest na analizie sąsiadów, co ułatwia interpretację wyniku.\n",
    "\n",
    "**Wady:**\n",
    "- **Wydajność na dużych zbiorach danych**: KNN wymaga obliczenia odległości do wszystkich punktów w zbiorze treningowym, co przy dużej liczbie danych może być czasochłonne.\n",
    "- **Wrażliwość na rozkład danych i wartość k**: Wybór odpowiedniego k i metryki jest kluczowy dla poprawnego działania modelu. Niewłaściwy wybór może prowadzić do overfittingu (dla małych k) lub underfittingu (dla dużych k).\n",
    "- **Wrażliwość na wartości odstające**: Brak mechanizmów regulujących wpływ wartości odstających może prowadzić do błędnych przewidywań.\n",
    "\n",
    "### Zastosowanie KNN Regression\n",
    "\n",
    "KNN Regression jest skuteczna w przypadku problemów z danymi o nieliniowych zależnościach lub gdy nie mamy informacji na temat kształtu zależności między zmiennymi. Przykłady zastosowań obejmują prognozowanie wartości domów na podstawie ich lokalizacji i cech sąsiedztwa, przewidywanie wyników sportowych na podstawie wyników drużyn o zbliżonych charakterystykach, czy modelowanie sprzedaży w podobnych sklepach lub lokalizacjach."
   ]
  },
  {
   "cell_type": "markdown",
   "metadata": {},
   "source": [
    "![](https://miro.medium.com/v2/resize:fit:1276/1*0_OdVjzfXYIZhE_e5aPzFA.jpeg)\n",
    "\n",
    "*source: medium.com*"
   ]
  },
  {
   "cell_type": "markdown",
   "metadata": {
    "id": "YaXXsDrvpXws"
   },
   "source": [
    "Do realizacji zadania regresji za pomocą algorytmu k najbliższych sąsiadów przeznaczona jest klasa [KNeighborsRegressor](https://scikit-learn.org/stable/modules/generated/sklearn.neighbors.KNeighborsRegressor.html). Parametry pozostają te same, co w przypadku klasy **KNeighborsClassifier**."
   ]
  },
  {
   "cell_type": "code",
   "execution_count": 60,
   "metadata": {
    "ExecuteTime": {
     "end_time": "2023-12-19T12:00:38.728704Z",
     "start_time": "2023-12-19T12:00:38.561625Z"
    },
    "id": "Wapt9_8Ooj5z"
   },
   "outputs": [],
   "source": [
    "from sklearn.neighbors import KNeighborsRegressor"
   ]
  },
  {
   "cell_type": "code",
   "execution_count": 61,
   "metadata": {
    "ExecuteTime": {
     "end_time": "2023-12-19T12:00:38.729501Z",
     "start_time": "2023-12-19T12:00:38.570329Z"
    },
    "colab": {
     "base_uri": "https://localhost:8080/",
     "height": 74
    },
    "id": "WLvcr8tDoJjO",
    "outputId": "49db67f3-6015-4161-eaf9-8ebeb0b184c3"
   },
   "outputs": [
    {
     "data": {
      "text/html": [
       "<style>#sk-container-id-5 {color: black;background-color: white;}#sk-container-id-5 pre{padding: 0;}#sk-container-id-5 div.sk-toggleable {background-color: white;}#sk-container-id-5 label.sk-toggleable__label {cursor: pointer;display: block;width: 100%;margin-bottom: 0;padding: 0.3em;box-sizing: border-box;text-align: center;}#sk-container-id-5 label.sk-toggleable__label-arrow:before {content: \"▸\";float: left;margin-right: 0.25em;color: #696969;}#sk-container-id-5 label.sk-toggleable__label-arrow:hover:before {color: black;}#sk-container-id-5 div.sk-estimator:hover label.sk-toggleable__label-arrow:before {color: black;}#sk-container-id-5 div.sk-toggleable__content {max-height: 0;max-width: 0;overflow: hidden;text-align: left;background-color: #f0f8ff;}#sk-container-id-5 div.sk-toggleable__content pre {margin: 0.2em;color: black;border-radius: 0.25em;background-color: #f0f8ff;}#sk-container-id-5 input.sk-toggleable__control:checked~div.sk-toggleable__content {max-height: 200px;max-width: 100%;overflow: auto;}#sk-container-id-5 input.sk-toggleable__control:checked~label.sk-toggleable__label-arrow:before {content: \"▾\";}#sk-container-id-5 div.sk-estimator input.sk-toggleable__control:checked~label.sk-toggleable__label {background-color: #d4ebff;}#sk-container-id-5 div.sk-label input.sk-toggleable__control:checked~label.sk-toggleable__label {background-color: #d4ebff;}#sk-container-id-5 input.sk-hidden--visually {border: 0;clip: rect(1px 1px 1px 1px);clip: rect(1px, 1px, 1px, 1px);height: 1px;margin: -1px;overflow: hidden;padding: 0;position: absolute;width: 1px;}#sk-container-id-5 div.sk-estimator {font-family: monospace;background-color: #f0f8ff;border: 1px dotted black;border-radius: 0.25em;box-sizing: border-box;margin-bottom: 0.5em;}#sk-container-id-5 div.sk-estimator:hover {background-color: #d4ebff;}#sk-container-id-5 div.sk-parallel-item::after {content: \"\";width: 100%;border-bottom: 1px solid gray;flex-grow: 1;}#sk-container-id-5 div.sk-label:hover label.sk-toggleable__label {background-color: #d4ebff;}#sk-container-id-5 div.sk-serial::before {content: \"\";position: absolute;border-left: 1px solid gray;box-sizing: border-box;top: 0;bottom: 0;left: 50%;z-index: 0;}#sk-container-id-5 div.sk-serial {display: flex;flex-direction: column;align-items: center;background-color: white;padding-right: 0.2em;padding-left: 0.2em;position: relative;}#sk-container-id-5 div.sk-item {position: relative;z-index: 1;}#sk-container-id-5 div.sk-parallel {display: flex;align-items: stretch;justify-content: center;background-color: white;position: relative;}#sk-container-id-5 div.sk-item::before, #sk-container-id-5 div.sk-parallel-item::before {content: \"\";position: absolute;border-left: 1px solid gray;box-sizing: border-box;top: 0;bottom: 0;left: 50%;z-index: -1;}#sk-container-id-5 div.sk-parallel-item {display: flex;flex-direction: column;z-index: 1;position: relative;background-color: white;}#sk-container-id-5 div.sk-parallel-item:first-child::after {align-self: flex-end;width: 50%;}#sk-container-id-5 div.sk-parallel-item:last-child::after {align-self: flex-start;width: 50%;}#sk-container-id-5 div.sk-parallel-item:only-child::after {width: 0;}#sk-container-id-5 div.sk-dashed-wrapped {border: 1px dashed gray;margin: 0 0.4em 0.5em 0.4em;box-sizing: border-box;padding-bottom: 0.4em;background-color: white;}#sk-container-id-5 div.sk-label label {font-family: monospace;font-weight: bold;display: inline-block;line-height: 1.2em;}#sk-container-id-5 div.sk-label-container {text-align: center;}#sk-container-id-5 div.sk-container {/* jupyter's `normalize.less` sets `[hidden] { display: none; }` but bootstrap.min.css set `[hidden] { display: none !important; }` so we also need the `!important` here to be able to override the default hidden behavior on the sphinx rendered scikit-learn.org. See: https://github.com/scikit-learn/scikit-learn/issues/21755 */display: inline-block !important;position: relative;}#sk-container-id-5 div.sk-text-repr-fallback {display: none;}</style><div id=\"sk-container-id-5\" class=\"sk-top-container\"><div class=\"sk-text-repr-fallback\"><pre>KNeighborsRegressor()</pre><b>In a Jupyter environment, please rerun this cell to show the HTML representation or trust the notebook. <br />On GitHub, the HTML representation is unable to render, please try loading this page with nbviewer.org.</b></div><div class=\"sk-container\" hidden><div class=\"sk-item\"><div class=\"sk-estimator sk-toggleable\"><input class=\"sk-toggleable__control sk-hidden--visually\" id=\"sk-estimator-id-5\" type=\"checkbox\" checked><label for=\"sk-estimator-id-5\" class=\"sk-toggleable__label sk-toggleable__label-arrow\">KNeighborsRegressor</label><div class=\"sk-toggleable__content\"><pre>KNeighborsRegressor()</pre></div></div></div></div></div>"
      ],
      "text/plain": [
       "KNeighborsRegressor()"
      ]
     },
     "execution_count": 61,
     "metadata": {},
     "output_type": "execute_result"
    }
   ],
   "source": [
    "model = KNeighborsRegressor()\n",
    "model.fit(X_train, y_train)"
   ]
  },
  {
   "cell_type": "code",
   "execution_count": 62,
   "metadata": {
    "ExecuteTime": {
     "end_time": "2023-12-19T12:00:38.743391Z",
     "start_time": "2023-12-19T12:00:38.586875Z"
    },
    "id": "2-2lFl-up9mL"
   },
   "outputs": [],
   "source": [
    "y_pred = model.predict(X_test)"
   ]
  },
  {
   "cell_type": "code",
   "execution_count": 63,
   "metadata": {
    "ExecuteTime": {
     "end_time": "2023-12-19T12:00:38.744934Z",
     "start_time": "2023-12-19T12:00:38.682822Z"
    },
    "id": "2z7iVD5mp_9q"
   },
   "outputs": [],
   "source": [
    "mse = mean_squared_error(y_test, y_pred)\n",
    "mae = mean_absolute_error(y_test, y_pred)"
   ]
  },
  {
   "cell_type": "code",
   "execution_count": 64,
   "metadata": {
    "ExecuteTime": {
     "end_time": "2023-12-19T12:00:38.745259Z",
     "start_time": "2023-12-19T12:00:38.685517Z"
    },
    "colab": {
     "base_uri": "https://localhost:8080/",
     "height": 35
    },
    "id": "4UFViWRdqCEF",
    "outputId": "f91faabd-76a2-4e78-bb25-e5a65987094b"
   },
   "outputs": [
    {
     "data": {
      "text/plain": [
       "'MSE: 51961.068386666666, RMSE: 227.9497058271115, MAE: 114.64273333333341'"
      ]
     },
     "execution_count": 64,
     "metadata": {},
     "output_type": "execute_result"
    }
   ],
   "source": [
    "f'MSE: {mse}, RMSE: {sqrt(mse)}, MAE: {mae}'"
   ]
  },
  {
   "cell_type": "markdown",
   "metadata": {
    "id": "y73ilaH7pt5Q"
   },
   "source": [
    "### Drzewo decyzyjne"
   ]
  },
  {
   "cell_type": "markdown",
   "metadata": {},
   "source": [
    "Drzewo decyzyjne jako regressor, czyli **Decision Tree Regressor**, przewiduje wartość liczbową docelową poprzez segmentację danych wejściowych na coraz bardziej homogeniczne podgrupy na podstawie kryteriów podziału. Model ten działa na zasadzie wielokrotnego podziału przestrzeni atrybutów na mniejsze części, aby zminimalizować różnicę pomiędzy rzeczywistymi a przewidywanymi wartościami w każdej z tych części.\n",
    "\n",
    "### 1. Podstawowe działanie drzewa decyzyjnego w regresji\n",
    "\n",
    "Podobnie jak w drzewie decyzyjnym stosowanym do klasyfikacji, regressor również tworzy strukturę w postaci drzewa, w której każda gałąź reprezentuje podział zbioru danych na podstawie wartości jednego z atrybutów. W przypadku regresji, zamiast przewidywać klasę, drzewo decyzyjne przewiduje wartość liczbową w każdym końcowym węźle (liściu).\n",
    "\n",
    "Główne kroki działania są następujące:\n",
    "\n",
    "1. **Podział węzłów na podstawie atrybutów**: Drzewo decyzyjne analizuje różne atrybuty danych wejściowych, aby znaleźć ten, który najlepiej dzieli dane w sposób minimalizujący błąd predykcji. W przypadku regresji, najczęściej stosowanymi kryteriami są:\n",
    "   - **MSE (Mean Squared Error)**: Średni błąd kwadratowy, czyli suma kwadratów różnic między rzeczywistymi a przewidywanymi wartościami.\n",
    "   - **MAE (Mean Absolute Error)**: Średni błąd absolutny, czyli suma wartości bezwzględnych różnic między rzeczywistymi a przewidywanymi wartościami.\n",
    "\n",
    "2. **Proces rekurencyjny**: Drzewo dzieli węzły iteracyjnie, aż do osiągnięcia określonych kryteriów zakończenia, takich jak maksymalna głębokość drzewa, minimalna liczba próbek w liściu, czy minimalna ilość redukcji błędu. Każdy węzeł prowadzi do bardziej szczegółowych podziałów, co pozwala na dokładniejsze przewidywania.\n",
    "\n",
    "3. **Przewidywanie wartości**: Gdy nowe dane wejściowe przechodzą przez drzewo, trafiają do konkretnego liścia (węzła końcowego), gdzie przechowywana jest średnia wartość docelowa danych uczących, które trafiły do tego węzła podczas treningu. Ta średnia jest przewidywaną wartością dla nowych danych.\n",
    "\n",
    "### 2. Przykład działania w praktyce\n",
    "\n",
    "Wyobraźmy sobie model, który prognozuje cenę domu na podstawie różnych cech, takich jak wielkość, liczba pokoi, czy lokalizacja. Drzewo decyzyjne rozpoczyna od analizy podziałów o najwyższej wartości predykcyjnej: na przykład może najpierw sprawdzić lokalizację, a następnie liczbę pokoi w każdej lokalizacji. Z każdym kolejnym poziomem podziałów drzewo dzieli dane coraz bardziej precyzyjnie, aż do osiągnięcia liści, które zawierają jednorodne grupy cen.\n",
    "\n",
    "### 3. Zalety i wady drzewa decyzyjnego w regresji\n",
    "\n",
    "**Zalety:**\n",
    "- **Brak założenia liniowości**: Drzewa decyzyjne są w stanie modelować zależności nieliniowe, co jest przydatne w przypadku skomplikowanych, nieregularnych danych.\n",
    "- **Łatwość interpretacji**: Drzewo można zwizualizować, co pozwala zrozumieć, które cechy mają największy wpływ na wynik.\n",
    "- **Obsługa danych mieszanych**: Drzewa mogą pracować z danymi zarówno liczbowymi, jak i kategorycznymi, co czyni je wszechstronnymi narzędziami.\n",
    "\n",
    "**Wady:**\n",
    "- **Overfitting**: Drzewa decyzyjne mają tendencję do dopasowywania się zbyt dokładnie do danych uczących, co może prowadzić do spadku dokładności na nowych danych.\n",
    "- **Wrażliwość na dane wejściowe**: Drzewo decyzyjne jest podatne na zmiany w danych uczących – niewielkie różnice mogą prowadzić do dużych zmian w strukturze drzewa.\n",
    "- **Brak gładkości przewidywań**: Drzewo decyzyjne generuje prognozy w postaci „skoków” (wartości w liściach są sztywne), co może być problematyczne w modelach, gdzie przewidywana wartość powinna zmieniać się płynnie.\n",
    "\n",
    "### 4. Zastosowania drzewa decyzyjnego jako regresora\n",
    "\n",
    "Drzewa decyzyjne jako regresory są stosowane w szerokim zakresie zastosowań, takich jak:\n",
    "- **Prognozowanie cen** (np. nieruchomości, akcji),\n",
    "- **Modelowanie wartości liczbowych na podstawie cech demograficznych**,\n",
    "- **Przewidywanie wyników sportowych**,\n",
    "- **Analiza danych marketingowych**, np. prognozowanie wydatków konsumentów na podstawie ich preferencji i zachowań.\n",
    "\n",
    "Drzewa decyzyjne jako regressor są intuicyjną metodą do modelowania złożonych zależności w danych. Jednak w praktyce często stosuje się metody zespołowe (np. lasy losowe lub gradient boosting) oparte na wielu drzewach, aby zwiększyć stabilność i dokładność przewidywań."
   ]
  },
  {
   "cell_type": "markdown",
   "metadata": {},
   "source": [
    "![](https://scikit-learn.org/1.5/_images/sphx_glr_plot_tree_regression_001.png)\n",
    "\n",
    "*source: scikit-learn.org*"
   ]
  },
  {
   "cell_type": "markdown",
   "metadata": {
    "id": "nUWXrfliqvap"
   },
   "source": [
    "Do realizacji zadania regresji za pomocą drzewa decyzyjnego przeznaczona jest klasa [DecisionTreeRegressor](https://scikit-learn.org/stable/modules/generated/sklearn.tree.DecisionTreeRegressor.html). Parametry pozostają te same, co w przypadku klasy **DecisionTreeClassifier**."
   ]
  },
  {
   "cell_type": "code",
   "execution_count": 65,
   "metadata": {
    "ExecuteTime": {
     "end_time": "2023-12-19T12:00:38.745358Z",
     "start_time": "2023-12-19T12:00:38.689469Z"
    },
    "id": "_Qp2Bq-iq-8d"
   },
   "outputs": [],
   "source": [
    "from sklearn.tree import DecisionTreeRegressor"
   ]
  },
  {
   "cell_type": "code",
   "execution_count": 66,
   "metadata": {
    "ExecuteTime": {
     "end_time": "2023-12-19T12:00:39.115399Z",
     "start_time": "2023-12-19T12:00:38.692237Z"
    },
    "colab": {
     "base_uri": "https://localhost:8080/",
     "height": 74
    },
    "id": "mITpoAz0rDVr",
    "outputId": "36efa854-0357-404c-f414-2156ae3ca389"
   },
   "outputs": [
    {
     "data": {
      "text/html": [
       "<style>#sk-container-id-6 {color: black;background-color: white;}#sk-container-id-6 pre{padding: 0;}#sk-container-id-6 div.sk-toggleable {background-color: white;}#sk-container-id-6 label.sk-toggleable__label {cursor: pointer;display: block;width: 100%;margin-bottom: 0;padding: 0.3em;box-sizing: border-box;text-align: center;}#sk-container-id-6 label.sk-toggleable__label-arrow:before {content: \"▸\";float: left;margin-right: 0.25em;color: #696969;}#sk-container-id-6 label.sk-toggleable__label-arrow:hover:before {color: black;}#sk-container-id-6 div.sk-estimator:hover label.sk-toggleable__label-arrow:before {color: black;}#sk-container-id-6 div.sk-toggleable__content {max-height: 0;max-width: 0;overflow: hidden;text-align: left;background-color: #f0f8ff;}#sk-container-id-6 div.sk-toggleable__content pre {margin: 0.2em;color: black;border-radius: 0.25em;background-color: #f0f8ff;}#sk-container-id-6 input.sk-toggleable__control:checked~div.sk-toggleable__content {max-height: 200px;max-width: 100%;overflow: auto;}#sk-container-id-6 input.sk-toggleable__control:checked~label.sk-toggleable__label-arrow:before {content: \"▾\";}#sk-container-id-6 div.sk-estimator input.sk-toggleable__control:checked~label.sk-toggleable__label {background-color: #d4ebff;}#sk-container-id-6 div.sk-label input.sk-toggleable__control:checked~label.sk-toggleable__label {background-color: #d4ebff;}#sk-container-id-6 input.sk-hidden--visually {border: 0;clip: rect(1px 1px 1px 1px);clip: rect(1px, 1px, 1px, 1px);height: 1px;margin: -1px;overflow: hidden;padding: 0;position: absolute;width: 1px;}#sk-container-id-6 div.sk-estimator {font-family: monospace;background-color: #f0f8ff;border: 1px dotted black;border-radius: 0.25em;box-sizing: border-box;margin-bottom: 0.5em;}#sk-container-id-6 div.sk-estimator:hover {background-color: #d4ebff;}#sk-container-id-6 div.sk-parallel-item::after {content: \"\";width: 100%;border-bottom: 1px solid gray;flex-grow: 1;}#sk-container-id-6 div.sk-label:hover label.sk-toggleable__label {background-color: #d4ebff;}#sk-container-id-6 div.sk-serial::before {content: \"\";position: absolute;border-left: 1px solid gray;box-sizing: border-box;top: 0;bottom: 0;left: 50%;z-index: 0;}#sk-container-id-6 div.sk-serial {display: flex;flex-direction: column;align-items: center;background-color: white;padding-right: 0.2em;padding-left: 0.2em;position: relative;}#sk-container-id-6 div.sk-item {position: relative;z-index: 1;}#sk-container-id-6 div.sk-parallel {display: flex;align-items: stretch;justify-content: center;background-color: white;position: relative;}#sk-container-id-6 div.sk-item::before, #sk-container-id-6 div.sk-parallel-item::before {content: \"\";position: absolute;border-left: 1px solid gray;box-sizing: border-box;top: 0;bottom: 0;left: 50%;z-index: -1;}#sk-container-id-6 div.sk-parallel-item {display: flex;flex-direction: column;z-index: 1;position: relative;background-color: white;}#sk-container-id-6 div.sk-parallel-item:first-child::after {align-self: flex-end;width: 50%;}#sk-container-id-6 div.sk-parallel-item:last-child::after {align-self: flex-start;width: 50%;}#sk-container-id-6 div.sk-parallel-item:only-child::after {width: 0;}#sk-container-id-6 div.sk-dashed-wrapped {border: 1px dashed gray;margin: 0 0.4em 0.5em 0.4em;box-sizing: border-box;padding-bottom: 0.4em;background-color: white;}#sk-container-id-6 div.sk-label label {font-family: monospace;font-weight: bold;display: inline-block;line-height: 1.2em;}#sk-container-id-6 div.sk-label-container {text-align: center;}#sk-container-id-6 div.sk-container {/* jupyter's `normalize.less` sets `[hidden] { display: none; }` but bootstrap.min.css set `[hidden] { display: none !important; }` so we also need the `!important` here to be able to override the default hidden behavior on the sphinx rendered scikit-learn.org. See: https://github.com/scikit-learn/scikit-learn/issues/21755 */display: inline-block !important;position: relative;}#sk-container-id-6 div.sk-text-repr-fallback {display: none;}</style><div id=\"sk-container-id-6\" class=\"sk-top-container\"><div class=\"sk-text-repr-fallback\"><pre>DecisionTreeRegressor()</pre><b>In a Jupyter environment, please rerun this cell to show the HTML representation or trust the notebook. <br />On GitHub, the HTML representation is unable to render, please try loading this page with nbviewer.org.</b></div><div class=\"sk-container\" hidden><div class=\"sk-item\"><div class=\"sk-estimator sk-toggleable\"><input class=\"sk-toggleable__control sk-hidden--visually\" id=\"sk-estimator-id-6\" type=\"checkbox\" checked><label for=\"sk-estimator-id-6\" class=\"sk-toggleable__label sk-toggleable__label-arrow\">DecisionTreeRegressor</label><div class=\"sk-toggleable__content\"><pre>DecisionTreeRegressor()</pre></div></div></div></div></div>"
      ],
      "text/plain": [
       "DecisionTreeRegressor()"
      ]
     },
     "execution_count": 66,
     "metadata": {},
     "output_type": "execute_result"
    }
   ],
   "source": [
    "model = DecisionTreeRegressor()\n",
    "model.fit(X_train, y_train)"
   ]
  },
  {
   "cell_type": "code",
   "execution_count": 67,
   "metadata": {
    "ExecuteTime": {
     "end_time": "2023-12-19T12:00:39.115685Z",
     "start_time": "2023-12-19T12:00:38.816405Z"
    },
    "id": "lx-YL7JSrGEr"
   },
   "outputs": [],
   "source": [
    "y_pred = model.predict(X_test)"
   ]
  },
  {
   "cell_type": "code",
   "execution_count": 68,
   "metadata": {
    "ExecuteTime": {
     "end_time": "2023-12-19T12:00:39.115778Z",
     "start_time": "2023-12-19T12:00:38.821050Z"
    },
    "id": "e8wH7f7qrHcI"
   },
   "outputs": [],
   "source": [
    "mse = mean_squared_error(y_test, y_pred)\n",
    "mae = mean_absolute_error(y_test, y_pred)"
   ]
  },
  {
   "cell_type": "code",
   "execution_count": 69,
   "metadata": {
    "ExecuteTime": {
     "end_time": "2023-12-19T12:00:39.116034Z",
     "start_time": "2023-12-19T12:00:38.824349Z"
    },
    "colab": {
     "base_uri": "https://localhost:8080/",
     "height": 35
    },
    "id": "pJ2Yv31ErIh_",
    "outputId": "4e30064d-8678-4296-a25f-64177346c7ac"
   },
   "outputs": [
    {
     "data": {
      "text/plain": [
       "'MSE: 5800.0, RMSE: 76.15773105863909, MAE: 19.266666666666666'"
      ]
     },
     "execution_count": 69,
     "metadata": {},
     "output_type": "execute_result"
    }
   ],
   "source": [
    "f'MSE: {mse}, RMSE: {sqrt(mse)}, MAE: {mae}'"
   ]
  },
  {
   "cell_type": "markdown",
   "metadata": {
    "id": "8O3Kr8MaoNxA"
   },
   "source": [
    "## Potoki z estymatorami"
   ]
  },
  {
   "cell_type": "markdown",
   "metadata": {},
   "source": [
    "Tak jak robiliśmy z potokami dotyczącycmi transformacji naszych danych, tak do potoków możemy dodać również nasze modele."
   ]
  },
  {
   "cell_type": "code",
   "execution_count": 70,
   "metadata": {
    "ExecuteTime": {
     "end_time": "2023-12-19T12:00:39.116129Z",
     "start_time": "2023-12-19T12:00:38.827485Z"
    },
    "id": "K68Sd-WrqD7I"
   },
   "outputs": [],
   "source": [
    "from sklearn.pipeline import make_pipeline"
   ]
  },
  {
   "cell_type": "code",
   "execution_count": 71,
   "metadata": {
    "ExecuteTime": {
     "end_time": "2023-12-19T12:00:39.116225Z",
     "start_time": "2023-12-19T12:00:38.831310Z"
    },
    "id": "AF6gAhbgtpRe"
   },
   "outputs": [],
   "source": [
    "train_pipeline = make_pipeline(\n",
    "    MinMaxScaler(),\n",
    "    LinearRegression(),\n",
    ")"
   ]
  },
  {
   "cell_type": "code",
   "execution_count": 72,
   "metadata": {
    "ExecuteTime": {
     "end_time": "2023-12-19T12:00:39.117351Z",
     "start_time": "2023-12-19T12:00:38.834520Z"
    },
    "colab": {
     "base_uri": "https://localhost:8080/",
     "height": 124
    },
    "id": "CuKuet5oucia",
    "outputId": "75b2541e-a0c1-4a05-e6f1-baeb338f52ae"
   },
   "outputs": [
    {
     "data": {
      "text/html": [
       "<style>#sk-container-id-7 {color: black;background-color: white;}#sk-container-id-7 pre{padding: 0;}#sk-container-id-7 div.sk-toggleable {background-color: white;}#sk-container-id-7 label.sk-toggleable__label {cursor: pointer;display: block;width: 100%;margin-bottom: 0;padding: 0.3em;box-sizing: border-box;text-align: center;}#sk-container-id-7 label.sk-toggleable__label-arrow:before {content: \"▸\";float: left;margin-right: 0.25em;color: #696969;}#sk-container-id-7 label.sk-toggleable__label-arrow:hover:before {color: black;}#sk-container-id-7 div.sk-estimator:hover label.sk-toggleable__label-arrow:before {color: black;}#sk-container-id-7 div.sk-toggleable__content {max-height: 0;max-width: 0;overflow: hidden;text-align: left;background-color: #f0f8ff;}#sk-container-id-7 div.sk-toggleable__content pre {margin: 0.2em;color: black;border-radius: 0.25em;background-color: #f0f8ff;}#sk-container-id-7 input.sk-toggleable__control:checked~div.sk-toggleable__content {max-height: 200px;max-width: 100%;overflow: auto;}#sk-container-id-7 input.sk-toggleable__control:checked~label.sk-toggleable__label-arrow:before {content: \"▾\";}#sk-container-id-7 div.sk-estimator input.sk-toggleable__control:checked~label.sk-toggleable__label {background-color: #d4ebff;}#sk-container-id-7 div.sk-label input.sk-toggleable__control:checked~label.sk-toggleable__label {background-color: #d4ebff;}#sk-container-id-7 input.sk-hidden--visually {border: 0;clip: rect(1px 1px 1px 1px);clip: rect(1px, 1px, 1px, 1px);height: 1px;margin: -1px;overflow: hidden;padding: 0;position: absolute;width: 1px;}#sk-container-id-7 div.sk-estimator {font-family: monospace;background-color: #f0f8ff;border: 1px dotted black;border-radius: 0.25em;box-sizing: border-box;margin-bottom: 0.5em;}#sk-container-id-7 div.sk-estimator:hover {background-color: #d4ebff;}#sk-container-id-7 div.sk-parallel-item::after {content: \"\";width: 100%;border-bottom: 1px solid gray;flex-grow: 1;}#sk-container-id-7 div.sk-label:hover label.sk-toggleable__label {background-color: #d4ebff;}#sk-container-id-7 div.sk-serial::before {content: \"\";position: absolute;border-left: 1px solid gray;box-sizing: border-box;top: 0;bottom: 0;left: 50%;z-index: 0;}#sk-container-id-7 div.sk-serial {display: flex;flex-direction: column;align-items: center;background-color: white;padding-right: 0.2em;padding-left: 0.2em;position: relative;}#sk-container-id-7 div.sk-item {position: relative;z-index: 1;}#sk-container-id-7 div.sk-parallel {display: flex;align-items: stretch;justify-content: center;background-color: white;position: relative;}#sk-container-id-7 div.sk-item::before, #sk-container-id-7 div.sk-parallel-item::before {content: \"\";position: absolute;border-left: 1px solid gray;box-sizing: border-box;top: 0;bottom: 0;left: 50%;z-index: -1;}#sk-container-id-7 div.sk-parallel-item {display: flex;flex-direction: column;z-index: 1;position: relative;background-color: white;}#sk-container-id-7 div.sk-parallel-item:first-child::after {align-self: flex-end;width: 50%;}#sk-container-id-7 div.sk-parallel-item:last-child::after {align-self: flex-start;width: 50%;}#sk-container-id-7 div.sk-parallel-item:only-child::after {width: 0;}#sk-container-id-7 div.sk-dashed-wrapped {border: 1px dashed gray;margin: 0 0.4em 0.5em 0.4em;box-sizing: border-box;padding-bottom: 0.4em;background-color: white;}#sk-container-id-7 div.sk-label label {font-family: monospace;font-weight: bold;display: inline-block;line-height: 1.2em;}#sk-container-id-7 div.sk-label-container {text-align: center;}#sk-container-id-7 div.sk-container {/* jupyter's `normalize.less` sets `[hidden] { display: none; }` but bootstrap.min.css set `[hidden] { display: none !important; }` so we also need the `!important` here to be able to override the default hidden behavior on the sphinx rendered scikit-learn.org. See: https://github.com/scikit-learn/scikit-learn/issues/21755 */display: inline-block !important;position: relative;}#sk-container-id-7 div.sk-text-repr-fallback {display: none;}</style><div id=\"sk-container-id-7\" class=\"sk-top-container\"><div class=\"sk-text-repr-fallback\"><pre>Pipeline(steps=[(&#x27;minmaxscaler&#x27;, MinMaxScaler()),\n",
       "                (&#x27;linearregression&#x27;, LinearRegression())])</pre><b>In a Jupyter environment, please rerun this cell to show the HTML representation or trust the notebook. <br />On GitHub, the HTML representation is unable to render, please try loading this page with nbviewer.org.</b></div><div class=\"sk-container\" hidden><div class=\"sk-item sk-dashed-wrapped\"><div class=\"sk-label-container\"><div class=\"sk-label sk-toggleable\"><input class=\"sk-toggleable__control sk-hidden--visually\" id=\"sk-estimator-id-7\" type=\"checkbox\" ><label for=\"sk-estimator-id-7\" class=\"sk-toggleable__label sk-toggleable__label-arrow\">Pipeline</label><div class=\"sk-toggleable__content\"><pre>Pipeline(steps=[(&#x27;minmaxscaler&#x27;, MinMaxScaler()),\n",
       "                (&#x27;linearregression&#x27;, LinearRegression())])</pre></div></div></div><div class=\"sk-serial\"><div class=\"sk-item\"><div class=\"sk-estimator sk-toggleable\"><input class=\"sk-toggleable__control sk-hidden--visually\" id=\"sk-estimator-id-8\" type=\"checkbox\" ><label for=\"sk-estimator-id-8\" class=\"sk-toggleable__label sk-toggleable__label-arrow\">MinMaxScaler</label><div class=\"sk-toggleable__content\"><pre>MinMaxScaler()</pre></div></div></div><div class=\"sk-item\"><div class=\"sk-estimator sk-toggleable\"><input class=\"sk-toggleable__control sk-hidden--visually\" id=\"sk-estimator-id-9\" type=\"checkbox\" ><label for=\"sk-estimator-id-9\" class=\"sk-toggleable__label sk-toggleable__label-arrow\">LinearRegression</label><div class=\"sk-toggleable__content\"><pre>LinearRegression()</pre></div></div></div></div></div></div></div>"
      ],
      "text/plain": [
       "Pipeline(steps=[('minmaxscaler', MinMaxScaler()),\n",
       "                ('linearregression', LinearRegression())])"
      ]
     },
     "execution_count": 72,
     "metadata": {},
     "output_type": "execute_result"
    }
   ],
   "source": [
    "train_pipeline.fit(X_train, y_train)"
   ]
  },
  {
   "cell_type": "code",
   "execution_count": 73,
   "metadata": {
    "ExecuteTime": {
     "end_time": "2023-12-19T12:00:39.117537Z",
     "start_time": "2023-12-19T12:00:38.851585Z"
    },
    "id": "6Jhwgg8sugZK"
   },
   "outputs": [],
   "source": [
    "y_pred = train_pipeline.predict(X_test)"
   ]
  },
  {
   "cell_type": "code",
   "execution_count": 74,
   "metadata": {
    "ExecuteTime": {
     "end_time": "2023-12-19T12:00:39.117692Z",
     "start_time": "2023-12-19T12:00:38.902649Z"
    },
    "id": "GFYZToBtupuu"
   },
   "outputs": [],
   "source": [
    "mse = mean_squared_error(y_test, y_pred)\n",
    "mae = mean_absolute_error(y_test, y_pred)"
   ]
  },
  {
   "cell_type": "code",
   "execution_count": 75,
   "metadata": {
    "ExecuteTime": {
     "end_time": "2023-12-19T12:00:39.117893Z",
     "start_time": "2023-12-19T12:00:38.934922Z"
    },
    "colab": {
     "base_uri": "https://localhost:8080/",
     "height": 35
    },
    "id": "_xxXLfZoutHI",
    "outputId": "f104f4d8-abbf-4c56-e316-e3c26f09742a"
   },
   "outputs": [
    {
     "data": {
      "text/plain": [
       "'MSE: 1.648342438387623e-20, RMSE: 1.2838778907620548e-10, MAE: 1.0554625381094714e-10'"
      ]
     },
     "execution_count": 75,
     "metadata": {},
     "output_type": "execute_result"
    }
   ],
   "source": [
    "f'MSE: {mse}, RMSE: {sqrt(mse)}, MAE: {mae}'"
   ]
  },
  {
   "cell_type": "markdown",
   "metadata": {
    "id": "378q_PxFm6Pg"
   },
   "source": [
    "## Zadania\n",
    "1. Korzystając ze zbioru danych `mnist` sprawdzić interfejsy następujących klasyfikatorów:\n",
    "  - Regresja Logistyczna: [LogisticRegression](https://scikit-learn.org/stable/modules/generated/sklearn.linear_model.LogisticRegression.html#sklearn.linear_model.LogisticRegression)\n",
    "  - Liniowa Maszyna Wektorów Nośnych: [LinearSVC](https://scikit-learn.org/stable/modules/generated/sklearn.svm.LinearSVC.html#sklearn.svm.LinearSVC).\n",
    "  \n",
    "    Porównać wyniki dokładności globalnej i zbalansowanej.\n",
    "  \n",
    "2. Korzystając ze zbioru danych `CaliforniaHousing` sprawdzić interfejsy następujących regresorów:\n",
    "  - Regresja Bayesowska: [BayesianRidge](https://scikit-learn.org/stable/modules/generated/sklearn.linear_model.BayesianRidge.html#sklearn.linear_model.BayesianRidge)\n",
    "  - Regresor Wektorów Nośnych: [SVR](https://scikit-learn.org/stable/modules/generated/sklearn.svm.SVR.html#sklearn.svm.SVR).\n",
    "  \n",
    "    Porównać wyniki błędu średniokwadratowego i jego pierwiastka oraz średniego błędu bezwzględnego."
   ]
  }
 ],
 "metadata": {
  "colab": {
   "provenance": []
  },
  "kernelspec": {
   "display_name": "Python 3 (ipykernel)",
   "language": "python",
   "name": "python3"
  },
  "language_info": {
   "codemirror_mode": {
    "name": "ipython",
    "version": 3
   },
   "file_extension": ".py",
   "mimetype": "text/x-python",
   "name": "python",
   "nbconvert_exporter": "python",
   "pygments_lexer": "ipython3",
   "version": "3.10.11"
  }
 },
 "nbformat": 4,
 "nbformat_minor": 0
}
