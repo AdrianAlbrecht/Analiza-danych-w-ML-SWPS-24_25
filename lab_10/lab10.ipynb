{
 "cells": [
  {
   "cell_type": "markdown",
   "id": "b3a9e9d711bbf1a9",
   "metadata": {
    "collapsed": false
   },
   "source": [
    "# Wstęp do sztucznych sieci neuronowych"
   ]
  },
  {
   "cell_type": "markdown",
   "id": "4c98af27",
   "metadata": {},
   "source": [
    "## **Jak działa sieć neuronowa?**\n",
    "\n",
    "### **Wstęp:**\n",
    "Sieci neuronowe to modele matematyczne inspirowane biologicznym układem nerwowym. Są one podstawowym narzędziem w uczeniu maszynowym, szczególnie w zadaniach takich jak klasyfikacja, regresja, rozpoznawanie obrazów czy przetwarzanie języka naturalnego.\n",
    "\n",
    "### **Podstawowe elementy sieci neuronowej:**\n",
    "\n",
    "1. **Neuron (Perceptron):**\n",
    "   - **Model matematyczny:** Neuron wykonuje operację na zbiorze wejść $( x_1, x_2, \\dots, x_n )$ oraz odpowiadających im wagach $( w_1, w_2, \\dots, w_n )$.\n",
    "   ![](https://upload.wikimedia.org/wikipedia/commons/8/8c/Perceptron_moj.png)\n",
    "   - **Funkcja działania:**  \n",
    "     $\n",
    "     z = \\sum_{i=1}^n w_i x_i + b\n",
    "     $\n",
    "     gdzie:\n",
    "     - $( z )$: suma ważona wejść,\n",
    "     - $( b )$: wartość biasu (przesunięcie),\n",
    "     - $( w_i )$: waga przypisana wejściu $( x_i )$.\n",
    "   - **Funkcja aktywacji:** Przekształca $( z )$ na wynik wyjściowy $( a )$. Przykłady funkcji aktywacji:\n",
    "     - Sigmoid: $( \\sigma(z) = \\frac{1}{1 + e^{-z}} )$\n",
    "     </br>\n",
    "     ![](https://media.licdn.com/dms/image/v2/D4D12AQGIXdSG7IJCNw/article-cover_image-shrink_600_2000/article-cover_image-shrink_600_2000/0/1694183259537?e=2147483647&v=beta&t=lJ_qEzot0iGYhNpez9XGRNHjS-CDKHn3Wj-6iCQxRO0)\n",
    "     - ReLU: $( f(z) = \\max(0, z) )$ </br>\n",
    "     ![](https://www.nomidl.com/wp-content/uploads/2022/04/image-10.png)\n",
    "\n",
    "2. **Warstwa:**\n",
    "   - **Warstwa wejściowa:** Otrzymuje dane wejściowe.\n",
    "   - **Warstwa ukryta:** Przetwarza dane wejściowe za pomocą neuronów. Może mieć wiele warstw.\n",
    "   - **Warstwa wyjściowa:** Zwraca wynik (np. klasyfikacja na podstawie funkcji softmax).\n",
    "\n",
    "3. **Struktura sieci:**\n",
    "   - **Płytkie sieci neuronowe:** Mają niewiele warstw ukrytych.\n",
    "   - **Głębokie sieci neuronowe (Deep Learning):** Zawierają wiele warstw ukrytych i są używane do złożonych problemów.\n",
    "\n",
    "### **Proces uczenia sieci neuronowej:**\n",
    "\n",
    "1. **Przekazanie danych przez sieć (Feedforward):**\n",
    "   - Dane wejściowe przechodzą przez warstwy sieci neuronowej, aż osiągną warstwę wyjściową.\n",
    "   - Każdy neuron w warstwach ukrytych wykonuje obliczenia: suma ważona wejść → funkcja aktywacji → wynik wyjściowy.\n",
    "\n",
    "2. **Obliczenie straty (Loss):**\n",
    "   - Wynik sieci jest porównywany z prawdziwą wartością za pomocą funkcji straty.\n",
    "   - Przykłady funkcji straty:\n",
    "     - MSE (Mean Squared Error): $( \\text{Loss} = \\frac{1}{n} \\sum_{i=1}^n (y_i - \\hat{y}_i)^2 )$\n",
    "     - Entropia krzyżowa (dla klasyfikacji):  \n",
    "       $\n",
    "       \\text{Loss} = -\\frac{1}{n} \\sum_{i=1}^n y_i \\log(\\hat{y}_i)\n",
    "       $\n",
    "\n",
    "3. **Propagacja wsteczna (Backpropagation):**\n",
    "   - Sieć neuronowa oblicza gradient funkcji straty względem wag i biasów, by dowiedzieć się, jak zmieniać parametry, aby zmniejszyć stratę.\n",
    "   - Wykorzystuje regułę łańcuchową do rozprzestrzenienia błędu od warstwy wyjściowej do warstw wcześniejszych.\n",
    "\n",
    "4. **Aktualizacja wag:**\n",
    "   - Optymalizator (np. SGD, Adam) aktualizuje wagi i biasy, korzystając z gradientów.\n",
    "   - **Równanie aktualizacji (dla SGD):**  \n",
    "     $\n",
    "     w = w - \\eta \\frac{\\partial \\text{Loss}}{\\partial w}\n",
    "     $\n",
    "     gdzie $( \\eta )$ to współczynnik uczenia.\n",
    "\n",
    "5. **Iteracja:**\n",
    "   - Proces feedforward → obliczenie straty → backpropagation → aktualizacja wag powtarza się dla każdej epoki, aż do osiągnięcia akceptowalnej dokładności.\n",
    "\n",
    "### **Przykład działania:**\n",
    "\n",
    "1. **Problem: Rozpoznawanie ręcznie pisanych cyfr (MNIST).**\n",
    "   - Wejście: Obraz 28x28 pikseli (784 wartości wejściowe).\n",
    "   - Warstwy:\n",
    "     - **Warstwa wejściowa:** 784 wejścia.\n",
    "     - **Warstwa ukryta:** 128 neuronów z funkcją aktywacji ReLU.\n",
    "     - **Warstwa wyjściowa:** 10 neuronów z funkcją aktywacji softmax (10 klas cyfr: 0–9).\n",
    "   - Wynik: Sieć zwraca prawdopodobieństwa dla każdej cyfry.\n",
    "\n",
    "2. **Działanie:**\n",
    "   - Dane wejściowe są przetwarzane w warstwach ukrytych.\n",
    "   - Wynik końcowy (np. $( \\hat{y} = [0.1, 0.2, 0.7, \\dots] )$) wskazuje, że model przewiduje cyfrę 2 z prawdopodobieństwem 70%.\n",
    "\n",
    "### **Wyzwania w działaniu sieci neuronowych:**\n",
    "\n",
    "1. **Zanikanie gradientów:**\n",
    "   - W sieciach głębokich gradienty maleją w warstwach początkowych.\n",
    "   - Rozwiązania:\n",
    "     - Lepsza inicjalizacja wag.\n",
    "     - Funkcje aktywacji takie jak ReLU.\n",
    "     - Optymalizatory jak Adam.\n",
    "\n",
    "2. **Przeuczenie (Overfitting):**\n",
    "   - Sieć dopasowuje się za bardzo do danych treningowych.\n",
    "   - Rozwiązania:\n",
    "     - Regularizacja (L1, L2).\n",
    "     - Dropout.\n",
    "     - Zwiększenie ilości danych.\n",
    "\n",
    "3. **Wydajność obliczeniowa:**\n",
    "   - Trenowanie sieci wymaga dużej mocy obliczeniowej.\n",
    "   - Rozwiązania:\n",
    "     - Użycie GPU/TPU.\n",
    "     - Techniki przyspieszające, takie jak batch normalization."
   ]
  },
  {
   "cell_type": "markdown",
   "id": "3eef6642",
   "metadata": {},
   "source": [
    "---\n",
    "\n",
    "## **1. TensorFlow Playground**\n",
    "\n",
    "### **Wstęp:**\n",
    "(<a href=\"https://playground.tensorflow.org/\">https://playground.tensorflow.org/</a>) to przydatny symulator sieci neuronowej stworzony przez zespół TensorFlow. W tym ćwiczeniu wyuczymy kilka klasyfikatorów binarnych, a także zmodyfikujemy strukturę modelu i jego hiperparametry, aby lepiej zrozumieć mechanizm działania sieci neuronowych oraz wpływ hiperparametrów.\n",
    "\n",
    "### **1.1 Wzorce poznawane przez sieć neuronową**\n",
    "\n",
    "- **Zadanie**:\n",
    "  - Spróbuj wytrenować domyślną sieć neuronową poprzez kliknięcie przycisku Run/Pause (w lewym górnym rogu). Zwróć uwagę, jak szybko wyszukuje optymalne rozwiązanie dla zadania klasyfikacji. Neurony w pierwszej warstwie ukrytej wykryły proste wzorce, natomiast neurony z drugiej warstwy ukrytej nauczyły się łączyć te proste wzorce w bardziej skomplikowane elementy. Zasadniczo im więcej warstw ukrytych umieścimy, tym wzorce będą bardziej skomplikowane.\n",
    "\n",
    "- **Zjawisko**: \n",
    "  Sieć neuronowa składa się z warstw. Każda warstwa \"uczy się\" różnych poziomów abstrakcji:\n",
    "  - **Pierwsza warstwa ukryta**: Uczy się prostych wzorców, takich jak linie i kształty.\n",
    "  - **Kolejne warstwy ukryte**: Łączą te proste wzorce w bardziej złożone struktury.\n",
    "\n",
    "- **Eksperyment**:\n",
    "  1. W TensorFlow Playground uruchom domyślną konfigurację (dwie warstwy ukryte).\n",
    "  2. Obserwuj, jak neurony w pierwszej warstwie identyfikują proste wzorce (np. rozdzielność punktów według osi X/Y), a druga warstwa łączy te wzorce w bardziej złożone rozwiązania.\n",
    "  3. Im więcej warstw dodamy, tym bardziej skomplikowane wzorce może rozpoznać model.\n",
    "\n",
    "\n",
    "### **1.2 Funkcje aktywacji**\n",
    "\n",
    "- **Zadanie**:\n",
    "  - Spróbuj zastąpić funkcję tanh funkcją ReLU i ponownie wytrenuj sieć. Model wykrywa rozwiązanie jeszcze szybciej, tym razem jednak granice są liniowe. Powodem jest kształt funkcji ReLU.\n",
    "\n",
    "- **Teoria**:\n",
    "  Funkcja aktywacji określa, jak neuron przekształca swoje dane wejściowe w dane wyjściowe.  \n",
    "  - **Tanh**: Przydatna w przypadku danych symetrycznych. Wartości wyjściowe są w zakresie $([-1, 1])$.  \n",
    "  - **ReLU**: Prostota tej funkcji ($( \\text{ReLU}(x) = \\max(0, x) )$) sprawia, że działa szybciej, ale tworzy granice liniowe.\n",
    "\n",
    "- **Eksperyment**:\n",
    "  1. Wymień funkcję aktywacji tanh na ReLU.\n",
    "  2. Obserwuj, że proces uczenia jest szybszy, ale granice decyzyjne stają się prostsze, co może być wadą w przypadku nieliniowych danych.\n",
    "\n",
    "### **1.3 Ryzyko natrafienia na minima lokalne**\n",
    "\n",
    "- **Zadanie**:\n",
    "  - Zmodyfikuj sieć tak, aby w jej strukturze mieściła się tylko jedna warstwa ukryta składająca się z trzech neuronów. Wyucz ją kilkakrotnie (aby wyzerować wagi połączeń, kliknij przycisk Reset the Network po lewej stronie przycisku Run/Pause). Czas uczenia jest teraz za każdym razem inny, a czasami model zatrzymuje się w minimum lokalnym.\n",
    "\n",
    "- **Teoria**:\n",
    "  Minima lokalne to punkty, w których sieć \"utknie\", bo gradienty (pochodne) nie zmieniają znacząco wartości. Model nie może znaleźć lepszego rozwiązania.\n",
    "  - Problem jest bardziej widoczny w małych sieciach neuronowych.\n",
    "\n",
    "- **Eksperyment**:\n",
    "  1. Zmniejsz sieć do jednej warstwy ukrytej z trzema neuronami.\n",
    "  2. Kilkukrotnie resetuj sieć i uruchamiaj ponownie.\n",
    "  3. Zauważ, że proces uczenia różni się za każdym razem. Czasami sieć zatrzyma się w suboptymalnym minimum, a innym razem znajdzie lepsze rozwiązanie.\n",
    "\n",
    "### **1.4 Działanie zbyt małych sieci neuronowych**\n",
    "\n",
    "- **Zadanie**:\n",
    "  - Usuń jeden neuron (powinny zostać dwa).Teraz sieć neuronowa nie jest w stanie znaleźć dobrego rozwiązania, nawet jeżeli będziemy wielokrotnie ją uruchamiać. Model ma za mało parametrów i ciągle pozostaje niedotrenowany.\n",
    "\n",
    "- **Teoria**:\n",
    "  Sieć neuronowa z niewystarczającą liczbą neuronów nie ma \"mocy obliczeniowej\" do nauki złożonych wzorców. Takie modele są **niedotrenowane**.\n",
    "\n",
    "- **Eksperyment**:\n",
    "  1. Zredukuj liczbę neuronów do dwóch.\n",
    "  2. Zauważ, że nawet po wielokrotnym uruchomieniu sieć nie jest w stanie znaleźć sensownego rozwiązania.\n",
    "\n",
    "### **1.5 Działanie odpowiednio dużych sieci neuronowych**\n",
    "\n",
    "- **Zadanie**:\n",
    "  - Dodaj w warstwie ukrytej sześćn euronów (powinno być ich teraz osiem) i wytrenuj sieć kilka razy. Teraz jest ona stabilnie szybka i nie pozostaje już w minimach lokalnych. To jest ważny wniosek w teorii sieci neuronowych: duże sieci neuronowe rzadko pozostają w minimach lokalnych, a nawet jeśli, to takie minima lo- kalne są niemal tak samo dobre jak optimum globalne. Mimo to mogą one utknąć na długich wypłaszczeniach przez dłuższy czas.\n",
    "\n",
    "- **Teoria**:\n",
    "  Duże sieci neuronowe są w stanie efektywnie uczyć się złożonych wzorców. Nawet jeśli utkną w minimum lokalnym, takie minimum zwykle jest bliskie globalnego optimum.  \n",
    "  **Zasada**: Lepiej stosować za duże niż za małe sieci.\n",
    "\n",
    "- **Eksperyment**:\n",
    "  1. Dodaj w warstwie ukrytej 6 neuronów (razem 8).\n",
    "  2. Obserwuj stabilność i szybkość procesu uczenia. Sieć szybko osiąga dobre wyniki.\n",
    "\n",
    "### **1.6 Ryzyko zanikania gradientów w sieciach głębokich**\n",
    "\n",
    "- **Zadanie**:\n",
    "  - Wybierz spiralny zestaw danych (prawy dolny w panelu DATA) i zmodyfikuj strukturę sieci tak, aby zawierała cztery war- stwy ukryte z ośmioma neuronami w każdej z nich. Proces uczenia trwa teraz znacznie dłużej i często zatrzymuje się na wypłaszczeniach przez długi czas. Zwróć również uwagę, że neurony w najwyższej warstwie (po prawej) ewoluują szybciej od neuronów z warstw najniższych (po lewej). Problem ten, zwany problemem zanikających gradientów, można zredukować poprzez lepsze inicjalizowanie wag i inne techniki, optymalizatory (takie jak AdaGrad czy Adam) lub normalizację wsadową.\n",
    "\n",
    "- **Teoria**:\n",
    "  W sieciach z wieloma warstwami gradienty stają się bardzo małe w warstwach początkowych. Powoduje to:\n",
    "    - Wolne uczenie się.\n",
    "    - Neurony w wyższych warstwach uczą się szybciej niż w niższych.\n",
    "\n",
    "- **Eksperyment**:\n",
    "  1. Wybierz spiralny zestaw danych.\n",
    "  2. Utwórz sieć z czterema warstwami ukrytymi, każda po 8 neuronów.\n",
    "  3. Obserwuj, że proces uczenia trwa długo, a neurony w wyższych warstwach zmieniają się szybciej niż w niższych.\n",
    "\n",
    "- **Rozwiązania**:\n",
    "  - Użycie funkcji aktywacji ReLU.\n",
    "  - Optymalizatory jak Adam.\n",
    "  - Normalizacja wsadowa (Batch Normalization).\n",
    "\n",
    "# **!! Idź dalej. Poświęć mniej więcej godzinę na modyfikowanie innych parametrów i zrozum ich wpływ po to, aby lepiej pojąć sieci neuronowe. !!**"
   ]
  },
  {
   "cell_type": "markdown",
   "id": "898d280b",
   "metadata": {},
   "source": [
    "## **2. Wytrenowanie perceptronu wielowarstwowego na danych MNIST**\n",
    "\n",
    "### **Teoria:**\n",
    "Dane MNIST to zbiór ręcznie pisanych cyfr (28x28 pikseli). Celem jest klasyfikacja cyfr 0–9. Proces treningu obejmuje:\n",
    "1. **Przygotowanie danych**:\n",
    "   - Normalizacja: Przekształcenie pikseli (0–255) na zakres 0–1.\n",
    "2. **Definicja modelu**:\n",
    "   - Warstwa wejściowa: 784 wejścia (28x28).\n",
    "   - Warstwy ukryte: ReLU dla złożonych wzorców.\n",
    "   - Warstwa wyjściowa: 10 neuronów (softmax) – każda klasa odpowiada cyfrze.\n",
    "3. **Hiperparametry**:\n",
    "   - Użycie optymalizatora Adam.\n",
    "   - Dropout jako regularizacja."
   ]
  },
  {
   "cell_type": "markdown",
   "id": "73acc86f",
   "metadata": {},
   "source": [
    "### **Biblioteka TensorFlow dla sieci neuronowych**\n",
    "\n",
    "`TensorFlow` to jedna z najpopularniejszych bibliotek Python służących do budowy i trenowania sieci neuronowych. Najważniejsze cechy tej biblioteki:\n",
    "\n",
    "- **Obsługa sieci neuronowych**: `TensorFlow` pozwala tworzyć modele od prostych perceptronów do zaawansowanych sieci głębokich.\n",
    "- **Wysoka wydajność**: Obsługuje przetwarzanie na CPU, GPU oraz TPU.\n",
    "- **Modularność i elastyczność**: Można korzystać z gotowych modeli i warstw, jak i definiować własne.\n",
    "- **API Keras**: TensorFlow integruje wysokopoziomowe API Keras, co ułatwia budowę modeli.\n",
    "- **Wsparcie dla różnych optymalizatorów**: Wbudowane funkcje do optymalizacji wag i biasów, jak Adam, SGD, RMSProp."
   ]
  },
  {
   "cell_type": "code",
   "execution_count": 84,
   "id": "f9a70108",
   "metadata": {},
   "outputs": [],
   "source": [
    "import tensorflow as tf\n",
    "import numpy as np\n",
    "import matplotlib.pyplot as plt"
   ]
  },
  {
   "cell_type": "markdown",
   "id": "aef7555b",
   "metadata": {},
   "source": [
    "### **Praktyka:**\n",
    "\n",
    "#### 1. Przygotowanie danych:"
   ]
  },
  {
   "cell_type": "code",
   "execution_count": 85,
   "id": "0bbc0d2f",
   "metadata": {},
   "outputs": [],
   "source": [
    "# Wczytanie danych MNIST\n",
    "(x_train, y_train), (x_test, y_test) = tf.keras.datasets.mnist.load_data()"
   ]
  },
  {
   "cell_type": "code",
   "execution_count": 86,
   "id": "e44f993d",
   "metadata": {},
   "outputs": [],
   "source": [
    "x_train, x_test = x_train / 255.0, x_test / 255.0  # Normalizacja danych"
   ]
  },
  {
   "cell_type": "code",
   "execution_count": 87,
   "id": "bf02be4a",
   "metadata": {},
   "outputs": [],
   "source": [
    "# Zmiana targetów na typ 'int64', aby spełniały wymagania `sparse_categorical_crossentropy`\n",
    "y_train = y_train.astype(np.int64)\n",
    "y_test = y_test.astype(np.int64)"
   ]
  },
  {
   "cell_type": "markdown",
   "id": "33f2a494",
   "metadata": {},
   "source": [
    "#### 2. Definicja modelu:"
   ]
  },
  {
   "cell_type": "code",
   "execution_count": 88,
   "id": "2d9f02eb",
   "metadata": {},
   "outputs": [],
   "source": [
    "# Funkcja do tworzenia modelu\n",
    "def create_model():\n",
    "    model = tf.keras.Sequential([\n",
    "        tf.keras.layers.Flatten(input_shape=(28, 28)),  # Przekształcenie wejścia do kształtu (None, 784)\n",
    "        tf.keras.layers.Dense(128, activation='relu', kernel_regularizer=tf.keras.regularizers.l2(0.01)),\n",
    "        tf.keras.layers.Dropout(0.5),\n",
    "        tf.keras.layers.Dense(64, activation='relu', kernel_regularizer=tf.keras.regularizers.l2(0.01)),\n",
    "        tf.keras.layers.Dropout(0.5),\n",
    "        tf.keras.layers.Dense(10, activation='softmax')\n",
    "    ])\n",
    "    return model\n"
   ]
  },
  {
   "cell_type": "code",
   "execution_count": 89,
   "id": "aa570c11",
   "metadata": {},
   "outputs": [],
   "source": [
    "# Funkcja do wykładniczego zwiększania współczynnika uczenia\n",
    "class ExponentialLearningRateScheduler(tf.keras.callbacks.Callback):\n",
    "    def __init__(self, start_lr, end_lr, steps):\n",
    "        super().__init__()\n",
    "        self.start_lr = start_lr\n",
    "        self.end_lr = end_lr\n",
    "        self.steps = steps\n",
    "        self.lrs = []\n",
    "        self.losses = []\n",
    "\n",
    "    def on_train_batch_end(self, batch, logs=None):\n",
    "        lr = self.start_lr * (self.end_lr / self.start_lr) ** (len(self.lrs) / self.steps)\n",
    "        self.model.optimizer.learning_rate.assign(lr)  # Correct way to update the learning rate\n",
    "        self.lrs.append(lr)\n",
    "        self.losses.append(logs['loss'])\n",
    "\n"
   ]
  },
  {
   "cell_type": "code",
   "execution_count": 90,
   "id": "41f61b43",
   "metadata": {},
   "outputs": [],
   "source": [
    "# Inicjalizacja modelu\n",
    "model = create_model()"
   ]
  },
  {
   "cell_type": "markdown",
   "metadata": {},
   "source": [
    "#### 3. Kompilacja i trening:"
   ]
  },
  {
   "cell_type": "code",
   "execution_count": 91,
   "id": "3586484c",
   "metadata": {},
   "outputs": [],
   "source": [
    "model.compile(optimizer=tf.keras.optimizers.SGD(learning_rate=0.001), loss='sparse_categorical_crossentropy', metrics=['accuracy'])"
   ]
  },
  {
   "cell_type": "code",
   "execution_count": 92,
   "id": "2bd87fd3",
   "metadata": {},
   "outputs": [],
   "source": [
    "# Wykładnicze zwiększanie współczynnika uczenia\n",
    "lr_scheduler = ExponentialLearningRateScheduler(start_lr=0.001, end_lr=0.003, steps=1000)"
   ]
  },
  {
   "cell_type": "code",
   "execution_count": 93,
   "id": "59ea9ffe",
   "metadata": {},
   "outputs": [
    {
     "name": "stdout",
     "output_type": "stream",
     "text": [
      "Epoch 1/10\n",
      "\u001b[1m469/469\u001b[0m \u001b[32m━━━━━━━━━━━━━━━━━━━━\u001b[0m\u001b[37m\u001b[0m \u001b[1m4s\u001b[0m 5ms/step - accuracy: 0.1019 - loss: 5.4553\n",
      "Epoch 2/10\n",
      "\u001b[1m469/469\u001b[0m \u001b[32m━━━━━━━━━━━━━━━━━━━━\u001b[0m\u001b[37m\u001b[0m \u001b[1m3s\u001b[0m 5ms/step - accuracy: 0.2029 - loss: 5.1346\n",
      "Epoch 3/10\n",
      "\u001b[1m469/469\u001b[0m \u001b[32m━━━━━━━━━━━━━━━━━━━━\u001b[0m\u001b[37m\u001b[0m \u001b[1m2s\u001b[0m 5ms/step - accuracy: 0.3357 - loss: 4.7751\n",
      "Epoch 4/10\n",
      "\u001b[1m469/469\u001b[0m \u001b[32m━━━━━━━━━━━━━━━━━━━━\u001b[0m\u001b[37m\u001b[0m \u001b[1m2s\u001b[0m 5ms/step - accuracy: 0.4734 - loss: 4.2326\n",
      "Epoch 5/10\n",
      "\u001b[1m469/469\u001b[0m \u001b[32m━━━━━━━━━━━━━━━━━━━━\u001b[0m\u001b[37m\u001b[0m \u001b[1m2s\u001b[0m 5ms/step - accuracy: 0.6009 - loss: 3.5662\n",
      "Epoch 6/10\n",
      "\u001b[1m469/469\u001b[0m \u001b[32m━━━━━━━━━━━━━━━━━━━━\u001b[0m\u001b[37m\u001b[0m \u001b[1m2s\u001b[0m 5ms/step - accuracy: 0.7082 - loss: 2.8680\n",
      "Epoch 7/10\n",
      "\u001b[1m469/469\u001b[0m \u001b[32m━━━━━━━━━━━━━━━━━━━━\u001b[0m\u001b[37m\u001b[0m \u001b[1m2s\u001b[0m 5ms/step - accuracy: 0.7743 - loss: 2.1633\n",
      "Epoch 8/10\n",
      "\u001b[1m469/469\u001b[0m \u001b[32m━━━━━━━━━━━━━━━━━━━━\u001b[0m\u001b[37m\u001b[0m \u001b[1m2s\u001b[0m 5ms/step - accuracy: 0.8234 - loss: 1.4911\n",
      "Epoch 9/10\n",
      "\u001b[1m469/469\u001b[0m \u001b[32m━━━━━━━━━━━━━━━━━━━━\u001b[0m\u001b[37m\u001b[0m \u001b[1m2s\u001b[0m 5ms/step - accuracy: 0.8492 - loss: 1.0000\n",
      "Epoch 10/10\n",
      "\u001b[1m469/469\u001b[0m \u001b[32m━━━━━━━━━━━━━━━━━━━━\u001b[0m\u001b[37m\u001b[0m \u001b[1m2s\u001b[0m 5ms/step - accuracy: 0.8655 - loss: 0.7693\n"
     ]
    }
   ],
   "source": [
    "# Trening w celu znalezienia optymalnego współczynnika uczenia\n",
    "history = model.fit(x_train, y_train, batch_size=128, epochs=10, callbacks=[lr_scheduler], verbose=1)\n"
   ]
  },
  {
   "cell_type": "markdown",
   "id": "7915c8e1",
   "metadata": {},
   "source": [
    "#### 4. Analiza wyników:"
   ]
  },
  {
   "cell_type": "code",
   "execution_count": 94,
   "id": "bf09b010",
   "metadata": {},
   "outputs": [
    {
     "data": {
      "image/png": "[encoded data removed]",
      "text/plain": [
       "<Figure size 640x480 with 1 Axes>"
      ]
     },
     "metadata": {},
     "output_type": "display_data"
    }
   ],
   "source": [
    "# Wykres funkcji straty w zależności od współczynnika uczenia\n",
    "plt.plot(lr_scheduler.lrs, lr_scheduler.losses)\n",
    "plt.xlabel('Learning Rate')\n",
    "plt.ylabel('Loss')\n",
    "plt.title('Learning Rate Schedule')\n",
    "plt.xscale('log')\n",
    "plt.show()"
   ]
  },
  {
   "cell_type": "markdown",
   "id": "037e15a0",
   "metadata": {},
   "source": [
    "#### 5. Ewaluacja:"
   ]
  },
  {
   "cell_type": "code",
   "execution_count": 95,
   "id": "6f855224",
   "metadata": {},
   "outputs": [
    {
     "name": "stdout",
     "output_type": "stream",
     "text": [
      "\u001b[1m313/313\u001b[0m \u001b[32m━━━━━━━━━━━━━━━━━━━━\u001b[0m\u001b[37m\u001b[0m \u001b[1m1s\u001b[0m 3ms/step - accuracy: 0.9073 - loss: 0.5699\n",
      "Dokładność: 92.33%\n"
     ]
    }
   ],
   "source": [
    "test_loss, test_acc = model.evaluate(x_test, y_test)\n",
    "print(f\"Dokładność: {test_acc * 100:.2f}%\")"
   ]
  },
  {
   "cell_type": "markdown",
   "id": "b69e2fdca5eb71e3",
   "metadata": {
    "collapsed": false
   },
   "source": [
    "## Zadanie do samodzielnego wykonania\n",
    "\n",
    "Wytrenuj głęboki perceptron wielowarstwowy na zestawie danych MNIST (możesz go wczytać za pomocą funkcji `tf.keras.datasets.mnist.load_data()`). Spróbuj uzyskać dokładność przekraczającą 98% za pomocą ręcznego strojenia hiperparametrów. Postaraj się wyszukać optymalny współczynnik uczenia za pomocą techniki wykładniczego zwiększania wartości współczynnika uczenia w każdej iteracji, utworzenie wykresu funkcji straty i znalezienie punktu, w którym wartość tej funkcji zaczyna rosnąć."
   ]
  }
 ],
 "metadata": {
  "kernelspec": {
   "display_name": "Python 3",
   "language": "python",
   "name": "python3"
  },
  "language_info": {
   "codemirror_mode": {
    "name": "ipython",
    "version": 3
   },
   "file_extension": ".py",
   "mimetype": "text/x-python",
   "name": "python",
   "nbconvert_exporter": "python",
   "pygments_lexer": "ipython3",
   "version": "3.10.11"
  }
 },
 "nbformat": 4,
 "nbformat_minor": 5
}
