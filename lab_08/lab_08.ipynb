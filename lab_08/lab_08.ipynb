{
 "cells": [
  {
   "cell_type": "markdown",
   "metadata": {
    "id": "HeRDAhURKnG3"
   },
   "source": [
    "# Lab 08 - optymalizacja hiperparametrów modeli"
   ]
  },
  {
   "cell_type": "markdown",
   "metadata": {
    "id": "zSo9bAesW861"
   },
   "source": [
    "Znaczna większość modeli posiada daotkowe zewnętrzne możliwości dostrajania za pomocą hiperparametrów. Proces poszukiwania kombinacji hiperparametrów dającej najbardziej zastysfakcjonujące wyniki nazywany jest **optymalizacją hiperparametrów**.\n"
   ]
  },
  {
   "cell_type": "markdown",
   "metadata": {
    "id": "yJraWfBNYiko"
   },
   "source": [
    "Najprostsze podejście do optymalizacji hiperparametrów polega na manualnym dopasowywaniu ich wartości, a nastepnie na porównywaniu wyników uzyskanych na podzbiorze testowym. Biblioteka Scikit-learn zawiera szereg klas umożliwiających automatyczną optymalizację hiperparametrów korzystając z różnych podejść."
   ]
  },
  {
   "cell_type": "markdown",
   "metadata": {
    "id": "2rNE-zDFZKtc"
   },
   "source": [
    "## Metoda przeszukiwania siatki\n",
    "\n",
    "Metoda przeszukiwania siatki to deterministyczne podejście do optymalizacji hiperparametrów polegające na testowaniu wszystkich możliwych ich kombinacji. Do realizacji procesu przeszukiwania siatki w bibliotece Scikit-learn dostępna jest klasa [GridSearchCV](https://scikit-learn.org/stable/modules/generated/sklearn.model_selection.GridSearchCV.html). Warto zauważyć, że wszystkie klasy estymatorów posiadają metodę *fit*, co oznacza że mogą być traktowane jak tradycyjne estymatory niewymagające manualnego wskazywania hiperparametrów. Co więcej, klasy te przeprowadzają domyślnie test krzyżowy."
   ]
  },
  {
   "cell_type": "code",
   "execution_count": 1,
   "metadata": {
    "ExecuteTime": {
     "end_time": "2024-01-16T00:12:55.311171Z",
     "start_time": "2024-01-16T00:12:54.566464Z"
    },
    "id": "YA_bavX7KG7i"
   },
   "outputs": [],
   "source": [
    "from sklearn.datasets import fetch_openml\n",
    "from sklearn.ensemble import RandomForestClassifier\n",
    "from sklearn.model_selection import GridSearchCV, train_test_split\n",
    "from sklearn.pipeline import Pipeline, make_pipeline\n",
    "from sklearn.preprocessing import Normalizer"
   ]
  },
  {
   "cell_type": "code",
   "execution_count": 4,
   "metadata": {
    "ExecuteTime": {
     "end_time": "2024-01-16T00:12:58.416265Z",
     "start_time": "2024-01-16T00:12:55.311783Z"
    },
    "id": "ft5j9G_RbEq2"
   },
   "outputs": [],
   "source": [
    "X, y = fetch_openml('mnist_784', version=1, return_X_y=True, as_frame=False, parser='pandas')\n",
    "X_train, X_test, y_train, y_test = train_test_split(X, y, test_size=.2)"
   ]
  },
  {
   "cell_type": "markdown",
   "metadata": {},
   "source": [
    "Zbiór danych **MNIST_784** to jedno z najbardziej znanych i szeroko używanych zbiorów danych w dziedzinie uczenia maszynowego, szczególnie w zadaniach klasyfikacji obrazów. Zawiera obrazy ręcznie napisanych cyfr od 0 do 9.\n",
    "\n",
    "### Struktura zbioru danych MNIST:\n",
    "- **Liczba próbek**: Zbiór składa się z **70,000 próbek** zazwyczaj podzielonych na:\n",
    "  - **60,000 próbek** treningowych (obrazów).\n",
    "  - **10,000 próbek** testowych (obrazów).\n",
    "  \n",
    "- **Wymiary danych**:\n",
    "  - Każdy obraz w zbiorze MNIST ma rozdzielczość **28 x 28 pikseli**.\n",
    "  - Zatem każdy obraz to wektor o długości **784** (28 x 28 = 784), ponieważ każdy piksel obrazu jest reprezentowany przez jedną wartość (skala szarości, od 0 do 255).\n",
    "  \n",
    "- **Etykiety**:\n",
    "  - Każdy obraz przedstawia jedną z dziesięciu cyfr od 0 do 9.\n",
    "  - Wartości etykiet to liczby całkowite z zakresu [0, 9], które wskazują, jaka cyfra jest reprezentowana na obrazie.\n",
    "\n",
    "### Opis danych:\n",
    "- **Obrazy**: Każdy obraz to macierz o wymiarach 28x28, gdzie każda komórka zawiera wartość od 0 (czarny) do 255 (biały). Obrazy są w skali szarości, co oznacza, że każdy piksel ma jedną wartość reprezentującą jasność.\n",
    "- **Etykiety**: Etykiety to liczby całkowite z zakresu 0-9, które wskazują, jaką cyfrę przedstawia dany obraz.\n",
    "\n",
    "### Przykłady zastosowań:\n",
    "- **Klasyfikacja obrazów**: Celem najczęściej jest zbudowanie modelu klasyfikacyjnego, który przypisuje etykietę cyfry (0-9) do każdego obrazu.\n",
    "- **Rozpoznawanie pisma ręcznego**: MNIST jest powszechnie używany jako standardowy zbiór do testowania algorytmów rozpoznawania pisma ręcznego.\n",
    "\n",
    "### Właściwości:\n",
    "- **Wysoka jakość danych**: Obrazy są wystarczająco małe, aby mogły być łatwo przetwarzane na standardowych komputerach, ale jednocześnie oferują wystarczającą złożoność, by stanowić wyzwanie dla algorytmów uczenia maszynowego.\n",
    "- **Prosty, ale skuteczny zbiór testowy**: Zbiór jest dobrze znany i szeroko stosowany w literaturze, co sprawia, że jest doskonałym punktem wyjścia do testowania nowych algorytmów."
   ]
  },
  {
   "cell_type": "code",
   "execution_count": 5,
   "metadata": {},
   "outputs": [
    {
     "data": {
      "text/plain": [
       "array([[0, 0, 0, ..., 0, 0, 0],\n",
       "       [0, 0, 0, ..., 0, 0, 0],\n",
       "       [0, 0, 0, ..., 0, 0, 0],\n",
       "       ...,\n",
       "       [0, 0, 0, ..., 0, 0, 0],\n",
       "       [0, 0, 0, ..., 0, 0, 0],\n",
       "       [0, 0, 0, ..., 0, 0, 0]], dtype=int64)"
      ]
     },
     "execution_count": 5,
     "metadata": {},
     "output_type": "execute_result"
    }
   ],
   "source": [
    "X_train"
   ]
  },
  {
   "cell_type": "code",
   "execution_count": 6,
   "metadata": {
    "ExecuteTime": {
     "end_time": "2024-01-16T00:12:58.417661Z",
     "start_time": "2024-01-16T00:12:58.415605Z"
    },
    "id": "8y_8P4y3bb7D"
   },
   "outputs": [],
   "source": [
    "preprocessing_pipeline = make_pipeline(\n",
    "    Normalizer(),\n",
    ")"
   ]
  },
  {
   "cell_type": "markdown",
   "metadata": {},
   "source": [
    "* Tworzymy potok (`pipeline`) do wstępnego przetwarzania danych. W tym przypadku jest to tylko jeden krok: normalizacja za pomocą `Normalizer()`.\n",
    "* `Normalizer()` normalizuje dane, tzn. skaluje je tak, by ich normy (według normy L1, L2 lub max) były równe 1. Przydatne, gdy dane mają różne skale, a algorytmy klasyfikacji mogą być wrażliwe na różnice w skali cech."
   ]
  },
  {
   "cell_type": "markdown",
   "metadata": {},
   "source": [
    "Normy L1, L2 i max to różne metody skalowania danych w procesie normalizacji, które różnią się sposobem obliczania i interpretowania długości wektora (czyli odległości) w przestrzeni wielowymiarowej. Oto ich szczegóły:\n",
    "\n",
    "### 1. **Norma L1 (Manhattan)**:\n",
    "Norma L1, znana również jako norma Manhattan lub taksówkowa, oblicza sumę wartości bezwzględnych składników wektora:\n",
    "$\n",
    "\\|x\\|_1 = \\sum_{i=1}^n |x_i|\n",
    "$\n",
    "- **Przykład**: Jeśli wektor to $([1, -2, 3])$, to norma L1 będzie wynosić $( |1| + |-2| + |3| = 6 )$.\n",
    "- **Zastosowanie**: Norma L1 jest często używana w zadaniach związanych z minimalizowaniem funkcji kosztu w problemach związanych z wyborem cech lub w regularizacji (np. Lasso), ponieważ skłania do zerowania niektórych współczynników.\n",
    "\n",
    "### 2. **Norma L2 (Euklidesowa)**:\n",
    "Norma L2, znana również jako norma Euklidesowa, oblicza pierwiastek kwadratowy z sumy kwadratów składników wektora:\n",
    "$\n",
    "\\|x\\|_2 = \\sqrt{\\sum_{i=1}^n x_i^2}\n",
    "$\n",
    "- **Przykład**: Dla wektora $([1, -2, 3])$, norma L2 wynosi $( \\sqrt{1^2 + (-2)^2 + 3^2} = \\sqrt{1 + 4 + 9} = \\sqrt{14} \\approx 3.74 )$.\n",
    "- **Zastosowanie**: Norma L2 jest powszechnie stosowana w algorytmach takich jak regresja liniowa (Ridge) i w zadaniach optymalizacyjnych, gdzie chcemy zminimalizować wielkość wektora, nie eliminując całkowicie żadnej cechy.\n",
    "\n",
    "### 3. **Norma Max (Norma maksimum)**:\n",
    "Norma max (znana również jako norma supremum) oblicza maksymalną wartość bezwzględną składników wektora:\n",
    "$\n",
    "\\|x\\|_{\\infty} = \\max_i |x_i|\n",
    "$\n",
    "- **Przykład**: Dla wektora $([1, -2, 3])$, norma max wynosi $( \\max(|1|, |-2|, |3|) = 3 )$.\n",
    "- **Zastosowanie**: Norma max jest używana, gdy chcemy, by wartość cechy o największej wartości absolutnej miała dominujący wpływ na normalizację. Jest to także popularna norma w zadaniach, w których istotne jest utrzymanie ekstremalnych wartości cech."
   ]
  },
  {
   "cell_type": "code",
   "execution_count": 7,
   "metadata": {
    "ExecuteTime": {
     "end_time": "2024-01-16T00:12:58.422714Z",
     "start_time": "2024-01-16T00:12:58.418999Z"
    },
    "id": "LyEuA9iFb5VU"
   },
   "outputs": [],
   "source": [
    "full_pipeline = Pipeline([\n",
    "    ('preprocessing', preprocessing_pipeline),\n",
    "    ('classification', RandomForestClassifier(random_state=42)),\n",
    "])"
   ]
  },
  {
   "cell_type": "markdown",
   "metadata": {},
   "source": [
    "* `full_pipeline` to pełny potok, który zawiera dwa etapy:\n",
    "* **Preprocessing**: aplikacja wcześniej stworzonego potoku normalizacji.\n",
    "* **Classification**: klasyfikator `RandomForestClassifier`, który jest używany do trenowania modelu lasu losowego.\n",
    "* Parametr `random_state=42` w `RandomForestClassifier` zapewnia reprodukowalność wyników."
   ]
  },
  {
   "cell_type": "markdown",
   "metadata": {
    "id": "ZC01zOhKcbM6"
   },
   "source": [
    "Metoda przeszukiwania siatki - podobnie jak inne metody optymalizacji hiperparametrów - polega na jawnie wskazanych hiperparametrach oraz zbiorach lub zakresach ich wartości. Dla potrzeb biblioteki *Scikit-learn* należy je wskazać jako kolekcję zawierającą słowniki z przypisanymi wartościami kombinacji do przetestowania. Każdy z hiperparametrów musi mieć również poprzedzoną nazwę za pomocą prefixu będącego nazwą etapu w potoku końcowym."
   ]
  },
  {
   "cell_type": "code",
   "execution_count": 8,
   "metadata": {
    "ExecuteTime": {
     "end_time": "2024-01-16T00:14:12.323427Z",
     "start_time": "2024-01-16T00:14:12.302764Z"
    },
    "id": "oAtaRGk-cVUM"
   },
   "outputs": [],
   "source": [
    "hiperparam_grid = [{\n",
    "      'preprocessing__normalizer__norm': ('l1', 'l2', 'max'),\n",
    "      'classification__n_estimators': (16, 32, 64),\n",
    "      'classification__max_features': range(4, 14, 5),\n",
    "  }, {\n",
    "      'preprocessing__normalizer__norm': ('l1', 'l2', 'max'),\n",
    "      'classification__n_estimators': (64, 128, 256),\n",
    "      'classification__max_features': ('sqrt', 'log2'),\n",
    "}]"
   ]
  },
  {
   "cell_type": "markdown",
   "metadata": {},
   "source": [
    "`hiperparam_grid` to lista słowników z różnymi zestawami hiperparametrów, które będą testowane przez `GridSearchCV`.\n",
    "Każdy słownik zawiera:\n",
    "* `preprocessing__normalizer__norm`: różne możliwe normy do zastosowania w Normalizer (L1, L2, max).\n",
    "* `classification__n_estimators`: różna liczba drzew w lesie losowym (16, 32, 64, 128, 256).\n",
    "* `classification__max_features`: różne sposoby wyboru cech w klasyfikatorze (np. liczba cech lub funkcje takie jak 'sqrt' i 'log2')."
   ]
  },
  {
   "cell_type": "code",
   "execution_count": 9,
   "metadata": {
    "ExecuteTime": {
     "end_time": "2024-01-16T00:14:13.211829Z",
     "start_time": "2024-01-16T00:14:13.197519Z"
    },
    "id": "wi6mucveetMI"
   },
   "outputs": [],
   "source": [
    "grid_search = GridSearchCV(full_pipeline, hiperparam_grid, cv=5, scoring='accuracy')"
   ]
  },
  {
   "cell_type": "markdown",
   "metadata": {},
   "source": [
    "No i teraz trochę sobie poczekamy:"
   ]
  },
  {
   "cell_type": "markdown",
   "metadata": {},
   "source": [
    "Aby oszacować czas wykonania `GridSearchCV` dla podanych hiperparametrów i zbioru **MNIST_784**, musimy zrozumieć, ile kombinacji hiperparametrów zostanie przetestowanych, jak długo trwa jedna iteracja treningu i jak wiele iteracji będzie wykonanych ze względu na walidację krzyżową.\n",
    "\n",
    "### 1. **Ilość kombinacji hiperparametrów**\n",
    "Zadeklarowany `hiperparam_grid` zawiera dwa zestawy parametrów:\n",
    "```python\n",
    "hiperparam_grid = [\n",
    "    {\n",
    "        'preprocessing__normalizer__norm': ('l1', 'l2', 'max'),\n",
    "        'classification__n_estimators': (16, 32, 64),\n",
    "        'classification__max_features': range(4, 14, 5),\n",
    "    },\n",
    "    {\n",
    "        'preprocessing__normalizer__norm': ('l1', 'l2', 'max'),\n",
    "        'classification__n_estimators': (64, 128, 256),\n",
    "        'classification__max_features': ('sqrt', 'log2'),\n",
    "    }\n",
    "]\n",
    "```\n",
    "\n",
    "**Obliczenie liczby kombinacji w każdej siatce:**\n",
    "1. **Pierwszy słownik:**\n",
    "   - `preprocessing__normalizer__norm`: 3 wartości (`l1`, `l2`, `max`).\n",
    "   - `classification__n_estimators`: 3 wartości (16, 32, 64).\n",
    "   - `classification__max_features`: 3 wartości (4, 9, 14 z `range(4, 14, 5)`).\n",
    "   - Liczba kombinacji: $( 3 \\times 3 \\times 3 = 27 )$.\n",
    "\n",
    "2. **Drugi słownik:**\n",
    "   - `preprocessing__normalizer__norm`: 3 wartości (`l1`, `l2`, `max`).\n",
    "   - `classification__n_estimators`: 3 wartości (64, 128, 256).\n",
    "   - `classification__max_features`: 2 wartości (`sqrt`, `log2`).\n",
    "   - Liczba kombinacji: $( 3 \\times 3 \\times 2 = 18 )$.\n",
    "\n",
    "**Łączna liczba kombinacji hiperparametrów:**\n",
    "$\n",
    "27 + 18 = 45\n",
    "$\n",
    "\n",
    "### 2. **Walidacja krzyżowa (cross-validation)**\n",
    "- Ustawiono `cv=5`, co oznacza, że dla każdej kombinacji hiperparametrów model będzie trenowany 5 razy (na różnych podzbiorach danych).\n",
    "- Łączna liczba treningów:\n",
    "$\n",
    "45 \\times 5 = 225\n",
    "$\n",
    "\n",
    "### 3. **Czas trwania jednej iteracji treningu**\n",
    "- **MNIST_784** ma 60,000 próbek treningowych i 10,000 testowych, a każdy obraz to wektor o wymiarach 784.\n",
    "- Trening **RandomForestClassifier** na dużych zbiorach danych jest dość czasochłonny, zależnie od parametrów:\n",
    "  - **Liczba drzew**: większa liczba drzew (`n_estimators`) zwiększa czas treningu.\n",
    "  - **Max features**: wpływa na liczbę cech używanych w podziałach, co może zwiększyć lub zmniejszyć czas.\n",
    "  \n",
    "Dla przykładu:\n",
    "- Trening lasu losowego z domyślnymi ustawieniami (100 drzew) na pełnym zbiorze MNIST może trwać około **20-40 sekund** na nowoczesnym procesorze.\n",
    "- Ponieważ wartości `n_estimators` wynoszą od 16 do 256, czas treningu może wahać się od kilku do kilkudziesięciu sekund na jedną iterację.\n",
    "\n",
    "Przyjmijmy średni czas jednej iteracji na **30 sekund**.\n",
    "\n",
    "### 4. **Łączny czas obliczeń**\n",
    "$\n",
    "225 \\, \\text{iteracji} \\times 30 \\, \\text{sekund} = 6750 \\, \\text{sekund} \\approx 1,88 \\, \\text{godziny}\n",
    "$\n",
    "\n",
    "### 5. **Uwagi:**\n",
    "- **Sprzęt**: Czas wykonania zależy od dostępnego sprzętu (CPU, RAM) i możliwości równoległego przetwarzania (`n_jobs` w `GridSearchCV`).\n",
    "- **Optymalizacja**: Jeśli `n_jobs=-1` zostanie ustawione, procesy mogą być wykonywane równolegle, co znacznie skróci czas wykonania (np. na 4-rdzeniowym procesorze czas może spaść nawet do około 30-45 minut).\n",
    "\n",
    "### Podsumowanie:\n",
    "Na przeciętnym sprzęcie i bez równoległego przetwarzania, **GridSearchCV** dla podanego `hiperparam_grid` i zbioru **MNIST_784** może trwać około **1,5 do 2 godzin**. Z równoległym przetwarzaniem ten czas można znacznie skrócić."
   ]
  },
  {
   "cell_type": "code",
   "execution_count": 10,
   "metadata": {
    "ExecuteTime": {
     "start_time": "2024-01-16T00:14:14.206534Z"
    },
    "colab": {
     "base_uri": "https://localhost:8080/",
     "height": 173
    },
    "id": "lWwee8a3e_ib",
    "is_executing": true,
    "outputId": "24b76308-0b12-43b2-897a-22c5c49abaf4"
   },
   "outputs": [
    {
     "data": {
      "text/html": [
       "<style>#sk-container-id-1 {color: black;background-color: white;}#sk-container-id-1 pre{padding: 0;}#sk-container-id-1 div.sk-toggleable {background-color: white;}#sk-container-id-1 label.sk-toggleable__label {cursor: pointer;display: block;width: 100%;margin-bottom: 0;padding: 0.3em;box-sizing: border-box;text-align: center;}#sk-container-id-1 label.sk-toggleable__label-arrow:before {content: \"▸\";float: left;margin-right: 0.25em;color: #696969;}#sk-container-id-1 label.sk-toggleable__label-arrow:hover:before {color: black;}#sk-container-id-1 div.sk-estimator:hover label.sk-toggleable__label-arrow:before {color: black;}#sk-container-id-1 div.sk-toggleable__content {max-height: 0;max-width: 0;overflow: hidden;text-align: left;background-color: #f0f8ff;}#sk-container-id-1 div.sk-toggleable__content pre {margin: 0.2em;color: black;border-radius: 0.25em;background-color: #f0f8ff;}#sk-container-id-1 input.sk-toggleable__control:checked~div.sk-toggleable__content {max-height: 200px;max-width: 100%;overflow: auto;}#sk-container-id-1 input.sk-toggleable__control:checked~label.sk-toggleable__label-arrow:before {content: \"▾\";}#sk-container-id-1 div.sk-estimator input.sk-toggleable__control:checked~label.sk-toggleable__label {background-color: #d4ebff;}#sk-container-id-1 div.sk-label input.sk-toggleable__control:checked~label.sk-toggleable__label {background-color: #d4ebff;}#sk-container-id-1 input.sk-hidden--visually {border: 0;clip: rect(1px 1px 1px 1px);clip: rect(1px, 1px, 1px, 1px);height: 1px;margin: -1px;overflow: hidden;padding: 0;position: absolute;width: 1px;}#sk-container-id-1 div.sk-estimator {font-family: monospace;background-color: #f0f8ff;border: 1px dotted black;border-radius: 0.25em;box-sizing: border-box;margin-bottom: 0.5em;}#sk-container-id-1 div.sk-estimator:hover {background-color: #d4ebff;}#sk-container-id-1 div.sk-parallel-item::after {content: \"\";width: 100%;border-bottom: 1px solid gray;flex-grow: 1;}#sk-container-id-1 div.sk-label:hover label.sk-toggleable__label {background-color: #d4ebff;}#sk-container-id-1 div.sk-serial::before {content: \"\";position: absolute;border-left: 1px solid gray;box-sizing: border-box;top: 0;bottom: 0;left: 50%;z-index: 0;}#sk-container-id-1 div.sk-serial {display: flex;flex-direction: column;align-items: center;background-color: white;padding-right: 0.2em;padding-left: 0.2em;position: relative;}#sk-container-id-1 div.sk-item {position: relative;z-index: 1;}#sk-container-id-1 div.sk-parallel {display: flex;align-items: stretch;justify-content: center;background-color: white;position: relative;}#sk-container-id-1 div.sk-item::before, #sk-container-id-1 div.sk-parallel-item::before {content: \"\";position: absolute;border-left: 1px solid gray;box-sizing: border-box;top: 0;bottom: 0;left: 50%;z-index: -1;}#sk-container-id-1 div.sk-parallel-item {display: flex;flex-direction: column;z-index: 1;position: relative;background-color: white;}#sk-container-id-1 div.sk-parallel-item:first-child::after {align-self: flex-end;width: 50%;}#sk-container-id-1 div.sk-parallel-item:last-child::after {align-self: flex-start;width: 50%;}#sk-container-id-1 div.sk-parallel-item:only-child::after {width: 0;}#sk-container-id-1 div.sk-dashed-wrapped {border: 1px dashed gray;margin: 0 0.4em 0.5em 0.4em;box-sizing: border-box;padding-bottom: 0.4em;background-color: white;}#sk-container-id-1 div.sk-label label {font-family: monospace;font-weight: bold;display: inline-block;line-height: 1.2em;}#sk-container-id-1 div.sk-label-container {text-align: center;}#sk-container-id-1 div.sk-container {/* jupyter's `normalize.less` sets `[hidden] { display: none; }` but bootstrap.min.css set `[hidden] { display: none !important; }` so we also need the `!important` here to be able to override the default hidden behavior on the sphinx rendered scikit-learn.org. See: https://github.com/scikit-learn/scikit-learn/issues/21755 */display: inline-block !important;position: relative;}#sk-container-id-1 div.sk-text-repr-fallback {display: none;}</style><div id=\"sk-container-id-1\" class=\"sk-top-container\"><div class=\"sk-text-repr-fallback\"><pre>GridSearchCV(cv=5,\n",
       "             estimator=Pipeline(steps=[(&#x27;preprocessing&#x27;,\n",
       "                                        Pipeline(steps=[(&#x27;normalizer&#x27;,\n",
       "                                                         Normalizer())])),\n",
       "                                       (&#x27;classification&#x27;,\n",
       "                                        RandomForestClassifier(random_state=42))]),\n",
       "             param_grid=[{&#x27;classification__max_features&#x27;: range(4, 14, 5),\n",
       "                          &#x27;classification__n_estimators&#x27;: (16, 32, 64),\n",
       "                          &#x27;preprocessing__normalizer__norm&#x27;: (&#x27;l1&#x27;, &#x27;l2&#x27;,\n",
       "                                                              &#x27;max&#x27;)},\n",
       "                         {&#x27;classification__max_features&#x27;: (&#x27;sqrt&#x27;, &#x27;log2&#x27;),\n",
       "                          &#x27;classification__n_estimators&#x27;: (64, 128, 256),\n",
       "                          &#x27;preprocessing__normalizer__norm&#x27;: (&#x27;l1&#x27;, &#x27;l2&#x27;,\n",
       "                                                              &#x27;max&#x27;)}],\n",
       "             scoring=&#x27;accuracy&#x27;)</pre><b>In a Jupyter environment, please rerun this cell to show the HTML representation or trust the notebook. <br />On GitHub, the HTML representation is unable to render, please try loading this page with nbviewer.org.</b></div><div class=\"sk-container\" hidden><div class=\"sk-item sk-dashed-wrapped\"><div class=\"sk-label-container\"><div class=\"sk-label sk-toggleable\"><input class=\"sk-toggleable__control sk-hidden--visually\" id=\"sk-estimator-id-1\" type=\"checkbox\" ><label for=\"sk-estimator-id-1\" class=\"sk-toggleable__label sk-toggleable__label-arrow\">GridSearchCV</label><div class=\"sk-toggleable__content\"><pre>GridSearchCV(cv=5,\n",
       "             estimator=Pipeline(steps=[(&#x27;preprocessing&#x27;,\n",
       "                                        Pipeline(steps=[(&#x27;normalizer&#x27;,\n",
       "                                                         Normalizer())])),\n",
       "                                       (&#x27;classification&#x27;,\n",
       "                                        RandomForestClassifier(random_state=42))]),\n",
       "             param_grid=[{&#x27;classification__max_features&#x27;: range(4, 14, 5),\n",
       "                          &#x27;classification__n_estimators&#x27;: (16, 32, 64),\n",
       "                          &#x27;preprocessing__normalizer__norm&#x27;: (&#x27;l1&#x27;, &#x27;l2&#x27;,\n",
       "                                                              &#x27;max&#x27;)},\n",
       "                         {&#x27;classification__max_features&#x27;: (&#x27;sqrt&#x27;, &#x27;log2&#x27;),\n",
       "                          &#x27;classification__n_estimators&#x27;: (64, 128, 256),\n",
       "                          &#x27;preprocessing__normalizer__norm&#x27;: (&#x27;l1&#x27;, &#x27;l2&#x27;,\n",
       "                                                              &#x27;max&#x27;)}],\n",
       "             scoring=&#x27;accuracy&#x27;)</pre></div></div></div><div class=\"sk-parallel\"><div class=\"sk-parallel-item\"><div class=\"sk-item\"><div class=\"sk-label-container\"><div class=\"sk-label sk-toggleable\"><input class=\"sk-toggleable__control sk-hidden--visually\" id=\"sk-estimator-id-2\" type=\"checkbox\" ><label for=\"sk-estimator-id-2\" class=\"sk-toggleable__label sk-toggleable__label-arrow\">estimator: Pipeline</label><div class=\"sk-toggleable__content\"><pre>Pipeline(steps=[(&#x27;preprocessing&#x27;,\n",
       "                 Pipeline(steps=[(&#x27;normalizer&#x27;, Normalizer())])),\n",
       "                (&#x27;classification&#x27;, RandomForestClassifier(random_state=42))])</pre></div></div></div><div class=\"sk-serial\"><div class=\"sk-item\"><div class=\"sk-serial\"><div class=\"sk-item\"><div class=\"sk-label-container\"><div class=\"sk-label sk-toggleable\"><input class=\"sk-toggleable__control sk-hidden--visually\" id=\"sk-estimator-id-3\" type=\"checkbox\" ><label for=\"sk-estimator-id-3\" class=\"sk-toggleable__label sk-toggleable__label-arrow\">preprocessing: Pipeline</label><div class=\"sk-toggleable__content\"><pre>Pipeline(steps=[(&#x27;normalizer&#x27;, Normalizer())])</pre></div></div></div><div class=\"sk-serial\"><div class=\"sk-item\"><div class=\"sk-estimator sk-toggleable\"><input class=\"sk-toggleable__control sk-hidden--visually\" id=\"sk-estimator-id-4\" type=\"checkbox\" ><label for=\"sk-estimator-id-4\" class=\"sk-toggleable__label sk-toggleable__label-arrow\">Normalizer</label><div class=\"sk-toggleable__content\"><pre>Normalizer()</pre></div></div></div></div></div><div class=\"sk-item\"><div class=\"sk-estimator sk-toggleable\"><input class=\"sk-toggleable__control sk-hidden--visually\" id=\"sk-estimator-id-5\" type=\"checkbox\" ><label for=\"sk-estimator-id-5\" class=\"sk-toggleable__label sk-toggleable__label-arrow\">RandomForestClassifier</label><div class=\"sk-toggleable__content\"><pre>RandomForestClassifier(random_state=42)</pre></div></div></div></div></div></div></div></div></div></div></div></div>"
      ],
      "text/plain": [
       "GridSearchCV(cv=5,\n",
       "             estimator=Pipeline(steps=[('preprocessing',\n",
       "                                        Pipeline(steps=[('normalizer',\n",
       "                                                         Normalizer())])),\n",
       "                                       ('classification',\n",
       "                                        RandomForestClassifier(random_state=42))]),\n",
       "             param_grid=[{'classification__max_features': range(4, 14, 5),\n",
       "                          'classification__n_estimators': (16, 32, 64),\n",
       "                          'preprocessing__normalizer__norm': ('l1', 'l2',\n",
       "                                                              'max')},\n",
       "                         {'classification__max_features': ('sqrt', 'log2'),\n",
       "                          'classification__n_estimators': (64, 128, 256),\n",
       "                          'preprocessing__normalizer__norm': ('l1', 'l2',\n",
       "                                                              'max')}],\n",
       "             scoring='accuracy')"
      ]
     },
     "execution_count": 10,
     "metadata": {},
     "output_type": "execute_result"
    }
   ],
   "source": [
    "grid_search.fit(X_train, y_train)"
   ]
  },
  {
   "cell_type": "markdown",
   "metadata": {},
   "source": [
    "U nas podziałało w około 1h 49 minut."
   ]
  },
  {
   "cell_type": "markdown",
   "metadata": {
    "id": "RVph8mULgxzp"
   },
   "source": [
    "Za pomocą atrybutu *best_params_* można uzyskać najlepszą znalezioną kombinację hiperparametrów."
   ]
  },
  {
   "cell_type": "code",
   "execution_count": 11,
   "metadata": {
    "colab": {
     "base_uri": "https://localhost:8080/"
    },
    "id": "IXpKGHg1fDfy",
    "is_executing": true,
    "outputId": "fe708c9e-89ae-47c8-a775-536d5d22f212"
   },
   "outputs": [
    {
     "data": {
      "text/plain": [
       "{'classification__max_features': 'sqrt',\n",
       " 'classification__n_estimators': 256,\n",
       " 'preprocessing__normalizer__norm': 'max'}"
      ]
     },
     "execution_count": 11,
     "metadata": {},
     "output_type": "execute_result"
    }
   ],
   "source": [
    "grid_search.best_params_"
   ]
  },
  {
   "cell_type": "markdown",
   "metadata": {
    "id": "NWfaGrZrhKmL"
   },
   "source": [
    "Obiekt klasy *GridSearchCV* może zostać z powodzeniem wykorzystany jako estymator podczas wyznaczania decyzji dla danych testowych."
   ]
  },
  {
   "cell_type": "code",
   "execution_count": 12,
   "metadata": {
    "id": "fWKjmVm3hS8E",
    "is_executing": true
   },
   "outputs": [],
   "source": [
    "y_pred = grid_search.predict(X_test)"
   ]
  },
  {
   "cell_type": "markdown",
   "metadata": {
    "id": "N-64dgrIhflK"
   },
   "source": [
    "Z łatwością można zauważyć, że deterministyczna metoda przeszukiwania siatki polega na sprawdzaniu wszystkich kombinacji. Dla trzech hiperparametrów, z których każdy ma zbiór trzech wartości do sprawdzenia, należy wykonać 9 cykli trening-test (zasada mnożenia). Przy 5-krotnej walidacji krzyżowej liczba cykli wzrasta do 135."
   ]
  },
  {
   "cell_type": "markdown",
   "metadata": {
    "id": "ogZ-_bAQuqmh"
   },
   "source": [
    "Do uzyskania bezpośredniego wyniku dla danych testowych można wykorzystać także metodę *score*."
   ]
  },
  {
   "cell_type": "code",
   "execution_count": 13,
   "metadata": {
    "colab": {
     "base_uri": "https://localhost:8080/"
    },
    "id": "y5ya84aVuvVJ",
    "is_executing": true,
    "outputId": "32f4353a-3c62-42be-ffae-542029364daf"
   },
   "outputs": [
    {
     "data": {
      "text/plain": [
       "0.9717142857142858"
      ]
     },
     "execution_count": 13,
     "metadata": {},
     "output_type": "execute_result"
    }
   ],
   "source": [
    "grid_search.score(X_test, y_test)"
   ]
  },
  {
   "cell_type": "markdown",
   "metadata": {
    "id": "ouW7R1WciCNq"
   },
   "source": [
    "## Metoda losowego przeszukiwania siatki\n",
    "\n",
    "W przypadku dużych przestrzeni hiperparametrów, czas ich optymalizacji może być bardzo długi. Metoda ta sprawdza się więc w przypadku niewielkich przestrzeni. W przypadku większych znacznie lepiej sprawdza się **metoda losowego przesukiwania siatki**, która polega na stochastycznym podpróbkowaniu przestrzeni hiperparametrów, co wpływa na zmniejszenie liczby cykli trening-test i - co się z tym wiąże - na skrócenie czasu trwania operacji. Do realizacji procesu losowego przeszukiwania siatki w bibliotece Scikit-learn przeznaczona jest klasa [RandomizedSearchCV](https://scikit-learn.org/stable/modules/generated/sklearn.model_selection.RandomizedSearchCV.html)."
   ]
  },
  {
   "cell_type": "code",
   "execution_count": 14,
   "metadata": {
    "id": "Y50tIU2oiA_0",
    "is_executing": true
   },
   "outputs": [],
   "source": [
    "import math\n",
    "from scipy.stats import randint\n",
    "from sklearn.model_selection import RandomizedSearchCV"
   ]
  },
  {
   "cell_type": "markdown",
   "metadata": {
    "id": "2OpXCKQDjjd8"
   },
   "source": [
    "Warto mieć na uwadze fakt, że w przypadku korzystania z klasy *RandomizedSearchCV* należy wskazać zakres losowego próbkowania poszczegolnych hiperparametrów zamiast zbioru ich wartości."
   ]
  },
  {
   "cell_type": "code",
   "execution_count": 15,
   "metadata": {
    "id": "731VAa2fjY_L",
    "is_executing": true
   },
   "outputs": [],
   "source": [
    "hiperparam_distributions = {\n",
    "    'preprocessing__normalizer__norm': ('l1', 'l2', 'max'),\n",
    "    'classification__n_estimators': randint(16, 256),\n",
    "    'classification__max_features': randint(4, int(math.sqrt(len(X[0]))))\n",
    "}"
   ]
  },
  {
   "cell_type": "code",
   "execution_count": 16,
   "metadata": {
    "id": "Qn7SoQQskZkV",
    "is_executing": true
   },
   "outputs": [],
   "source": [
    "randomized_search = RandomizedSearchCV(\n",
    "    full_pipeline,\n",
    "    hiperparam_distributions,\n",
    "    n_iter=10,\n",
    "    cv=5,\n",
    "    scoring='accuracy',\n",
    "    random_state=42,\n",
    ")"
   ]
  },
  {
   "cell_type": "markdown",
   "metadata": {},
   "source": [
    "W przypadku **`RandomizedSearchCV`**, czas wykonania zależy od liczby losowych prób (`n_iter`) określonych w parametrze. W kodzie ustawiono:\n",
    "\n",
    "```python\n",
    "n_iter=10\n",
    "```\n",
    "\n",
    "Oznacza to, że zamiast testować wszystkie 45 kombinacji hiperparametrów (jak w przypadku `GridSearchCV`), **`RandomizedSearchCV`** przetestuje tylko **10 losowych kombinacji**. To znacząco zmniejsza czas obliczeń.\n",
    "\n",
    "### 1. **Liczba iteracji**\n",
    "Liczba iteracji dla `RandomizedSearchCV` to po prostu:\n",
    "$\n",
    "\\text{10} \\times \\text{cv} = 10 \\times 5 = 50\n",
    "$\n",
    "Oznacza to, że model będzie trenowany 50 razy (w porównaniu do 225 razy w `GridSearchCV`).\n",
    "\n",
    "### 2. **Czas trwania jednej iteracji**\n",
    "Przyjmijmy, że średni czas treningu jednej iteracji wynosi **30 sekund** (jak wcześniej obliczono dla `RandomForestClassifier` na zbiorze **MNIST_784**).\n",
    "\n",
    "### 3. **Łączny czas obliczeń**\n",
    "$\n",
    "50 \\, \\text{iteracji} \\times 30 \\, \\text{sekund} = 1500 \\, \\text{sekund} = 25 \\, \\text{minut}\n",
    "$\n",
    "\n",
    "### 4. **Uwagi dotyczące sprzętu i optymalizacji**\n",
    "- **Sprzęt**: Jeśli użyjesz parametru `n_jobs=-1`, procesy będą wykonywane równolegle, co dodatkowo skróci czas obliczeń.\n",
    "- **Równoległość**: Na przykład na 4-rdzeniowym procesorze czas może wynosić około **6-8 minut** przy równoległym przetwarzaniu.\n",
    "\n",
    "### Porównanie z `GridSearchCV`\n",
    "- **`GridSearchCV`**: Ok. **1,5–2 godziny**.\n",
    "- **`RandomizedSearchCV`**: Ok. **25 minut** bez równoległości, a z równoległością około **6–8 minut**.\n",
    "\n",
    "### Dlaczego `RandomizedSearchCV` jest szybszy?\n",
    "Zamiast testować wszystkie możliwe kombinacje hiperparametrów, `RandomizedSearchCV` losowo próbuje tylko niewielką podgrupę, co pozwala zaoszczędzić czas obliczeniowy. W praktyce często osiąga porównywalne wyniki przy znacznie mniejszym nakładzie obliczeń, zwłaszcza przy dużych przestrzeniach hiperparametrów."
   ]
  },
  {
   "cell_type": "code",
   "execution_count": 17,
   "metadata": {
    "colab": {
     "base_uri": "https://localhost:8080/",
     "height": 173
    },
    "id": "Z2bSWZpakqnF",
    "is_executing": true,
    "outputId": "da0d6fdb-37fc-466f-f1cd-84115c95b4a0"
   },
   "outputs": [
    {
     "data": {
      "text/html": [
       "<style>#sk-container-id-2 {color: black;background-color: white;}#sk-container-id-2 pre{padding: 0;}#sk-container-id-2 div.sk-toggleable {background-color: white;}#sk-container-id-2 label.sk-toggleable__label {cursor: pointer;display: block;width: 100%;margin-bottom: 0;padding: 0.3em;box-sizing: border-box;text-align: center;}#sk-container-id-2 label.sk-toggleable__label-arrow:before {content: \"▸\";float: left;margin-right: 0.25em;color: #696969;}#sk-container-id-2 label.sk-toggleable__label-arrow:hover:before {color: black;}#sk-container-id-2 div.sk-estimator:hover label.sk-toggleable__label-arrow:before {color: black;}#sk-container-id-2 div.sk-toggleable__content {max-height: 0;max-width: 0;overflow: hidden;text-align: left;background-color: #f0f8ff;}#sk-container-id-2 div.sk-toggleable__content pre {margin: 0.2em;color: black;border-radius: 0.25em;background-color: #f0f8ff;}#sk-container-id-2 input.sk-toggleable__control:checked~div.sk-toggleable__content {max-height: 200px;max-width: 100%;overflow: auto;}#sk-container-id-2 input.sk-toggleable__control:checked~label.sk-toggleable__label-arrow:before {content: \"▾\";}#sk-container-id-2 div.sk-estimator input.sk-toggleable__control:checked~label.sk-toggleable__label {background-color: #d4ebff;}#sk-container-id-2 div.sk-label input.sk-toggleable__control:checked~label.sk-toggleable__label {background-color: #d4ebff;}#sk-container-id-2 input.sk-hidden--visually {border: 0;clip: rect(1px 1px 1px 1px);clip: rect(1px, 1px, 1px, 1px);height: 1px;margin: -1px;overflow: hidden;padding: 0;position: absolute;width: 1px;}#sk-container-id-2 div.sk-estimator {font-family: monospace;background-color: #f0f8ff;border: 1px dotted black;border-radius: 0.25em;box-sizing: border-box;margin-bottom: 0.5em;}#sk-container-id-2 div.sk-estimator:hover {background-color: #d4ebff;}#sk-container-id-2 div.sk-parallel-item::after {content: \"\";width: 100%;border-bottom: 1px solid gray;flex-grow: 1;}#sk-container-id-2 div.sk-label:hover label.sk-toggleable__label {background-color: #d4ebff;}#sk-container-id-2 div.sk-serial::before {content: \"\";position: absolute;border-left: 1px solid gray;box-sizing: border-box;top: 0;bottom: 0;left: 50%;z-index: 0;}#sk-container-id-2 div.sk-serial {display: flex;flex-direction: column;align-items: center;background-color: white;padding-right: 0.2em;padding-left: 0.2em;position: relative;}#sk-container-id-2 div.sk-item {position: relative;z-index: 1;}#sk-container-id-2 div.sk-parallel {display: flex;align-items: stretch;justify-content: center;background-color: white;position: relative;}#sk-container-id-2 div.sk-item::before, #sk-container-id-2 div.sk-parallel-item::before {content: \"\";position: absolute;border-left: 1px solid gray;box-sizing: border-box;top: 0;bottom: 0;left: 50%;z-index: -1;}#sk-container-id-2 div.sk-parallel-item {display: flex;flex-direction: column;z-index: 1;position: relative;background-color: white;}#sk-container-id-2 div.sk-parallel-item:first-child::after {align-self: flex-end;width: 50%;}#sk-container-id-2 div.sk-parallel-item:last-child::after {align-self: flex-start;width: 50%;}#sk-container-id-2 div.sk-parallel-item:only-child::after {width: 0;}#sk-container-id-2 div.sk-dashed-wrapped {border: 1px dashed gray;margin: 0 0.4em 0.5em 0.4em;box-sizing: border-box;padding-bottom: 0.4em;background-color: white;}#sk-container-id-2 div.sk-label label {font-family: monospace;font-weight: bold;display: inline-block;line-height: 1.2em;}#sk-container-id-2 div.sk-label-container {text-align: center;}#sk-container-id-2 div.sk-container {/* jupyter's `normalize.less` sets `[hidden] { display: none; }` but bootstrap.min.css set `[hidden] { display: none !important; }` so we also need the `!important` here to be able to override the default hidden behavior on the sphinx rendered scikit-learn.org. See: https://github.com/scikit-learn/scikit-learn/issues/21755 */display: inline-block !important;position: relative;}#sk-container-id-2 div.sk-text-repr-fallback {display: none;}</style><div id=\"sk-container-id-2\" class=\"sk-top-container\"><div class=\"sk-text-repr-fallback\"><pre>RandomizedSearchCV(cv=5,\n",
       "                   estimator=Pipeline(steps=[(&#x27;preprocessing&#x27;,\n",
       "                                              Pipeline(steps=[(&#x27;normalizer&#x27;,\n",
       "                                                               Normalizer())])),\n",
       "                                             (&#x27;classification&#x27;,\n",
       "                                              RandomForestClassifier(random_state=42))]),\n",
       "                   param_distributions={&#x27;classification__max_features&#x27;: &lt;scipy.stats._distn_infrastructure.rv_discrete_frozen object at 0x000001AA8182EB00&gt;,\n",
       "                                        &#x27;classification__n_estimators&#x27;: &lt;scipy.stats._distn_infrastructure.rv_discrete_frozen object at 0x000001AA8182F580&gt;,\n",
       "                                        &#x27;preprocessing__normalizer__norm&#x27;: (&#x27;l1&#x27;,\n",
       "                                                                            &#x27;l2&#x27;,\n",
       "                                                                            &#x27;max&#x27;)},\n",
       "                   random_state=42, scoring=&#x27;accuracy&#x27;)</pre><b>In a Jupyter environment, please rerun this cell to show the HTML representation or trust the notebook. <br />On GitHub, the HTML representation is unable to render, please try loading this page with nbviewer.org.</b></div><div class=\"sk-container\" hidden><div class=\"sk-item sk-dashed-wrapped\"><div class=\"sk-label-container\"><div class=\"sk-label sk-toggleable\"><input class=\"sk-toggleable__control sk-hidden--visually\" id=\"sk-estimator-id-6\" type=\"checkbox\" ><label for=\"sk-estimator-id-6\" class=\"sk-toggleable__label sk-toggleable__label-arrow\">RandomizedSearchCV</label><div class=\"sk-toggleable__content\"><pre>RandomizedSearchCV(cv=5,\n",
       "                   estimator=Pipeline(steps=[(&#x27;preprocessing&#x27;,\n",
       "                                              Pipeline(steps=[(&#x27;normalizer&#x27;,\n",
       "                                                               Normalizer())])),\n",
       "                                             (&#x27;classification&#x27;,\n",
       "                                              RandomForestClassifier(random_state=42))]),\n",
       "                   param_distributions={&#x27;classification__max_features&#x27;: &lt;scipy.stats._distn_infrastructure.rv_discrete_frozen object at 0x000001AA8182EB00&gt;,\n",
       "                                        &#x27;classification__n_estimators&#x27;: &lt;scipy.stats._distn_infrastructure.rv_discrete_frozen object at 0x000001AA8182F580&gt;,\n",
       "                                        &#x27;preprocessing__normalizer__norm&#x27;: (&#x27;l1&#x27;,\n",
       "                                                                            &#x27;l2&#x27;,\n",
       "                                                                            &#x27;max&#x27;)},\n",
       "                   random_state=42, scoring=&#x27;accuracy&#x27;)</pre></div></div></div><div class=\"sk-parallel\"><div class=\"sk-parallel-item\"><div class=\"sk-item\"><div class=\"sk-label-container\"><div class=\"sk-label sk-toggleable\"><input class=\"sk-toggleable__control sk-hidden--visually\" id=\"sk-estimator-id-7\" type=\"checkbox\" ><label for=\"sk-estimator-id-7\" class=\"sk-toggleable__label sk-toggleable__label-arrow\">estimator: Pipeline</label><div class=\"sk-toggleable__content\"><pre>Pipeline(steps=[(&#x27;preprocessing&#x27;,\n",
       "                 Pipeline(steps=[(&#x27;normalizer&#x27;, Normalizer())])),\n",
       "                (&#x27;classification&#x27;, RandomForestClassifier(random_state=42))])</pre></div></div></div><div class=\"sk-serial\"><div class=\"sk-item\"><div class=\"sk-serial\"><div class=\"sk-item\"><div class=\"sk-label-container\"><div class=\"sk-label sk-toggleable\"><input class=\"sk-toggleable__control sk-hidden--visually\" id=\"sk-estimator-id-8\" type=\"checkbox\" ><label for=\"sk-estimator-id-8\" class=\"sk-toggleable__label sk-toggleable__label-arrow\">preprocessing: Pipeline</label><div class=\"sk-toggleable__content\"><pre>Pipeline(steps=[(&#x27;normalizer&#x27;, Normalizer())])</pre></div></div></div><div class=\"sk-serial\"><div class=\"sk-item\"><div class=\"sk-estimator sk-toggleable\"><input class=\"sk-toggleable__control sk-hidden--visually\" id=\"sk-estimator-id-9\" type=\"checkbox\" ><label for=\"sk-estimator-id-9\" class=\"sk-toggleable__label sk-toggleable__label-arrow\">Normalizer</label><div class=\"sk-toggleable__content\"><pre>Normalizer()</pre></div></div></div></div></div><div class=\"sk-item\"><div class=\"sk-estimator sk-toggleable\"><input class=\"sk-toggleable__control sk-hidden--visually\" id=\"sk-estimator-id-10\" type=\"checkbox\" ><label for=\"sk-estimator-id-10\" class=\"sk-toggleable__label sk-toggleable__label-arrow\">RandomForestClassifier</label><div class=\"sk-toggleable__content\"><pre>RandomForestClassifier(random_state=42)</pre></div></div></div></div></div></div></div></div></div></div></div></div>"
      ],
      "text/plain": [
       "RandomizedSearchCV(cv=5,\n",
       "                   estimator=Pipeline(steps=[('preprocessing',\n",
       "                                              Pipeline(steps=[('normalizer',\n",
       "                                                               Normalizer())])),\n",
       "                                             ('classification',\n",
       "                                              RandomForestClassifier(random_state=42))]),\n",
       "                   param_distributions={'classification__max_features': <scipy.stats._distn_infrastructure.rv_discrete_frozen object at 0x000001AA8182EB00>,\n",
       "                                        'classification__n_estimators': <scipy.stats._distn_infrastructure.rv_discrete_frozen object at 0x000001AA8182F580>,\n",
       "                                        'preprocessing__normalizer__norm': ('l1',\n",
       "                                                                            'l2',\n",
       "                                                                            'max')},\n",
       "                   random_state=42, scoring='accuracy')"
      ]
     },
     "execution_count": 17,
     "metadata": {},
     "output_type": "execute_result"
    }
   ],
   "source": [
    "randomized_search.fit(X_train, y_train)"
   ]
  },
  {
   "cell_type": "markdown",
   "metadata": {},
   "source": [
    "U nas wykonywał się 52 minuty. Jest to 2x więcej niż przewidywanie, ale też2x krócej niż `GridSearchCv`.\n",
    "\n",
    "### Dlaczego nasz czas różni się od wyliczonego?\n",
    "W przypadku RandomizedSearchCV, wartości losowo wybrane w n_iter=10 mogły zawierać:\n",
    "* Duże wartości n_estimators: Jeśli losowo wybrane kombinacje miały np. n_estimators=256 częściej niż w GridSearchCV, czas jednej iteracji mógł wzrosnąć.\n",
    "* Więcej cech (max_features): Wyższe wartości cech (np. 28 w randint(4, 28)) zwiększają obciążenie przy dzieleniu węzłów drzewa, co wydłuża czas treningu.\n",
    "W GridSearchCV czas wykonania jest bardziej przewidywalny, ponieważ wszystkie kombinacje są testowane, a liczba drzew (np. n_estimators=16, 32, 64) jest relatywnie niska w porównaniu do maksymalnej wartości losowanej w RandomizedSearchCV.\n",
    "\n",
    "RandomizedSearchCV jest losowy, więc konkretne wartości hiperparametrów mogą być czasochłonniejsze w porównaniu do regularnych wartości z GridSearchCV. Przykłady:\n",
    "* Jeśli większość losowo wybranych wartości to wyższe n_estimators i max_features, czas przetwarzania się wydłużył.\n",
    "* Dodatkowe czynniki (np. większa liczba głębokich drzew w losowo wybranych konfiguracjach) mogły wydłużyć czas treningu."
   ]
  },
  {
   "cell_type": "markdown",
   "metadata": {
    "id": "hIVPg6qWkwUH"
   },
   "source": [
    "Dostęp do najbardziej optymalnych hiperparametrów modelu oraz metody wyznaczania prognoz dla nowych obiektów pozostaje ten sam, co w przypadku klasy *GridSearchCV*."
   ]
  },
  {
   "cell_type": "code",
   "execution_count": 18,
   "metadata": {
    "colab": {
     "base_uri": "https://localhost:8080/"
    },
    "id": "6YXsPS3jkud3",
    "is_executing": true,
    "outputId": "fc1f09e3-7cd0-48bf-d0d2-52c69d21d0b9"
   },
   "outputs": [
    {
     "data": {
      "text/plain": [
       "{'classification__max_features': 22,\n",
       " 'classification__n_estimators': 230,\n",
       " 'preprocessing__normalizer__norm': 'max'}"
      ]
     },
     "execution_count": 18,
     "metadata": {},
     "output_type": "execute_result"
    }
   ],
   "source": [
    "randomized_search.best_params_"
   ]
  },
  {
   "cell_type": "code",
   "execution_count": 19,
   "metadata": {
    "id": "pgrM9GMslCBA",
    "is_executing": true
   },
   "outputs": [],
   "source": [
    "y_pred = randomized_search.predict(X_test)"
   ]
  },
  {
   "cell_type": "code",
   "execution_count": 20,
   "metadata": {
    "colab": {
     "base_uri": "https://localhost:8080/"
    },
    "id": "85uCmtm5xgsv",
    "is_executing": true,
    "outputId": "94d78b8b-44ae-4c92-a9b0-757d85325cbc"
   },
   "outputs": [
    {
     "data": {
      "text/plain": [
       "0.9714285714285714"
      ]
     },
     "execution_count": 20,
     "metadata": {},
     "output_type": "execute_result"
    }
   ],
   "source": [
    "randomized_search.score(X_test, y_test)"
   ]
  },
  {
   "cell_type": "markdown",
   "metadata": {
    "id": "UsxH9VDzlOXI"
   },
   "source": [
    "## Zadania\n",
    "\n",
    "1. Pobrać zbiór danych *Fashion-MNIST* (https://www.openml.org/search?type=data&status=active&id=40996) za pomocą funkcji *fetch_openml*, a następnie porównać wyniki dokładności, precyzji, pełności i czułości dla hiperparametrów lasu losowego i algorytmu k-NN za pomocą deterministycznej i stochastycznej metody przeszukiwania siatki.\n",
    "2. Która z metod szybciej znalazła rozwiązanie?\n",
    "3. Który z zestawów hiperparametrów zapewnił dokładniejsze wyniki klasyfikacji dla danych testowych?"
   ]
  }
 ],
 "metadata": {
  "colab": {
   "provenance": []
  },
  "kernelspec": {
   "display_name": "Python 3 (ipykernel)",
   "language": "python",
   "name": "python3"
  },
  "language_info": {
   "codemirror_mode": {
    "name": "ipython",
    "version": 3
   },
   "file_extension": ".py",
   "mimetype": "text/x-python",
   "name": "python",
   "nbconvert_exporter": "python",
   "pygments_lexer": "ipython3",
   "version": "3.10.11"
  }
 },
 "nbformat": 4,
 "nbformat_minor": 0
}
